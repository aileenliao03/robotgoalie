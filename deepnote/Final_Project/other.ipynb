{
  "cells": [
    {
      "cell_type": "code",
      "source": "\"\"\"\nx0=[ 5.0 ,  1.0 ,  0. ,  0.,  0.,  0.,  0.,   0. ,  0. ,  0.  , 0. ,  0.  , 0. ,  0. , 0. ,  0. ,  0. ,  0. ,  0. ,  0. ]\nstation.GetInputPort(\"spot.desired_state\").FixValue(context, x0)\nmeshcat.StartRecording()\nx0 = station.GetOutputPort(\"spot.state_estimated\").Eval(context)\nprint(x0)\nx0[0]+=1.0\n#x0[7]+=0.1\n#x0=[ 3. ,  0. ,  0. ,  0.,  0.,  0.,  0.,   0. ,  0. ,  0.  , 0. ,  0.  , 0. ,  0. , 0. ,  0. ,  0. ,  0. ,  0. ,  0. ]\nstation.GetInputPort(\"spot.desired_state\").FixValue(context, x0)\nsimulator.AdvanceTo(10.0);\n\nmeshcat.PublishRecording()\n\n    - add_model:\n        name: goal\n        file: file://{goal_model}\n        default_free_body_pose:\n            Soccergoal:\n                translation: [0., -1, 0.]\n                rotation: !Rpy {{ deg: [90, 0, 180] }} \n\"\"\"",
      "metadata": {
        "cell_id": "5a97cd566cfc4bab991f2001a9436f2c",
        "deepnote_cell_type": "code"
      },
      "outputs": [],
      "execution_count": null,
      "block_group": "5a97cd566cfc4bab991f2001a9436f2c"
    },
    {
      "cell_type": "code",
      "source": "\"\"\"\nfor camera_name, camera_config in cameras.items():\n    # Extract camera parameters\n    X_BC = camera_config[\"X_BC\"]\n    X_PB = camera_config[\"X_PB\"]\n    center_x = camera_config[\"center_x\"]\n    center_y = camera_config[\"center_y\"]\n    focal = camera_config[\"focal\"]\n    width = camera_config[\"width\"]\n    height = camera_config[\"height\"]\n\n    # Add RgbdSensor for the camera\n    camera_sensor = builder.AddSystem(\n        RgbdSensor(\n            parent_id=robot.GetBodyByName(camera_name + \"_camera_link\").index(),\n            X_PB=X_PB,\n            X_BC=X_BC,\n            properties=RgbdSensor.CameraProperties(\n                width=width,\n                height=height,\n                fov_y=np.arctan2(height / 2, focal[\"y\"]) * 2,\n                focal=focal,\n                k=np.array([focal[\"x\"], focal[\"y\"], center_x, center_y]),\n                depth_range=[0.1, 10.0],  # Adjust the depth range as needed\n            ),\n        )\n    )\n\n    # Connect the camera sensor to the robot\n    builder.Connect(robot.get_output_port(0), camera_sensor.get_input_port(0)) \"\"\"",
      "metadata": {
        "cell_id": "6c97dcd75cee412ca9e78419055206a3",
        "deepnote_cell_type": "code"
      },
      "outputs": [],
      "execution_count": null,
      "block_group": "fed773cdad2541c99edbebcd4f69afd0"
    },
    {
      "cell_type": "code",
      "source": "\"\"\"def run_episode(plant, plant_context, TIME, sim_time_step = .1, max_sim = 20 ):\n    reset_episode(plant, plant_context)\n    meshcat.StartRecording()\n    time_ = 0\n    current_attacker_index = 0\n    #states shooting, moving, passing, collecting_ball, waiting\n    state = \"moving\"\n    forces = []\n    shot_time = 0\n    MAX_TIME_SINCE_SHOT = 5 \n    passing_force= None\n    x0=[ 5.0 ,  1.0 ,  0. ,  0.,  0.,  0.,  0.,   0. ,  0. ,  0.  , 0. ,  0.  , 0. ,  0. , 0. ,  0. ,  0. ,  0. ,  0. ,  0. ]\n    station.GetInputPort(\"spot.desired_state\").FixValue(context, x0)\n\n    \n    while True:\n        move_left(time_ +TIME)\n\n\n        if time_ >= 50:\n            break\n    TIME += time_\n    print(\"Goal\", goal)\n    meshcat.PublishRecording()\n    return TIME\"\"\"",
      "metadata": {
        "cell_id": "daf77122d84a43138c6770f5854289f3",
        "deepnote_cell_type": "code"
      },
      "outputs": [],
      "execution_count": null,
      "block_group": "f294771830254fb5b02979798fc25d65"
    },
    {
      "cell_type": "code",
      "source": "\"\"\"def move_hand(plant,plant_context,  desired_target =[1,1,1] , tollerance = 0.05):\n\n    ik = InverseKinematics(plant, plant_context)\n    prog = ik.get_mutable_prog()\n \n    # Set the target frame for the end effector\n    end_effector_frame = plant.GetFrameByName(\"arm_link_fngr\")\n    ik.AddPositionConstraint(\n        frameA=plant.world_frame(),\n        frameB=end_effector_frame,\n        p_BQ=np.zeros(3),\n        p_AQ_lower=[t -tollerance for t in desired_target ],  # Lower bound for position constraint\n        p_AQ_upper=[t +tollerance for t in desired_target ],  # Upper bound for position constraint\n    )\n\n\n    # Set the initial guess for joint positions\n    current_q = plant.GetPositions(plant_context)\n    q_init_guess = current_q\n    q = ik.q()\n    prog.AddConstraint(eq(current_q[20:],q[20:]))\n    prog.AddConstraint(eq(current_q[:3],q[:3]))\n    prog.SetInitialGuess(q, q_init_guess)\n    prog.AddQuadraticErrorCost(\n        np.eye(len(q)), current_q, q\n    )\n\n    #min distance collision constraint, mobile base ik\n    ik.AddMinimumDistanceLowerBoundConstraint(0.01)\n    #print list of collisions, iterate over collision pairs, measure signed distance\n    #scene graph query obj\n    #collision filtering \n\n    result = Solve(ik.prog())\n    if result.is_success():\n        q_solution = result.GetSolution()\n       # station.GetInputPort(\"spot.desired_state\").FixValue(context, q_solution[:20])\n        print(\"moving hand\")\n        #print(\"IK solution:\", q_solution)\n        return True\n    else:\n        print(\"failed to move hand jittering\")\n        return False\n        #print(\"IK failed to converge.\")\n\n\n\ndef move_hand(plant, plant_context, desired_velocity=[0, 0, 0], tolerance=0.05):\n    # Set the target frame for the end effector\n    end_effector_frame = plant.GetFrameByName(\"arm_link_fngr\")\n\n    diff_ik = DifferentialInverseKinematicsIntegrator(plant,end_effector_frame,time_step=0.1, plant_context)\n    prog = diff_ik.get_mutable_prog()\n\n    # Add end-effector velocity constraint\n    diff_ik.AddVEqualityToPositionsConstraint(\n        frameA=plant.world_frame(),\n        frameB=end_effector_frame,\n        p_AQ=np.zeros(3),\n        p_AQ_lower=[t - tolerance for t in desired_velocity],  # Lower bound for velocity constraint\n        p_AQ_upper=[t + tolerance for t in desired_velocity],  # Upper bound for velocity constraint\n    )\n\n    # Set the initial guess for joint velocities\n    current_v = plant.GetVelocities(plant_context)\n    v_init_guess = current_v\n    v = diff_ik.v()\n    prog.SetInitialGuess(v, v_init_guess)\n    prog.AddQuadraticErrorCost(np.eye(len(v)), current_v, v)\n\n    # Minimize joint accelerations (optional)\n    prog.AddQuadraticErrorCost(np.eye(len(v)), np.zeros_like(v), v, weight=1.0)\n\n    # Minimize joint torques (optional)\n    # prog.AddQuadraticErrorCost(np.eye(len(v)), np.zeros_like(v), v, weight=1.0)\n\n    # Minimize joint positions (optional)\n    # prog.AddQuadraticErrorCost(np.eye(len(v)), np.zeros_like(v), v, weight=1.0)\n\n    # Additional constraints, collision avoidance, etc. can be added here\n\n    result = Solve(diff_ik.prog())\n    if result.is_success():\n        v_solution = result.GetSolution()\n        # Integrate joint velocities to get joint positions\n        q_solution = plant.CalcQFromV(plant_context, v_solution)\n        plant.SetPositions(plant_context, q_solution)\n        print(\"moving hand\")\n        # print(\"DiffIK solution:\", v_solution)\n        return True\n    else:\n        print(\"failed to move hand jittering\")\n        return False\n        # print(\"DiffIK failed to converge.\")\n\n\"\"\"",
      "metadata": {
        "cell_id": "32a34c21b71a4a2592f6f3391c8d16a4",
        "deepnote_cell_type": "code"
      },
      "outputs": [],
      "execution_count": null,
      "block_group": "99ee4dac5b8a4f7d80d02bbe437b27a2"
    },
    {
      "cell_type": "code",
      "source": "#####IIWA\nfrom pydrake.all import *\n\ndef solve_ik(X_WG, max_tries=10, fix_base=False, base_pose=np.zeros(3)):\n    diagram, plant, scene_graph = build_env()\n\n    gripper_frame = plant.GetFrameByName(\"l_gripper_palm_link\")\n\n    context = diagram.CreateDefaultContext()\n    plant_context = plant.GetMyContextFromRoot(context)\n    sg_context = scene_graph.GetMyContextFromRoot(context)\n    filterCollsionGeometry(scene_graph, sg_context)\n\n    # Note: passing in a plant_context is necessary for collision-free constraints!\n    ik = InverseKinematics(plant, plant_context)\n    q_variables = ik.q()  # Get variables for MathematicalProgram\n    prog = ik.prog()  # Get MathematicalProgram\n    q_nominal = np.zeros(len(q_variables))\n    q_nominal[0:3] = base_pose\n    prog.AddQuadraticErrorCost(\n        np.eye(len(q_variables)), q_nominal, q_variables\n    )\n    \n    # Position constraint\n    ik.AddPositionConstraint(\n        frameA=plant.world_frame(),\n        frameB=gripper_frame,\n        p_BQ=np.zeros(3),\n        p_AQ_lower=X_WG.translation() - 0.001,  # Lower bound for position constraint\n        p_AQ_upper=X_WG.translation() + 0.001,  # Upper bound for position constraint\n    )\n\n    # Orientation constraint using orientation error and bounds\n    R_WG = X_WG.rotation()\n    orientation_tol = np.radians(1.0)  # 1 degree in radians\n    ik.AddOrientationConstraint(\n        frameAbar=plant.world_frame(),\n        R_AbarA=R_WG,\n        frameBbar=gripper_frame,\n        R_BbarB=RotationMatrix(),\n        theta_bound=orientation_tol,\n    )\n\n    if fix_base:\n        # Constrain the base pose (x, y, theta) to be equal to base_pose\n        prog.AddConstraint(eq(base_pose,q_variables[:3]))\n\n    ik.AddMinimumDistanceLowerBoundConstraint(0.01)\n\n    for count in range(max_tries):\n        # Compute a random initial guess for joint angles within joint limits\n        q_initial_guess = np.zeros(len(q_variables))\n        for i in range(len(q_variables)):\n            joint = np.zeros(len(q_variables))\n            lowerlim = plant.GetPositionLowerLimits()\n            upperlim = plant.GetPositionUpperLimits()\n            for i in range(len(q_variables)):\n                if lowerlim[i] is None or upperlim[i]==np.inf:\n                    joint[i] = np.random.uniform(-np.pi, np.pi)\n                else:\n                    joint[i] = np.random.uniform(lowerlim[i], upperlim[i])\n\n        prog.SetInitialGuess(q_variables, joint)\n        result = Solve(prog)\n\n        if result is not None and result.is_success():\n            print(\"Succeeded in %d tries!\" % (count + 1))\n            return result.GetSolution(q_variables)\n\n    print(\"Failed!\")\n    return None\n",
      "metadata": {
        "cell_id": "1c8f7538ca0240cea789f0ecdffa1f77",
        "deepnote_cell_type": "code"
      },
      "outputs": [],
      "execution_count": null,
      "block_group": "4cbf56cfdc66446c949682c6e5b4346a"
    },
    {
      "cell_type": "code",
      "source": "#    v_now = plant.GetVelocities(plant_context)\n#    p_now = plant.GetPositions(plant_context)\n#    end_effector_frame = plant.GetFrameByName(\"arm_link_fngr\")\n#    world_frame = plant.world_frame()\n#    G = plant.GetBodyByName(\"body\").body_frame()\n#    J_G = plant.CalcJacobianSpatialVelocity(plant_context,\n#            JacobianWrtVariable.kQDot,G,\n#            [0, 0, 0],W,W,)\n\n#    q = DiffIKQP(J_G,np.repeat(1, 6), v_now , p_now)\n\n",
      "metadata": {
        "cell_id": "bf3e39fca2484c60abf52d72310bdfbe",
        "deepnote_cell_type": "code"
      },
      "outputs": [],
      "execution_count": null,
      "block_group": "33883cebc2b247a8b823a573d02f8aaa"
    },
    {
      "cell_type": "code",
      "source": "def DiffIKQP(J_G, V_G_desired, v_now, p_now, target =[1,1,1], tolerace= .5):\n    prog = MathematicalProgram()\n    v = prog.NewContinuousVariables(10, \"v\")\n    v_max = 3.0  # do not modify\n    h = 4e-3  # do not modify\n\n    # Add cost and constraints to prog here.\n    z=(np.linalg.norm(J_G.dot(v)-V_G_desired))**2\n    prog.AddCost(z)\n\n\n\n    # Joint velocity constraints\n    prog.AddConstraint(le(v, np.repeat(v_max, 10)))\n    prog.AddConstraint(ge(v, np.repeat(-1*v_max, 10)))\n\n    # End-effector position constraints\n    lower_bound = np.array([t - tolerace for t in target ])  \n    upper_bound = np.array([t + tolerace for t in target ]) \n    \n    p_estimated = p_now + v * .1\n    hand_estimate \n    prog.AddConstraint(le(p, upper_bound))\n    prog.AddConstraint(ge(p, lower_bound))\n\n    solver = SnoptSolver()\n    result = solver.Solve(prog)\n    if not (result.is_success()):\n        raise ValueError(\"Could not find the optimal solution.\")\n\n    v_solution = result.GetSolution(v)\n\n    command_v = v_solution\n    command_p =p_now + v_solution*.1\n    x0 = np.concatenate([command_p, command_v])\n    station.GetInputPort(\"spot.desired_state\").FixValue(context, x0)\n\n    #end_effector_frame = plant.GetFrameByName(\"arm_link_fngr\")\n#params = DifferentialInverseKinematicsParameters(10,10)\n##diffIK = DifferentialInverseKinematicsIntegrator(plant, end_effector_frame, .1, params)\n#builder.AddSystem(diffIK)\n\n    return v_solution",
      "metadata": {
        "cell_id": "8b2136e3ae344b258146614e645bb9c9",
        "deepnote_cell_type": "code"
      },
      "outputs": [],
      "execution_count": null,
      "block_group": "0424b6e6490a4a8e8ea391b181c2cf59"
    },
    {
      "cell_type": "code",
      "source": "def move_hand_old(plant, plant_context):\n        v_now = plant.GetVelocities(plant_context)[10:20]\n        p_now = plant.GetPositions(plant_context)[:10]\n        V_G_desired = np.ones(6)\n        J_G = plant.CalcJacobianSpatialVelocity(\n            plant_context,\n            JacobianWrtVariable.kQDot,\n            plant.GetBodyByName(\"body\").body_frame(),\n            [0, 0, 0],\n            plant.world_frame(),\n            plant.world_frame(),\n        )\n        J_G = J_G[:, :10]\n\n        DiffIKQP(J_G, V_G_desired, v_now, p_now)",
      "metadata": {
        "cell_id": "62a25f55d86b442191fe62100897a1e6",
        "deepnote_cell_type": "code"
      },
      "outputs": [],
      "execution_count": null,
      "block_group": "2d980ca40b3b4bf2a6fcac7179aac892"
    },
    {
      "cell_type": "code",
      "source": "def move_right(x0, pos= 1, vel=.1):\n    desired_state = x0\n    desired_state[8] -= vel  # Adjust the linear velocity as needed in the x-direction\n    desired_state[1] -= pos  # Optionally, adjust the x-position to move forward\n    return desired_state",
      "metadata": {
        "cell_id": "3a7427f2ee4d4663924fd0d217d67f03",
        "deepnote_cell_type": "code"
      },
      "outputs": [],
      "execution_count": null,
      "block_group": "1c148a6ec068440e9dcf8c4f03ee5843"
    },
    {
      "cell_type": "code",
      "source": "def move_left(x0, pos= 1, vel=.1):\n    desired_state = x0\n    desired_state[8] = vel  # Adjust the linear velocity as needed in the x-direction\n    desired_state[1] += pos  # Optionally, adjust the x-position to move forward\n    return desired_state",
      "metadata": {
        "cell_id": "3d2d724870d7401baeddb614206bd479",
        "deepnote_cell_type": "code"
      },
      "outputs": [],
      "execution_count": null,
      "block_group": "a26cb81ff95f49c481cd1e54175f6d64"
    },
    {
      "cell_type": "code",
      "source": "def move_backward(x0, pos= 1, vel=.1):\n    # Modify the desired state to command forward movement\n    desired_state = x0\n    desired_state[7] -= vel  # Adjust the linear velocity as needed in the x-direction\n    desired_state[0] -= pos  # Optionally, adjust the x-position to move forward\n    return desired_state",
      "metadata": {
        "cell_id": "62ce1eaaa4db4c019de644a0d5549294",
        "deepnote_cell_type": "code"
      },
      "outputs": [],
      "execution_count": null,
      "block_group": "577a3ee003264b4b9a4f4f003544ecee"
    },
    {
      "cell_type": "code",
      "source": "def move_forward(x0, pos= 1, vel=.1):\n    # Modify the desired state to command forward movement\n    desired_state = x0\n    desired_state[7]+= vel  # Adjust the linear velocity as needed in the x-direction\n    desired_state[0] += pos # Optionally, adjust the x-position to move forward\n    return desired_state",
      "metadata": {
        "cell_id": "50c00b6fb6024596bac8824f95a079c5",
        "deepnote_cell_type": "code"
      },
      "outputs": [],
      "execution_count": null,
      "block_group": "b466842b4b9b44a8b05bbd6b9e717f50"
    },
    {
      "cell_type": "markdown",
      "source": "<a style='text-decoration:none;line-height:16px;display:flex;color:#5B5B62;padding:10px;justify-content:end;' href='https://deepnote.com?utm_source=created-in-deepnote-cell&projectId=443541ce-e170-4459-8340-438ed0837988' target=\"_blank\">\n<img alt='Created in deepnote.com' style='display:inline;max-height:16px;margin:0px;margin-right:7.5px;' src='data:image/svg+xml;base64,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' > </img>\nCreated in <span style='font-weight:600;margin-left:4px;'>Deepnote</span></a>",
      "metadata": {
        "created_in_deepnote_cell": true,
        "deepnote_cell_type": "markdown"
      }
    }
  ],
  "nbformat": 4,
  "nbformat_minor": 0,
  "metadata": {
    "deepnote": {},
    "orig_nbformat": 2,
    "deepnote_notebook_id": "790b2366664e498f973f47f9bf36b3d5",
    "deepnote_execution_queue": []
  }
}