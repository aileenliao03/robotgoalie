{
  "cells": [
    {
      "cell_type": "code",
      "source": "!pip install git+https://github.com/ChaoningZhang/MobileSAM.git\n!pip install timm\n!pip install keras\n!pip install tensorflow",
      "metadata": {
        "source_hash": null,
        "execution_start": 1702342663484,
        "execution_millis": 15647,
        "deepnote_app_coordinates": {
          "h": 120,
          "w": 12,
          "x": 0,
          "y": 0
        },
        "deepnote_to_be_reexecuted": false,
        "cell_id": "4771bbe55cd24fd78b6337961c039e53",
        "deepnote_cell_type": "code"
      },
      "outputs": [
        {
          "name": "stdout",
          "text": "Collecting git+https://github.com/ChaoningZhang/MobileSAM.git\n  Cloning https://github.com/ChaoningZhang/MobileSAM.git to /tmp/pip-req-build-8nh20pkr\n  Running command git clone --filter=blob:none --quiet https://github.com/ChaoningZhang/MobileSAM.git /tmp/pip-req-build-8nh20pkr\n  Resolved https://github.com/ChaoningZhang/MobileSAM.git to commit 12d80d4e32b277de299130d8ce28cc949fb54b6c\n  Preparing metadata (setup.py) ... \u001b[?25ldone\n\u001b[?25h\u001b[33mWARNING: Running pip as the 'root' user can result in broken permissions and conflicting behaviour with the system package manager. It is recommended to use a virtual environment instead: https://pip.pypa.io/warnings/venv\u001b[0m\u001b[33m\n\u001b[0mRequirement already satisfied: timm in /usr/local/lib/python3.10/dist-packages (0.9.12)\nRequirement already satisfied: pyyaml in /usr/lib/python3/dist-packages (from timm) (5.4.1)\nRequirement already satisfied: safetensors in /usr/local/lib/python3.10/dist-packages (from timm) (0.4.1)\nRequirement already satisfied: torchvision in /usr/local/lib/python3.10/dist-packages (from timm) (0.16.1)\nRequirement already satisfied: torch>=1.7 in /usr/local/lib/python3.10/dist-packages (from timm) (2.1.1)\nRequirement already satisfied: huggingface-hub in /usr/local/lib/python3.10/dist-packages (from timm) (0.19.4)\nRequirement already satisfied: typing-extensions in /usr/local/lib/python3.10/dist-packages (from torch>=1.7->timm) (4.8.0)\nRequirement already satisfied: nvidia-cudnn-cu12==8.9.2.26 in /usr/local/lib/python3.10/dist-packages (from torch>=1.7->timm) (8.9.2.26)\nRequirement already satisfied: nvidia-cuda-nvrtc-cu12==12.1.105 in /usr/local/lib/python3.10/dist-packages (from torch>=1.7->timm) (12.1.105)\nRequirement already satisfied: triton==2.1.0 in /usr/local/lib/python3.10/dist-packages (from torch>=1.7->timm) (2.1.0)\nRequirement already satisfied: jinja2 in /shared-libs/python3.10/py-core/lib/python3.10/site-packages (from torch>=1.7->timm) (3.1.2)\nRequirement already satisfied: nvidia-cufft-cu12==11.0.2.54 in /usr/local/lib/python3.10/dist-packages (from torch>=1.7->timm) (11.0.2.54)\nRequirement already satisfied: nvidia-nvtx-cu12==12.1.105 in /usr/local/lib/python3.10/dist-packages (from torch>=1.7->timm) (12.1.105)\nRequirement already satisfied: nvidia-cuda-runtime-cu12==12.1.105 in /usr/local/lib/python3.10/dist-packages (from torch>=1.7->timm) (12.1.105)\nRequirement already satisfied: networkx in /usr/local/lib/python3.10/dist-packages (from torch>=1.7->timm) (3.2.1)\nRequirement already satisfied: sympy in /usr/lib/python3/dist-packages (from torch>=1.7->timm) (1.9)\nRequirement already satisfied: nvidia-cusolver-cu12==11.4.5.107 in /usr/local/lib/python3.10/dist-packages (from torch>=1.7->timm) (11.4.5.107)\nRequirement already satisfied: nvidia-nccl-cu12==2.18.1 in /usr/local/lib/python3.10/dist-packages (from torch>=1.7->timm) (2.18.1)\nRequirement already satisfied: nvidia-curand-cu12==10.3.2.106 in /usr/local/lib/python3.10/dist-packages (from torch>=1.7->timm) (10.3.2.106)\nRequirement already satisfied: nvidia-cusparse-cu12==12.1.0.106 in /usr/local/lib/python3.10/dist-packages (from torch>=1.7->timm) (12.1.0.106)\nRequirement already satisfied: filelock in /usr/local/lib/python3.10/dist-packages (from torch>=1.7->timm) (3.13.1)\nRequirement already satisfied: nvidia-cuda-cupti-cu12==12.1.105 in /usr/local/lib/python3.10/dist-packages (from torch>=1.7->timm) (12.1.105)\nRequirement already satisfied: fsspec in /usr/local/lib/python3.10/dist-packages (from torch>=1.7->timm) (2023.10.0)\nRequirement already satisfied: nvidia-cublas-cu12==12.1.3.1 in /usr/local/lib/python3.10/dist-packages (from torch>=1.7->timm) (12.1.3.1)\nRequirement already satisfied: nvidia-nvjitlink-cu12 in /usr/local/lib/python3.10/dist-packages (from nvidia-cusolver-cu12==11.4.5.107->torch>=1.7->timm) (12.3.101)\nRequirement already satisfied: requests in /usr/local/lib/python3.10/dist-packages (from huggingface-hub->timm) (2.31.0)\nRequirement already satisfied: packaging>=20.9 in /shared-libs/python3.10/py-core/lib/python3.10/site-packages (from huggingface-hub->timm) (21.3)\nRequirement already satisfied: tqdm>=4.42.1 in /shared-libs/python3.10/py/lib/python3.10/site-packages (from huggingface-hub->timm) (4.64.1)\nRequirement already satisfied: numpy in /usr/local/lib/python3.10/dist-packages (from torchvision->timm) (1.26.2)\nRequirement already satisfied: pillow!=8.3.*,>=5.3.0 in /usr/lib/python3/dist-packages (from torchvision->timm) (9.0.1)\nRequirement already satisfied: pyparsing!=3.0.5,>=2.0.2 in /shared-libs/python3.10/py-core/lib/python3.10/site-packages (from packaging>=20.9->huggingface-hub->timm) (3.0.9)\nRequirement already satisfied: MarkupSafe>=2.0 in /shared-libs/python3.10/py-core/lib/python3.10/site-packages (from jinja2->torch>=1.7->timm) (2.0.0)\nRequirement already satisfied: charset-normalizer<4,>=2 in /shared-libs/python3.10/py-core/lib/python3.10/site-packages (from requests->huggingface-hub->timm) (2.1.1)\nRequirement already satisfied: certifi>=2017.4.17 in /usr/local/lib/python3.10/dist-packages (from requests->huggingface-hub->timm) (2023.11.17)\nRequirement already satisfied: idna<4,>=2.5 in /shared-libs/python3.10/py-core/lib/python3.10/site-packages (from requests->huggingface-hub->timm) (3.4)\nRequirement already satisfied: urllib3<3,>=1.21.1 in /usr/local/lib/python3.10/dist-packages (from requests->huggingface-hub->timm) (1.26.18)\n\u001b[33mWARNING: Running pip as the 'root' user can result in broken permissions and conflicting behaviour with the system package manager. It is recommended to use a virtual environment instead: https://pip.pypa.io/warnings/venv\u001b[0m\u001b[33m\n\u001b[0mRequirement already satisfied: keras in /shared-libs/python3.10/py/lib/python3.10/site-packages (2.10.0)\n\u001b[33mWARNING: Running pip as the 'root' user can result in broken permissions and conflicting behaviour with the system package manager. It is recommended to use a virtual environment instead: https://pip.pypa.io/warnings/venv\u001b[0m\u001b[33m\n\u001b[0mRequirement already satisfied: tensorflow in /shared-libs/python3.10/py/lib/python3.10/site-packages (2.10.0)\nRequirement already satisfied: tensorflow-estimator<2.11,>=2.10.0 in /shared-libs/python3.10/py/lib/python3.10/site-packages (from tensorflow) (2.10.0)\nRequirement already satisfied: gast<=0.4.0,>=0.2.1 in /shared-libs/python3.10/py/lib/python3.10/site-packages (from tensorflow) (0.4.0)\nRequirement already satisfied: google-pasta>=0.1.1 in /shared-libs/python3.10/py/lib/python3.10/site-packages (from tensorflow) (0.2.0)\nRequirement already satisfied: protobuf<3.20,>=3.9.2 in /shared-libs/python3.10/py/lib/python3.10/site-packages (from tensorflow) (3.19.6)\nRequirement already satisfied: setuptools in /usr/lib/python3/dist-packages (from tensorflow) (59.6.0)\nRequirement already satisfied: typing-extensions>=3.6.6 in /usr/local/lib/python3.10/dist-packages (from tensorflow) (4.8.0)\nRequirement already satisfied: packaging in /shared-libs/python3.10/py-core/lib/python3.10/site-packages (from tensorflow) (21.3)\nRequirement already satisfied: libclang>=13.0.0 in /shared-libs/python3.10/py/lib/python3.10/site-packages (from tensorflow) (14.0.6)\nRequirement already satisfied: wrapt>=1.11.0 in /shared-libs/python3.10/py/lib/python3.10/site-packages (from tensorflow) (1.14.1)\nRequirement already satisfied: keras-preprocessing>=1.1.1 in /shared-libs/python3.10/py/lib/python3.10/site-packages (from tensorflow) (1.1.2)\nRequirement already satisfied: numpy>=1.20 in /usr/local/lib/python3.10/dist-packages (from tensorflow) (1.26.2)\nRequirement already satisfied: astunparse>=1.6.0 in /shared-libs/python3.10/py/lib/python3.10/site-packages (from tensorflow) (1.6.3)\nRequirement already satisfied: tensorflow-io-gcs-filesystem>=0.23.1 in /shared-libs/python3.10/py/lib/python3.10/site-packages (from tensorflow) (0.27.0)\nRequirement already satisfied: flatbuffers>=2.0 in /shared-libs/python3.10/py/lib/python3.10/site-packages (from tensorflow) (22.9.24)\nRequirement already satisfied: six>=1.12.0 in /shared-libs/python3.10/py-core/lib/python3.10/site-packages (from tensorflow) (1.16.0)\nRequirement already satisfied: keras<2.11,>=2.10.0 in /shared-libs/python3.10/py/lib/python3.10/site-packages (from tensorflow) (2.10.0)\nRequirement already satisfied: termcolor>=1.1.0 in /shared-libs/python3.10/py/lib/python3.10/site-packages (from tensorflow) (2.0.1)\nRequirement already satisfied: tensorboard<2.11,>=2.10 in /shared-libs/python3.10/py/lib/python3.10/site-packages (from tensorflow) (2.10.1)\nRequirement already satisfied: h5py>=2.9.0 in /shared-libs/python3.10/py/lib/python3.10/site-packages (from tensorflow) (3.7.0)\nRequirement already satisfied: opt-einsum>=2.3.2 in /shared-libs/python3.10/py/lib/python3.10/site-packages (from tensorflow) (3.3.0)\nRequirement already satisfied: absl-py>=1.0.0 in /shared-libs/python3.10/py/lib/python3.10/site-packages (from tensorflow) (1.3.0)\nRequirement already satisfied: grpcio<2.0,>=1.24.3 in /shared-libs/python3.10/py/lib/python3.10/site-packages (from tensorflow) (1.50.0)\nRequirement already satisfied: wheel<1.0,>=0.23.0 in /usr/lib/python3/dist-packages (from astunparse>=1.6.0->tensorflow) (0.37.1)\nRequirement already satisfied: tensorboard-data-server<0.7.0,>=0.6.0 in /shared-libs/python3.10/py/lib/python3.10/site-packages (from tensorboard<2.11,>=2.10->tensorflow) (0.6.1)\nRequirement already satisfied: tensorboard-plugin-wit>=1.6.0 in /shared-libs/python3.10/py/lib/python3.10/site-packages (from tensorboard<2.11,>=2.10->tensorflow) (1.8.1)\nRequirement already satisfied: requests<3,>=2.21.0 in /usr/local/lib/python3.10/dist-packages (from tensorboard<2.11,>=2.10->tensorflow) (2.31.0)\nRequirement already satisfied: werkzeug>=1.0.1 in /shared-libs/python3.10/py/lib/python3.10/site-packages (from tensorboard<2.11,>=2.10->tensorflow) (2.2.2)\nRequirement already satisfied: google-auth-oauthlib<0.5,>=0.4.1 in /shared-libs/python3.10/py/lib/python3.10/site-packages (from tensorboard<2.11,>=2.10->tensorflow) (0.4.6)\nRequirement already satisfied: google-auth<3,>=1.6.3 in /shared-libs/python3.10/py/lib/python3.10/site-packages (from tensorboard<2.11,>=2.10->tensorflow) (2.21.0)\nRequirement already satisfied: markdown>=2.6.8 in /shared-libs/python3.10/py/lib/python3.10/site-packages (from tensorboard<2.11,>=2.10->tensorflow) (3.4.1)\nRequirement already satisfied: pyparsing!=3.0.5,>=2.0.2 in /shared-libs/python3.10/py-core/lib/python3.10/site-packages (from packaging->tensorflow) (3.0.9)\nRequirement already satisfied: cachetools<6.0,>=2.0.0 in /shared-libs/python3.10/py/lib/python3.10/site-packages (from google-auth<3,>=1.6.3->tensorboard<2.11,>=2.10->tensorflow) (5.2.0)\nRequirement already satisfied: rsa<5,>=3.1.4 in /shared-libs/python3.10/py/lib/python3.10/site-packages (from google-auth<3,>=1.6.3->tensorboard<2.11,>=2.10->tensorflow) (4.9)\nRequirement already satisfied: urllib3<2.0 in /usr/local/lib/python3.10/dist-packages (from google-auth<3,>=1.6.3->tensorboard<2.11,>=2.10->tensorflow) (1.26.18)\nRequirement already satisfied: pyasn1-modules>=0.2.1 in /shared-libs/python3.10/py/lib/python3.10/site-packages (from google-auth<3,>=1.6.3->tensorboard<2.11,>=2.10->tensorflow) (0.2.8)\nRequirement already satisfied: requests-oauthlib>=0.7.0 in /shared-libs/python3.10/py/lib/python3.10/site-packages (from google-auth-oauthlib<0.5,>=0.4.1->tensorboard<2.11,>=2.10->tensorflow) (1.3.1)\nRequirement already satisfied: charset-normalizer<4,>=2 in /shared-libs/python3.10/py-core/lib/python3.10/site-packages (from requests<3,>=2.21.0->tensorboard<2.11,>=2.10->tensorflow) (2.1.1)\nRequirement already satisfied: idna<4,>=2.5 in /shared-libs/python3.10/py-core/lib/python3.10/site-packages (from requests<3,>=2.21.0->tensorboard<2.11,>=2.10->tensorflow) (3.4)\nRequirement already satisfied: certifi>=2017.4.17 in /usr/local/lib/python3.10/dist-packages (from requests<3,>=2.21.0->tensorboard<2.11,>=2.10->tensorflow) (2023.11.17)\nCollecting MarkupSafe>=2.1.1\n  Using cached MarkupSafe-2.1.3-cp310-cp310-manylinux_2_17_x86_64.manylinux2014_x86_64.whl (25 kB)\nRequirement already satisfied: pyasn1<0.5.0,>=0.4.6 in /shared-libs/python3.10/py/lib/python3.10/site-packages (from pyasn1-modules>=0.2.1->google-auth<3,>=1.6.3->tensorboard<2.11,>=2.10->tensorflow) (0.4.8)\nRequirement already satisfied: oauthlib>=3.0.0 in /shared-libs/python3.10/py/lib/python3.10/site-packages (from requests-oauthlib>=0.7.0->google-auth-oauthlib<0.5,>=0.4.1->tensorboard<2.11,>=2.10->tensorflow) (3.2.2)\nInstalling collected packages: MarkupSafe\n  Attempting uninstall: MarkupSafe\n    Found existing installation: MarkupSafe 2.0.0\n    Uninstalling MarkupSafe-2.0.0:\n\u001b[31mERROR: Could not install packages due to an OSError: [Errno 30] Read-only file system: 'top_level.txt'\n\u001b[0m\u001b[31m\n\u001b[0m",
          "output_type": "stream"
        }
      ],
      "execution_count": null,
      "block_group": "7d50157a55df46bbac75059d66d8d20d"
    },
    {
      "cell_type": "code",
      "source": "#Dont Move, Random, Physics based gravity line, sampling based (sample wind trajetories) choose best\n#RNN,lstm, gru,  liquid, CTRNN both collect data and train to put hand\n#llm look at points/images gpt,llava \nimport os\nimport numpy as np\nfrom random import random\nimport pydot\nfrom matplotlib import pyplot as plt\nos.environ['TF_CPP_MIN_LOG_LEVEL'] = '2'\nimport tensorflow as tf\nimport pydrake.all as drake\nimport pydrake.systems.framework as framework\nfrom pydrake.geometry import StartMeshcat\nfrom pydrake.systems.analysis import Simulator\nfrom pydrake.systems.framework import DiagramBuilder\nfrom pydrake.all import (\n    SpatialForce,\n    PackageMap,\n    RigidTransform,\n    MultibodyPlant,\n    StateInterpolatorWithDiscreteDerivative,\n    Parser,\n    DifferentialInverseKinematicsIntegrator,\n    DifferentialInverseKinematicsParameters,\n    PortSwitch,\n    PassThrough\n)\nfrom pydrake.multibody.plant import ExternallyAppliedSpatialForce\n\nfrom manipulation import running_as_notebook, ConfigureParser, FindResource\nfrom manipulation.station import MakeHardwareStation, load_scenario\nfrom IPython.display import HTML, SVG, display\n\nimport torch\nfrom PIL import Image\nimport numpy as np\nfrom mobile_sam import sam_model_registry, SamPredictor\nfrom keras.models import load_model\n\nmodel_type = \"vit_t\"\nsam_checkpoint = \"/work/mobile_sam.pt\"\ndevice = \"cuda\" if torch.cuda.is_available() else \"cpu\"\nmobile_sam = sam_model_registry[model_type](checkpoint=sam_checkpoint)\nmobile_sam.to(device=device)\nmobile_sam.eval()",
      "metadata": {
        "source_hash": null,
        "execution_start": 1702342679118,
        "execution_millis": 6981,
        "deepnote_app_coordinates": {
          "h": 120,
          "w": 12,
          "x": 0,
          "y": 0
        },
        "deepnote_to_be_reexecuted": false,
        "cell_id": "b1a103626e514048ac1f5f2835c18ed1",
        "deepnote_cell_type": "code"
      },
      "outputs": [
        {
          "name": "stderr",
          "text": "2023-12-12 00:57:59.696206: E tensorflow/stream_executor/cuda/cuda_blas.cc:2981] Unable to register cuBLAS factory: Attempting to register factory for plugin cuBLAS when one has already been registered\n/usr/local/lib/python3.10/dist-packages/mobile_sam/modeling/tiny_vit_sam.py:656: UserWarning: Overwriting tiny_vit_5m_224 in registry with mobile_sam.modeling.tiny_vit_sam.tiny_vit_5m_224. This is because the name being registered conflicts with an existing name. Please check if this is not expected.\n  return register_model(fn_wrapper)\n/usr/local/lib/python3.10/dist-packages/mobile_sam/modeling/tiny_vit_sam.py:656: UserWarning: Overwriting tiny_vit_11m_224 in registry with mobile_sam.modeling.tiny_vit_sam.tiny_vit_11m_224. This is because the name being registered conflicts with an existing name. Please check if this is not expected.\n  return register_model(fn_wrapper)\n/usr/local/lib/python3.10/dist-packages/mobile_sam/modeling/tiny_vit_sam.py:656: UserWarning: Overwriting tiny_vit_21m_224 in registry with mobile_sam.modeling.tiny_vit_sam.tiny_vit_21m_224. This is because the name being registered conflicts with an existing name. Please check if this is not expected.\n  return register_model(fn_wrapper)\n/usr/local/lib/python3.10/dist-packages/mobile_sam/modeling/tiny_vit_sam.py:656: UserWarning: Overwriting tiny_vit_21m_384 in registry with mobile_sam.modeling.tiny_vit_sam.tiny_vit_21m_384. This is because the name being registered conflicts with an existing name. Please check if this is not expected.\n  return register_model(fn_wrapper)\n/usr/local/lib/python3.10/dist-packages/mobile_sam/modeling/tiny_vit_sam.py:656: UserWarning: Overwriting tiny_vit_21m_512 in registry with mobile_sam.modeling.tiny_vit_sam.tiny_vit_21m_512. This is because the name being registered conflicts with an existing name. Please check if this is not expected.\n  return register_model(fn_wrapper)\n",
          "output_type": "stream"
        },
        {
          "output_type": "execute_result",
          "execution_count": 2,
          "data": {
            "text/plain": "Sam(\n  (image_encoder): TinyViT(\n    (patch_embed): PatchEmbed(\n      (seq): Sequential(\n        (0): Conv2d_BN(\n          (c): Conv2d(3, 32, kernel_size=(3, 3), stride=(2, 2), padding=(1, 1), bias=False)\n          (bn): BatchNorm2d(32, eps=1e-05, momentum=0.1, affine=True, track_running_stats=True)\n        )\n        (1): GELU(approximate='none')\n        (2): Conv2d_BN(\n          (c): Conv2d(32, 64, kernel_size=(3, 3), stride=(2, 2), padding=(1, 1), bias=False)\n          (bn): BatchNorm2d(64, eps=1e-05, momentum=0.1, affine=True, track_running_stats=True)\n        )\n      )\n    )\n    (layers): ModuleList(\n      (0): ConvLayer(\n        (blocks): ModuleList(\n          (0-1): 2 x MBConv(\n            (conv1): Conv2d_BN(\n              (c): Conv2d(64, 256, kernel_size=(1, 1), stride=(1, 1), bias=False)\n              (bn): BatchNorm2d(256, eps=1e-05, momentum=0.1, affine=True, track_running_stats=True)\n            )\n            (act1): GELU(approximate='none')\n            (conv2): Conv2d_BN(\n              (c): Conv2d(256, 256, kernel_size=(3, 3), stride=(1, 1), padding=(1, 1), groups=256, bias=False)\n              (bn): BatchNorm2d(256, eps=1e-05, momentum=0.1, affine=True, track_running_stats=True)\n            )\n            (act2): GELU(approximate='none')\n            (conv3): Conv2d_BN(\n              (c): Conv2d(256, 64, kernel_size=(1, 1), stride=(1, 1), bias=False)\n              (bn): BatchNorm2d(64, eps=1e-05, momentum=0.1, affine=True, track_running_stats=True)\n            )\n            (act3): GELU(approximate='none')\n            (drop_path): Identity()\n          )\n        )\n        (downsample): PatchMerging(\n          (act): GELU(approximate='none')\n          (conv1): Conv2d_BN(\n            (c): Conv2d(64, 128, kernel_size=(1, 1), stride=(1, 1), bias=False)\n            (bn): BatchNorm2d(128, eps=1e-05, momentum=0.1, affine=True, track_running_stats=True)\n          )\n          (conv2): Conv2d_BN(\n            (c): Conv2d(128, 128, kernel_size=(3, 3), stride=(2, 2), padding=(1, 1), groups=128, bias=False)\n            (bn): BatchNorm2d(128, eps=1e-05, momentum=0.1, affine=True, track_running_stats=True)\n          )\n          (conv3): Conv2d_BN(\n            (c): Conv2d(128, 128, kernel_size=(1, 1), stride=(1, 1), bias=False)\n            (bn): BatchNorm2d(128, eps=1e-05, momentum=0.1, affine=True, track_running_stats=True)\n          )\n        )\n      )\n      (1): BasicLayer(\n        dim=128, input_resolution=(128, 128), depth=2\n        (blocks): ModuleList(\n          (0-1): 2 x TinyViTBlock(\n            dim=128, input_resolution=(128, 128), num_heads=4, window_size=7, mlp_ratio=4.0\n            (drop_path): Identity()\n            (attn): Attention(\n              (norm): LayerNorm((128,), eps=1e-05, elementwise_affine=True)\n              (qkv): Linear(in_features=128, out_features=384, bias=True)\n              (proj): Linear(in_features=128, out_features=128, bias=True)\n            )\n            (mlp): Mlp(\n              (norm): LayerNorm((128,), eps=1e-05, elementwise_affine=True)\n              (fc1): Linear(in_features=128, out_features=512, bias=True)\n              (fc2): Linear(in_features=512, out_features=128, bias=True)\n              (act): GELU(approximate='none')\n              (drop): Dropout(p=0.0, inplace=False)\n            )\n            (local_conv): Conv2d_BN(\n              (c): Conv2d(128, 128, kernel_size=(3, 3), stride=(1, 1), padding=(1, 1), groups=128, bias=False)\n              (bn): BatchNorm2d(128, eps=1e-05, momentum=0.1, affine=True, track_running_stats=True)\n            )\n          )\n        )\n        (downsample): PatchMerging(\n          (act): GELU(approximate='none')\n          (conv1): Conv2d_BN(\n            (c): Conv2d(128, 160, kernel_size=(1, 1), stride=(1, 1), bias=False)\n            (bn): BatchNorm2d(160, eps=1e-05, momentum=0.1, affine=True, track_running_stats=True)\n          )\n          (conv2): Conv2d_BN(\n            (c): Conv2d(160, 160, kernel_size=(3, 3), stride=(2, 2), padding=(1, 1), groups=160, bias=False)\n            (bn): BatchNorm2d(160, eps=1e-05, momentum=0.1, affine=True, track_running_stats=True)\n          )\n          (conv3): Conv2d_BN(\n            (c): Conv2d(160, 160, kernel_size=(1, 1), stride=(1, 1), bias=False)\n            (bn): BatchNorm2d(160, eps=1e-05, momentum=0.1, affine=True, track_running_stats=True)\n          )\n        )\n      )\n      (2): BasicLayer(\n        dim=160, input_resolution=(64, 64), depth=6\n        (blocks): ModuleList(\n          (0-5): 6 x TinyViTBlock(\n            dim=160, input_resolution=(64, 64), num_heads=5, window_size=14, mlp_ratio=4.0\n            (drop_path): Identity()\n            (attn): Attention(\n              (norm): LayerNorm((160,), eps=1e-05, elementwise_affine=True)\n              (qkv): Linear(in_features=160, out_features=480, bias=True)\n              (proj): Linear(in_features=160, out_features=160, bias=True)\n            )\n            (mlp): Mlp(\n              (norm): LayerNorm((160,), eps=1e-05, elementwise_affine=True)\n              (fc1): Linear(in_features=160, out_features=640, bias=True)\n              (fc2): Linear(in_features=640, out_features=160, bias=True)\n              (act): GELU(approximate='none')\n              (drop): Dropout(p=0.0, inplace=False)\n            )\n            (local_conv): Conv2d_BN(\n              (c): Conv2d(160, 160, kernel_size=(3, 3), stride=(1, 1), padding=(1, 1), groups=160, bias=False)\n              (bn): BatchNorm2d(160, eps=1e-05, momentum=0.1, affine=True, track_running_stats=True)\n            )\n          )\n        )\n        (downsample): PatchMerging(\n          (act): GELU(approximate='none')\n          (conv1): Conv2d_BN(\n            (c): Conv2d(160, 320, kernel_size=(1, 1), stride=(1, 1), bias=False)\n            (bn): BatchNorm2d(320, eps=1e-05, momentum=0.1, affine=True, track_running_stats=True)\n          )\n          (conv2): Conv2d_BN(\n            (c): Conv2d(320, 320, kernel_size=(3, 3), stride=(1, 1), padding=(1, 1), groups=320, bias=False)\n            (bn): BatchNorm2d(320, eps=1e-05, momentum=0.1, affine=True, track_running_stats=True)\n          )\n          (conv3): Conv2d_BN(\n            (c): Conv2d(320, 320, kernel_size=(1, 1), stride=(1, 1), bias=False)\n            (bn): BatchNorm2d(320, eps=1e-05, momentum=0.1, affine=True, track_running_stats=True)\n          )\n        )\n      )\n      (3): BasicLayer(\n        dim=320, input_resolution=(64, 64), depth=2\n        (blocks): ModuleList(\n          (0-1): 2 x TinyViTBlock(\n            dim=320, input_resolution=(64, 64), num_heads=10, window_size=7, mlp_ratio=4.0\n            (drop_path): Identity()\n            (attn): Attention(\n              (norm): LayerNorm((320,), eps=1e-05, elementwise_affine=True)\n              (qkv): Linear(in_features=320, out_features=960, bias=True)\n              (proj): Linear(in_features=320, out_features=320, bias=True)\n            )\n            (mlp): Mlp(\n              (norm): LayerNorm((320,), eps=1e-05, elementwise_affine=True)\n              (fc1): Linear(in_features=320, out_features=1280, bias=True)\n              (fc2): Linear(in_features=1280, out_features=320, bias=True)\n              (act): GELU(approximate='none')\n              (drop): Dropout(p=0.0, inplace=False)\n            )\n            (local_conv): Conv2d_BN(\n              (c): Conv2d(320, 320, kernel_size=(3, 3), stride=(1, 1), padding=(1, 1), groups=320, bias=False)\n              (bn): BatchNorm2d(320, eps=1e-05, momentum=0.1, affine=True, track_running_stats=True)\n            )\n          )\n        )\n      )\n    )\n    (norm_head): LayerNorm((320,), eps=1e-05, elementwise_affine=True)\n    (head): Linear(in_features=320, out_features=1000, bias=True)\n    (neck): Sequential(\n      (0): Conv2d(320, 256, kernel_size=(1, 1), stride=(1, 1), bias=False)\n      (1): LayerNorm2d()\n      (2): Conv2d(256, 256, kernel_size=(3, 3), stride=(1, 1), padding=(1, 1), bias=False)\n      (3): LayerNorm2d()\n    )\n  )\n  (prompt_encoder): PromptEncoder(\n    (pe_layer): PositionEmbeddingRandom()\n    (point_embeddings): ModuleList(\n      (0-3): 4 x Embedding(1, 256)\n    )\n    (not_a_point_embed): Embedding(1, 256)\n    (mask_downscaling): Sequential(\n      (0): Conv2d(1, 4, kernel_size=(2, 2), stride=(2, 2))\n      (1): LayerNorm2d()\n      (2): GELU(approximate='none')\n      (3): Conv2d(4, 16, kernel_size=(2, 2), stride=(2, 2))\n      (4): LayerNorm2d()\n      (5): GELU(approximate='none')\n      (6): Conv2d(16, 256, kernel_size=(1, 1), stride=(1, 1))\n    )\n    (no_mask_embed): Embedding(1, 256)\n  )\n  (mask_decoder): MaskDecoder(\n    (transformer): TwoWayTransformer(\n      (layers): ModuleList(\n        (0-1): 2 x TwoWayAttentionBlock(\n          (self_attn): Attention(\n            (q_proj): Linear(in_features=256, out_features=256, bias=True)\n            (k_proj): Linear(in_features=256, out_features=256, bias=True)\n            (v_proj): Linear(in_features=256, out_features=256, bias=True)\n            (out_proj): Linear(in_features=256, out_features=256, bias=True)\n          )\n          (norm1): LayerNorm((256,), eps=1e-05, elementwise_affine=True)\n          (cross_attn_token_to_image): Attention(\n            (q_proj): Linear(in_features=256, out_features=128, bias=True)\n            (k_proj): Linear(in_features=256, out_features=128, bias=True)\n            (v_proj): Linear(in_features=256, out_features=128, bias=True)\n            (out_proj): Linear(in_features=128, out_features=256, bias=True)\n          )\n          (norm2): LayerNorm((256,), eps=1e-05, elementwise_affine=True)\n          (mlp): MLPBlock(\n            (lin1): Linear(in_features=256, out_features=2048, bias=True)\n            (lin2): Linear(in_features=2048, out_features=256, bias=True)\n            (act): ReLU()\n          )\n          (norm3): LayerNorm((256,), eps=1e-05, elementwise_affine=True)\n          (norm4): LayerNorm((256,), eps=1e-05, elementwise_affine=True)\n          (cross_attn_image_to_token): Attention(\n            (q_proj): Linear(in_features=256, out_features=128, bias=True)\n            (k_proj): Linear(in_features=256, out_features=128, bias=True)\n            (v_proj): Linear(in_features=256, out_features=128, bias=True)\n            (out_proj): Linear(in_features=128, out_features=256, bias=True)\n          )\n        )\n      )\n      (final_attn_token_to_image): Attention(\n        (q_proj): Linear(in_features=256, out_features=128, bias=True)\n        (k_proj): Linear(in_features=256, out_features=128, bias=True)\n        (v_proj): Linear(in_features=256, out_features=128, bias=True)\n        (out_proj): Linear(in_features=128, out_features=256, bias=True)\n      )\n      (norm_final_attn): LayerNorm((256,), eps=1e-05, elementwise_affine=True)\n    )\n    (iou_token): Embedding(1, 256)\n    (mask_tokens): Embedding(4, 256)\n    (output_upscaling): Sequential(\n      (0): ConvTranspose2d(256, 64, kernel_size=(2, 2), stride=(2, 2))\n      (1): LayerNorm2d()\n      (2): GELU(approximate='none')\n      (3): ConvTranspose2d(64, 32, kernel_size=(2, 2), stride=(2, 2))\n      (4): GELU(approximate='none')\n    )\n    (output_hypernetworks_mlps): ModuleList(\n      (0-3): 4 x MLP(\n        (layers): ModuleList(\n          (0-1): 2 x Linear(in_features=256, out_features=256, bias=True)\n          (2): Linear(in_features=256, out_features=32, bias=True)\n        )\n      )\n    )\n    (iou_prediction_head): MLP(\n      (layers): ModuleList(\n        (0-1): 2 x Linear(in_features=256, out_features=256, bias=True)\n        (2): Linear(in_features=256, out_features=4, bias=True)\n      )\n    )\n  )\n)"
          },
          "metadata": {}
        }
      ],
      "execution_count": null,
      "block_group": "cd8a091ad705480388a5f8c9f6b769ac"
    },
    {
      "cell_type": "code",
      "source": "ball_model = \"/work/ball.sdf\"\npitch_model = \"/work/pitch.sdf\"\ngoal_model = \"/work/Soccergoal.sdf\"\nattacker_model = \"/work/attack_robots_.sdf\" \ndefender_model = \"/work/defend_robots_.sdf\"\nspot_model =\"/work/spot_with_arm_and_floating_base_actuators.urdf\"",
      "metadata": {
        "source_hash": null,
        "execution_start": 1702342686081,
        "execution_millis": 106,
        "deepnote_app_coordinates": {
          "h": 120,
          "w": 12,
          "x": 0,
          "y": 0
        },
        "deepnote_to_be_reexecuted": false,
        "cell_id": "334d2c6e38844306bfcea2e44e9a9ed7",
        "deepnote_cell_type": "code"
      },
      "outputs": [],
      "execution_count": null,
      "block_group": "e48a698ae097436eb2a5ddf30917822a"
    },
    {
      "cell_type": "code",
      "source": "MASS_BALL = 1.1454717\nGRAVITY = 9.81\nMASS_PLAYER = 1.728014228187\nPASSING_MULTIPLIER = 1\nSHOOTING_MULTIPLIER = 1\nWIND_MULTIPLIER = .2\nNET_CENTER = [0,-1, 0 ]\nNET_DIMS = [8,2,  2.5]",
      "metadata": {
        "source_hash": null,
        "execution_start": 1702342686100,
        "execution_millis": 83,
        "deepnote_app_coordinates": {
          "h": 120,
          "w": 12,
          "x": 0,
          "y": 0
        },
        "deepnote_to_be_reexecuted": false,
        "cell_id": "b9835df367a14b0e8702c1c562aac46c",
        "deepnote_cell_type": "code"
      },
      "outputs": [],
      "execution_count": null,
      "block_group": "623e1a822b994aaa90a136251a5daa65"
    },
    {
      "cell_type": "code",
      "source": "def AddSpotRemote(parser):\n    parser.package_map().AddRemote(\n        package_name=\"spot_description\",\n        params=PackageMap.RemoteParams(\n            urls=[\n                f\"https://github.com/wrangel-bdai/spot_ros2/archive/20965ef7bba98598ee10878c7b54e6ef28a300c6.tar.gz\"\n            ],\n            sha256=(\n                \"20a4f12896b04cc73e186cf876bf2c7e905ee88f8add8ea51bf52dfc888674b4\"\n            ),\n            strip_prefix=\"spot_ros2-20965ef7bba98598ee10878c7b54e6ef28a300c6/spot_description/\",\n        ),\n    )",
      "metadata": {
        "source_hash": null,
        "execution_start": 1702342686101,
        "execution_millis": 83,
        "deepnote_app_coordinates": {
          "h": 120,
          "w": 12,
          "x": 0,
          "y": 0
        },
        "deepnote_to_be_reexecuted": false,
        "cell_id": "b030c00522d04819a652eca219badb8b",
        "deepnote_cell_type": "code"
      },
      "outputs": [],
      "execution_count": null,
      "block_group": "3342669015e44684b8594c6eceb43f3f"
    },
    {
      "cell_type": "code",
      "source": "def create_senario_data():\n    scenario_data = f\"\"\"\n    directives:\n    - add_model:\n        name: pitch\n        file: file://{pitch_model}  \n    - add_weld:\n        parent: world\n        child: pitch::pitch_center  \n        X_PC: \n            translation: [0, 0, -.01]  \n    - add_model:\n        name: ball\n        file: file://{ball_model}\n        default_free_body_pose:\n            ball: # Change here!\n                translation: [0, 20, .2]\n                rotation: !Rpy {{ deg: [42, 33, 18] }}  \n    - add_model:\n        name: spot\n        file: file://{spot_model}\n        default_joint_positions:\n            arm_sh1: [-3.1]\n            arm_el0: [3.1]\n    - add_model:\n        name: goal\n        file: file://{goal_model}\n        default_free_body_pose:\n            Soccergoal:\n                translation: [0., -3., 0.]\n                rotation: !Rpy {{ deg: [90, 0, 180] }} \n    \"\"\"\n    \n    player_locs = [[0,20], [-5,17], [5,17]]\n    for i,p in enumerate(player_locs):\n        location_x = p[0]\n        location_y = p[1]\n        name = \"attacker\"+ str(i)\n        scenario_data += f\"\"\"\n    - add_model:\n        name: {name}\n        file: file://{attacker_model}\n        default_free_body_pose:\n            attack_robots_:\n                translation: [{location_x}, {location_y}, 1.5]\n                rotation: !Rpy {{ deg: [90, 0, 180] }}\"\"\"\n\n    defender_locs = [[0,5], [-3,6], [3,6]]\n    for i, d in enumerate(defender_locs):\n        location_x = d[0]\n        location_y = d[1]\n        name = \"defender\"+ str(i)\n        scenario_data += f\"\"\"\n    - add_model:\n        name: {name}\n        file: file://{defender_model}\n        default_free_body_pose:\n            police_robots_:\n                translation: [{location_x}, {location_y}, 1.5]\n                rotation: !Rpy {{ deg: [90, 0, 0] }}\"\"\"\n    scenario_data +=\"\"\"\n    model_drivers:\n        spot: !InverseDynamicsDriver {}\n    cameras:\n        hand:\n            X_PB:\n                base_frame: arm_link_wr1\n                rotation: !Rpy\n                    deg: [-80.9999763610074, -1.272221872585406e-14, -90.00000000000001]\n                translation: [0.13805999999999996, 0.020205000000000008, 0.024519999999999875]\n            center_x: 320.0\n            center_y: 240.0\n            focal: {x: 552.0291012161067, y: 552.0291012161067}\n            height: 480\n            name: hand\n            width: 640\"\"\"\n    \n    return scenario_data",
      "metadata": {
        "source_hash": null,
        "execution_start": 1702342686102,
        "execution_millis": 82,
        "deepnote_app_coordinates": {
          "h": 120,
          "w": 12,
          "x": 0,
          "y": 0
        },
        "deepnote_to_be_reexecuted": false,
        "cell_id": "17efacce60a94fe28d045f3ad91c8e51",
        "deepnote_cell_type": "code"
      },
      "outputs": [],
      "execution_count": null,
      "block_group": "dd3426e4813d470e8949cf116c5c2b88"
    },
    {
      "cell_type": "code",
      "source": "meshcat = StartMeshcat()",
      "metadata": {
        "source_hash": null,
        "execution_start": 1702342686106,
        "execution_millis": 82,
        "deepnote_app_coordinates": {
          "h": 120,
          "w": 12,
          "x": 0,
          "y": 0
        },
        "deepnote_to_be_reexecuted": false,
        "cell_id": "17c199c17d264184aedad97695d8863b",
        "deepnote_cell_type": "code"
      },
      "outputs": [
        {
          "name": "stderr",
          "text": "INFO:drake:Meshcat listening for connections at https://443541ce-e170-4459-8340-438ed0837988.deepnoteproject.com/7000/\n",
          "output_type": "stream"
        },
        {
          "data": {
            "text/plain": "<IPython.core.display.HTML object>",
            "text/html": "Meshcat URL: <a href='https://443541ce-e170-4459-8340-438ed0837988.deepnoteproject.com/7000/' target='_blank'>https://443541ce-e170-4459-8340-438ed0837988.deepnoteproject.com/7000/</a>"
          },
          "metadata": {},
          "output_type": "display_data"
        }
      ],
      "execution_count": null,
      "block_group": "fdd789fe1fe54d0a839963849f798d7c"
    },
    {
      "cell_type": "code",
      "source": "def AddSpotDifferentialIK(builder, plant, frame=None, time_step= .1):\n    params = DifferentialInverseKinematicsParameters(\n        plant.num_positions(), plant.num_velocities()\n    )\n    q0 = plant.GetPositions(plant.CreateDefaultContext())\n    params.set_nominal_joint_position(q0)\n    params.set_time_step(time_step)\n    params.set_end_effector_angular_speed_limit(2)\n    params.set_end_effector_translational_velocity_limits(\n        [-2, -2, -2], [2, 2, 2]\n    )\n    if frame is None:\n        frame = plant.GetFrameByName(\"body\")\n    differential_ik = builder.AddSystem(\n        DifferentialInverseKinematicsIntegrator(\n            plant,\n            frame,\n            time_step,\n            params,\n            log_only_when_result_state_changes=True,\n        )\n    )\n    return differential_ik",
      "metadata": {
        "source_hash": null,
        "execution_start": 1702342686108,
        "execution_millis": 93,
        "deepnote_app_coordinates": {
          "h": 120,
          "w": 12,
          "x": 0,
          "y": 0
        },
        "deepnote_to_be_reexecuted": false,
        "cell_id": "a9b43b8337bd405db1e40d4ce13b09fd",
        "deepnote_cell_type": "code"
      },
      "outputs": [],
      "execution_count": null,
      "block_group": "6db42680dd4b452fa6eef3094f992978"
    },
    {
      "cell_type": "code",
      "source": "TIME = 0\nbuilder = DiagramBuilder()\n\nscenario = load_scenario(data=create_senario_data())\n\nstation = builder.AddSystem(MakeHardwareStation(scenario, meshcat,parser_preload_callback=AddSpotRemote))\nplant = station.GetSubsystemByName(\"plant\")\n\nspot_controller = station.GetSubsystemByName(\n        \"spot.controller\"\n    )\ncontroller_plant = spot_controller.get_multibody_plant_for_control()\n\ndifferential_ik = AddSpotDifferentialIK(builder,controller_plant, \nframe=controller_plant.GetFrameByName(\"arm_link_fngr\"),\n)\nstate_interpolator = builder.AddSystem(StateInterpolatorWithDiscreteDerivative(10,.1))\nswitch = builder.AddSystem(PortSwitch(20))\npass_through= builder.AddSystem(PassThrough(20))\n\nbuilder.Connect(\n    state_interpolator.GetOutputPort(\"state\"),\n    switch.DeclareInputPort(\"diff_ik\"),\n)\n\nbuilder.Connect(\n    pass_through.get_output_port(),\n    switch.DeclareInputPort(\"position\"),)\n\nbuilder.Connect(\n    station.GetOutputPort(\"spot.state_estimated\"),\n    differential_ik.GetInputPort(\"robot_state\"),\n)\n\nbuilder.Connect(\n    differential_ik.get_output_port(),\n    state_interpolator.GetInputPort(\"position\"),)\n\nbuilder.Connect(\n  switch.GetOutputPort(\"value\"),\n    station.GetInputPort(\"spot.desired_state\"),)\n\ndiagram = builder.Build() \nsimulator = Simulator(diagram)\ncontext = simulator.get_context()\n\n\nplant_context = plant.GetMyMutableContextFromRoot(context)\ndiff_context = differential_ik.GetMyMutableContextFromRoot(context)\npass_through_context = pass_through.GetMyMutableContextFromRoot(context)\nstation_context= station.GetMyMutableContextFromRoot(context)\nswitch_context = switch.GetMyMutableContextFromRoot(context)\n\ndifferential_ik.GetInputPort(\"use_robot_state\").FixValue(diff_context, True)\n\n#looking_pose\ndefault_pose = [0 for _ in range(20)]\nhalfpi=1.57\ndefault_pose[0:10]=[0,0,halfpi,0,-halfpi,halfpi,0,0,0,-halfpi] #high\n#default_pose[0:10]=[0,0,halfpi,0,0,halfpi,0,-halfpi,0,-halfpi] #low\npass_through.GetInputPort(\"u\").FixValue(pass_through_context, default_pose)\npredictor = SamPredictor(mobile_sam)",
      "metadata": {
        "source_hash": null,
        "execution_start": 1702342686111,
        "execution_millis": 8221,
        "deepnote_app_coordinates": {
          "h": 120,
          "w": 12,
          "x": 0,
          "y": 0
        },
        "deepnote_to_be_reexecuted": false,
        "cell_id": "afc5423b5a2244ee8483da11bb73979d",
        "deepnote_cell_type": "code"
      },
      "outputs": [
        {
          "name": "stderr",
          "text": "WARNING:drake:warning: Warning parsing Wavefront obj data : Both `d` and `Tr` parameters defined for \"08___Default\". Use the value of `d` for dissolve (line 8 in .mtl.)\nBoth `d` and `Tr` parameters defined for \"07___Default\". Use the value of `d` for dissolve (line 20 in .mtl.)\nWARNING:drake:warning: The mesh /root/.cache/drake/package_map/20a4f12896b04cc73e186cf876bf2c7e905ee88f8add8ea51bf52dfc888674b4-ca6d3a228be48be462ee1bd208d442e8100a6512092922877d50518154e3fb0e/meshes/arm/visual/arm_link_el1.obj has its own materials, but material properties have been defined as well. They will be ignored: ('phong', 'diffuse') = 0.2 0.2 0.2   1\nWARNING:drake:warning: The mesh /root/.cache/drake/package_map/20a4f12896b04cc73e186cf876bf2c7e905ee88f8add8ea51bf52dfc888674b4-ca6d3a228be48be462ee1bd208d442e8100a6512092922877d50518154e3fb0e/meshes/arm/visual/arm_link_el1.obj has its own materials, but material properties have been defined as well. They will be ignored: ('phong', 'diffuse') = 0.2 0.2 0.2   1\nWARNING:drake:warning: The mesh /root/.cache/drake/package_map/20a4f12896b04cc73e186cf876bf2c7e905ee88f8add8ea51bf52dfc888674b4-ca6d3a228be48be462ee1bd208d442e8100a6512092922877d50518154e3fb0e/meshes/arm/visual/arm_link_sh1.obj has its own materials, but material properties have been defined as well. They will be ignored: ('phong', 'diffuse') = 0.2 0.2 0.2   1\nWARNING:drake:warning: The mesh /root/.cache/drake/package_map/20a4f12896b04cc73e186cf876bf2c7e905ee88f8add8ea51bf52dfc888674b4-ca6d3a228be48be462ee1bd208d442e8100a6512092922877d50518154e3fb0e/meshes/arm/visual/arm_link_sh1.obj has its own materials, but material properties have been defined as well. They will be ignored: ('phong', 'diffuse') = 0.2 0.2 0.2   1\nWARNING:drake:warning: The mesh /root/.cache/drake/package_map/20a4f12896b04cc73e186cf876bf2c7e905ee88f8add8ea51bf52dfc888674b4-ca6d3a228be48be462ee1bd208d442e8100a6512092922877d50518154e3fb0e/meshes/arm/visual/arm_link_sh0.obj has its own materials, but material properties have been defined as well. They will be ignored: ('phong', 'diffuse') = 0.2 0.2 0.2   1\nWARNING:drake:warning: The mesh /root/.cache/drake/package_map/20a4f12896b04cc73e186cf876bf2c7e905ee88f8add8ea51bf52dfc888674b4-ca6d3a228be48be462ee1bd208d442e8100a6512092922877d50518154e3fb0e/meshes/arm/visual/arm_link_wr1.obj has its own materials, but material properties have been defined as well. They will be ignored: ('phong', 'diffuse') = 0.2 0.2 0.2   1\nWARNING:drake:warning: The mesh /root/.cache/drake/package_map/20a4f12896b04cc73e186cf876bf2c7e905ee88f8add8ea51bf52dfc888674b4-ca6d3a228be48be462ee1bd208d442e8100a6512092922877d50518154e3fb0e/meshes/arm/visual/arm_link_wr1.obj has its own materials, but material properties have been defined as well. They will be ignored: ('phong', 'diffuse') = 0.2 0.2 0.2   1\nWARNING:drake:warning: The mesh /root/.cache/drake/package_map/20a4f12896b04cc73e186cf876bf2c7e905ee88f8add8ea51bf52dfc888674b4-ca6d3a228be48be462ee1bd208d442e8100a6512092922877d50518154e3fb0e/meshes/arm/visual/arm_link_el0.obj has its own materials, but material properties have been defined as well. They will be ignored: ('phong', 'diffuse') = 0.2 0.2 0.2   1\nWARNING:drake:warning: Both `d` and `Tr` parameters defined for \"08___Default\". Use the value of `d` for dissolve (line 8 in .mtl.)\nBoth `d` and `Tr` parameters defined for \"07___Default\". Use the value of `d` for dissolve (line 20 in .mtl.)\n\nWARNING:drake:warning: The mesh /root/.cache/drake/package_map/20a4f12896b04cc73e186cf876bf2c7e905ee88f8add8ea51bf52dfc888674b4-ca6d3a228be48be462ee1bd208d442e8100a6512092922877d50518154e3fb0e/meshes/arm/visual/arm_link_wr0.obj has its own materials, but material properties have been defined as well. They will be ignored: ('phong', 'diffuse') = 0.2 0.2 0.2   1\nWARNING:drake:warning: The mesh /root/.cache/drake/package_map/20a4f12896b04cc73e186cf876bf2c7e905ee88f8add8ea51bf52dfc888674b4-ca6d3a228be48be462ee1bd208d442e8100a6512092922877d50518154e3fb0e/meshes/arm/visual/arm_link_wr0.obj has its own materials, but material properties have been defined as well. They will be ignored: ('phong', 'diffuse') = 0.2 0.2 0.2   1\nWARNING:drake:warning: The mesh /root/.cache/drake/package_map/20a4f12896b04cc73e186cf876bf2c7e905ee88f8add8ea51bf52dfc888674b4-ca6d3a228be48be462ee1bd208d442e8100a6512092922877d50518154e3fb0e/meshes/arm/visual/arm_link_fngr.obj has its own materials, but material properties have been defined as well. They will be ignored: ('phong', 'diffuse') = 0.2 0.2 0.2   1\nWARNING:drake:warning: The mesh /root/.cache/drake/package_map/20a4f12896b04cc73e186cf876bf2c7e905ee88f8add8ea51bf52dfc888674b4-ca6d3a228be48be462ee1bd208d442e8100a6512092922877d50518154e3fb0e/meshes/arm/visual/arm_link_fngr.obj has its own materials, but material properties have been defined as well. They will be ignored: ('phong', 'diffuse') = 0.2 0.2 0.2   1\n",
          "output_type": "stream"
        }
      ],
      "execution_count": null,
      "block_group": "8bbb8e57d9634cb0848163f577378d78"
    },
    {
      "cell_type": "code",
      "source": "SVG(pydot.graph_from_dot_data(diagram.GetGraphvizString())[0].create_svg())",
      "metadata": {
        "source_hash": null,
        "execution_start": 1702342694317,
        "execution_millis": 788,
        "deepnote_app_coordinates": {
          "h": 120,
          "w": 12,
          "x": 0,
          "y": 0
        },
        "deepnote_to_be_reexecuted": false,
        "cell_id": "8d8113c0f383489799a1d81296c06e2f",
        "deepnote_cell_type": "code"
      },
      "outputs": [
        {
          "output_type": "execute_result",
          "execution_count": 10,
          "data": {
            "text/plain": "<IPython.core.display.SVG object>",
            "image/svg+xml": "<svg xmlns=\"http://www.w3.org/2000/svg\" xmlns:xlink=\"http://www.w3.org/1999/xlink\" width=\"4726pt\" height=\"1663pt\" viewBox=\"0.00 0.00 4725.77 1663.00\">\n<g id=\"graph0\" class=\"graph\" transform=\"scale(1 1) rotate(0) translate(4 1659)\">\n<title>_497</title>\n<polygon fill=\"white\" stroke=\"transparent\" points=\"-4,4 -4,-1659 4721.77,-1659 4721.77,4 -4,4\"/>\n<g id=\"clust1\" class=\"cluster\">\n<title>cluster497diagram</title>\n<polygon fill=\"none\" stroke=\"black\" points=\"8,-8 8,-1647 4709.77,-1647 4709.77,-8 8,-8\"/>\n<text text-anchor=\"start\" x=\"2324.88\" y=\"-1628.3\" font-family=\"Times,serif\" font-weight=\"bold\" font-size=\"14.00\">Diagram</text>\n</g>\n<g id=\"clust2\" class=\"cluster\">\n<title>cluster497subsystems</title>\n<polygon fill=\"none\" stroke=\"white\" points=\"16,-16 16,-1608 4701.77,-1608 4701.77,-16 16,-16\"/>\n</g>\n<g id=\"clust3\" class=\"cluster\">\n<title>cluster466diagram</title>\n<polygon fill=\"none\" stroke=\"black\" points=\"889,-24 889,-1590 4329.77,-1590 4329.77,-24 889,-24\"/>\n<text text-anchor=\"start\" x=\"2575.88\" y=\"-1571.8\" font-family=\"Times,serif\" font-weight=\"bold\" font-size=\"14.00\">Diagram</text>\n<text text-anchor=\"start\" x=\"2559.38\" y=\"-1557.8\" font-family=\"Times,serif\" font-size=\"14.00\">name=station</text>\n</g>\n<g id=\"clust4\" class=\"cluster\">\n<title>clusters466in</title>\n<polygon fill=\"lightgrey\" stroke=\"lightgrey\" points=\"897,-1158 897,-1233 1073,-1233 1073,-1158 897,-1158\"/>\n<text text-anchor=\"middle\" x=\"985\" y=\"-1217.8\" font-family=\"Times,serif\" font-size=\"14.00\">input ports</text>\n</g>\n<g id=\"clust5\" class=\"cluster\">\n<title>clusters466out</title>\n<polygon fill=\"lightgrey\" stroke=\"lightgrey\" points=\"4023.38,-1296 4023.38,-1538 4232.38,-1538 4232.38,-1296 4023.38,-1296\"/>\n<text text-anchor=\"middle\" x=\"4127.88\" y=\"-1522.8\" font-family=\"Times,serif\" font-size=\"14.00\">output ports</text>\n</g>\n<g id=\"clust6\" class=\"cluster\">\n<title>cluster466subsystems</title>\n<polygon fill=\"none\" stroke=\"white\" points=\"1081,-32 1081,-1288 4321.77,-1288 4321.77,-32 1081,-32\"/>\n</g>\n<g id=\"clust7\" class=\"cluster\">\n<title>cluster278diagram</title>\n<polygon fill=\"none\" stroke=\"black\" points=\"1089,-972 1089,-1280 2194,-1280 2194,-972 1089,-972\"/>\n<text text-anchor=\"start\" x=\"1533.5\" y=\"-1261.8\" font-family=\"Times,serif\" font-weight=\"bold\" font-size=\"14.00\">InverseDynamicsController</text>\n<text text-anchor=\"start\" x=\"1563.5\" y=\"-1247.8\" font-family=\"Times,serif\" font-size=\"14.00\">name=spot.controller</text>\n</g>\n<g id=\"clust8\" class=\"cluster\">\n<title>clusters278in</title>\n<polygon fill=\"lightgrey\" stroke=\"lightgrey\" points=\"1097,-1121 1097,-1220 1256,-1220 1256,-1121 1097,-1121\"/>\n<text text-anchor=\"middle\" x=\"1176.5\" y=\"-1204.8\" font-family=\"Times,serif\" font-size=\"14.00\">input ports</text>\n</g>\n<g id=\"clust9\" class=\"cluster\">\n<title>clusters278out</title>\n<polygon fill=\"lightgrey\" stroke=\"lightgrey\" points=\"2015,-1076 2015,-1175 2186,-1175 2186,-1076 2015,-1076\"/>\n<text text-anchor=\"middle\" x=\"2100.5\" y=\"-1159.8\" font-family=\"Times,serif\" font-size=\"14.00\">output ports</text>\n</g>\n<g id=\"clust10\" class=\"cluster\">\n<title>cluster278subsystems</title>\n<polygon fill=\"none\" stroke=\"white\" points=\"1276,-992 1276,-1228 1995,-1228 1995,-992 1276,-992\"/>\n</g>\n<g id=\"clust11\" class=\"cluster\">\n<title>cluster468diagram</title>\n<polygon fill=\"none\" stroke=\"black\" points=\"24,-1317 24,-1452 656,-1452 656,-1317 24,-1317\"/>\n<text text-anchor=\"start\" x=\"179\" y=\"-1433.3\" font-family=\"Times,serif\" font-weight=\"bold\" font-size=\"14.00\">StateInterpolatorWithDiscreteDerivative</text>\n</g>\n<g id=\"clust12\" class=\"cluster\">\n<title>clusters468in</title>\n<polygon fill=\"lightgrey\" stroke=\"lightgrey\" points=\"32,-1338 32,-1413 134,-1413 134,-1338 32,-1338\"/>\n<text text-anchor=\"middle\" x=\"83\" y=\"-1397.8\" font-family=\"Times,serif\" font-size=\"14.00\">input ports</text>\n</g>\n<g id=\"clust13\" class=\"cluster\">\n<title>clusters468out</title>\n<polygon fill=\"lightgrey\" stroke=\"lightgrey\" points=\"542,-1329 542,-1404 648,-1404 648,-1329 542,-1329\"/>\n<text text-anchor=\"middle\" x=\"595\" y=\"-1388.8\" font-family=\"Times,serif\" font-size=\"14.00\">output ports</text>\n</g>\n<g id=\"clust14\" class=\"cluster\">\n<title>cluster468subsystems</title>\n<polygon fill=\"none\" stroke=\"white\" points=\"154,-1325 154,-1413 490,-1413 490,-1325 154,-1325\"/>\n</g>\n<!-- s466in -->\n<g id=\"node1\" class=\"node\">\n<title>s466in</title>\n<polygon fill=\"none\" stroke=\"blue\" points=\"916,-1173 916,-1194 1054,-1194 1054,-1173 916,-1173\"/>\n<text text-anchor=\"start\" x=\"919\" y=\"-1179.8\" font-family=\"Times,serif\" font-size=\"14.00\">spot.desired_state</text>\n</g>\n<!-- s278in -->\n<g id=\"node5\" class=\"node\">\n<title>s278in</title>\n<polygon fill=\"none\" stroke=\"blue\" points=\"1116.5,-1160 1116.5,-1181 1237.5,-1181 1237.5,-1160 1116.5,-1160\"/>\n<text text-anchor=\"start\" x=\"1119.5\" y=\"-1166.8\" font-family=\"Times,serif\" font-size=\"14.00\">estimated_state</text>\n<polygon fill=\"none\" stroke=\"blue\" points=\"1116.5,-1136 1116.5,-1157 1237.5,-1157 1237.5,-1136 1116.5,-1136\"/>\n<text text-anchor=\"start\" x=\"1128.5\" y=\"-1142.8\" font-family=\"Times,serif\" font-size=\"14.00\">desired_state</text>\n</g>\n<!-- s466in&#45;&gt;s278in -->\n<g id=\"edge32\" class=\"edge\">\n<title>s466in:e-&gt;s278in:w</title>\n<path fill=\"none\" stroke=\"blue\" d=\"M1055,-1183C1082.7,-1183 1084.1,-1154.42 1105.43,-1147.5\"/>\n<polygon fill=\"blue\" stroke=\"blue\" points=\"1106.12,-1150.93 1115.5,-1146 1105.09,-1144.01 1106.12,-1150.93\"/>\n</g>\n<!-- s466out -->\n<g id=\"node2\" class=\"node\">\n<title>s466out</title>\n<polygon fill=\"none\" stroke=\"green\" points=\"4042.88,-1478 4042.88,-1499 4213.88,-1499 4213.88,-1478 4042.88,-1478\"/>\n<text text-anchor=\"start\" x=\"4053.38\" y=\"-1484.8\" font-family=\"Times,serif\" font-size=\"14.00\">spot.state_estimated</text>\n<polygon fill=\"none\" stroke=\"green\" points=\"4042.88,-1454 4042.88,-1475 4213.88,-1475 4213.88,-1454 4042.88,-1454\"/>\n<text text-anchor=\"start\" x=\"4070.88\" y=\"-1460.8\" font-family=\"Times,serif\" font-size=\"14.00\">hand.rgb_image</text>\n<polygon fill=\"none\" stroke=\"green\" points=\"4042.88,-1430 4042.88,-1451 4213.88,-1451 4213.88,-1430 4042.88,-1430\"/>\n<text text-anchor=\"start\" x=\"4062.38\" y=\"-1436.8\" font-family=\"Times,serif\" font-size=\"14.00\">hand.depth_image</text>\n<polygon fill=\"none\" stroke=\"green\" points=\"4042.88,-1406 4042.88,-1427 4213.88,-1427 4213.88,-1406 4042.88,-1406\"/>\n<text text-anchor=\"start\" x=\"4065.88\" y=\"-1412.8\" font-family=\"Times,serif\" font-size=\"14.00\">hand.label_image</text>\n<polygon fill=\"none\" stroke=\"green\" points=\"4042.88,-1382 4042.88,-1403 4213.88,-1403 4213.88,-1382 4042.88,-1382\"/>\n<text text-anchor=\"start\" x=\"4082.38\" y=\"-1388.8\" font-family=\"Times,serif\" font-size=\"14.00\">query_object</text>\n<polygon fill=\"none\" stroke=\"green\" points=\"4042.88,-1358 4042.88,-1379 4213.88,-1379 4213.88,-1358 4042.88,-1358\"/>\n<text text-anchor=\"start\" x=\"4073.88\" y=\"-1364.8\" font-family=\"Times,serif\" font-size=\"14.00\">contact_results</text>\n<polygon fill=\"none\" stroke=\"green\" points=\"4042.88,-1334 4042.88,-1355 4213.88,-1355 4213.88,-1334 4042.88,-1334\"/>\n<text text-anchor=\"start\" x=\"4045.88\" y=\"-1340.8\" font-family=\"Times,serif\" font-size=\"14.00\">plant_continuous_state</text>\n<polygon fill=\"none\" stroke=\"green\" points=\"4042.88,-1310 4042.88,-1331 4213.88,-1331 4213.88,-1310 4042.88,-1310\"/>\n<text text-anchor=\"start\" x=\"4087.38\" y=\"-1316.8\" font-family=\"Times,serif\" font-size=\"14.00\">body_poses</text>\n</g>\n<!-- s467 -->\n<g id=\"node24\" class=\"node\">\n<title>s467</title>\n<polygon fill=\"none\" stroke=\"black\" points=\"4357.77,-1548 4357.77,-1569 4685.77,-1569 4685.77,-1548 4357.77,-1548\"/>\n<text text-anchor=\"start\" x=\"4360.77\" y=\"-1555.8\" font-family=\"Times,serif\" font-weight=\"bold\" font-size=\"14.00\">DifferentialInverseKinematicsIntegrator</text>\n<polygon fill=\"none\" stroke=\"black\" points=\"4357.77,-1527 4357.77,-1548 4525.77,-1548 4525.77,-1527 4357.77,-1527\"/>\n<text text-anchor=\"start\" x=\"4390.77\" y=\"-1533.8\" font-family=\"Times,serif\" font-size=\"14.00\">X_WE_desired</text>\n<polygon fill=\"none\" stroke=\"black\" points=\"4525.77,-1485 4525.77,-1548 4685.77,-1548 4685.77,-1485 4525.77,-1485\"/>\n<text text-anchor=\"start\" x=\"4553.77\" y=\"-1512.8\" font-family=\"Times,serif\" font-size=\"14.00\">joint_positions</text>\n<polygon fill=\"none\" stroke=\"black\" points=\"4357.77,-1506 4357.77,-1527 4525.77,-1527 4525.77,-1506 4357.77,-1506\"/>\n<text text-anchor=\"start\" x=\"4400.77\" y=\"-1512.8\" font-family=\"Times,serif\" font-size=\"14.00\">robot_state</text>\n<polygon fill=\"none\" stroke=\"black\" points=\"4357.77,-1485 4357.77,-1506 4525.77,-1506 4525.77,-1485 4357.77,-1485\"/>\n<text text-anchor=\"start\" x=\"4385.27\" y=\"-1491.8\" font-family=\"Times,serif\" font-size=\"14.00\">use_robot_state</text>\n</g>\n<!-- s466out&#45;&gt;s467 -->\n<g id=\"edge49\" class=\"edge\">\n<title>s466out:e-&gt;s467:w</title>\n<path fill=\"none\" stroke=\"black\" d=\"M4214.88,-1489C4216.58,-1489 4314.99,-1508.22 4346.91,-1514.23\"/>\n<polygon fill=\"black\" stroke=\"black\" points=\"4346.31,-1517.68 4356.77,-1516 4347.54,-1510.79 4346.31,-1517.68\"/>\n</g>\n<!-- s2 -->\n<g id=\"node3\" class=\"node\">\n<title>s2</title>\n<polygon fill=\"none\" stroke=\"black\" points=\"2222.5,-1241 2222.5,-1275 2853.5,-1275 2853.5,-1241 2222.5,-1241\"/>\n<text text-anchor=\"start\" x=\"2476.5\" y=\"-1261.8\" font-family=\"Times,serif\" font-weight=\"bold\" font-size=\"14.00\">MultibodyPlant</text>\n<text text-anchor=\"start\" x=\"2494\" y=\"-1247.8\" font-family=\"Times,serif\" font-size=\"14.00\">name=plant</text>\n<polygon fill=\"none\" stroke=\"black\" points=\"2222.5,-1220 2222.5,-1241 2489.5,-1241 2489.5,-1220 2222.5,-1220\"/>\n<text text-anchor=\"start\" x=\"2297.5\" y=\"-1226.8\" font-family=\"Times,serif\" font-size=\"14.00\">geometry_query</text>\n<polygon fill=\"none\" stroke=\"black\" points=\"2489.5,-1220 2489.5,-1241 2853.5,-1241 2853.5,-1220 2489.5,-1220\"/>\n<text text-anchor=\"start\" x=\"2617\" y=\"-1226.8\" font-family=\"Times,serif\" font-size=\"14.00\">geometry_pose</text>\n<polygon fill=\"none\" stroke=\"black\" points=\"2222.5,-1199 2222.5,-1220 2489.5,-1220 2489.5,-1199 2222.5,-1199\"/>\n<text text-anchor=\"start\" x=\"2245.5\" y=\"-1205.8\" font-family=\"Times,serif\" font-size=\"14.00\" fill=\"grey\">WorldModelInstance_actuation</text>\n<polygon fill=\"none\" stroke=\"black\" points=\"2489.5,-1199 2489.5,-1220 2853.5,-1220 2853.5,-1199 2489.5,-1199\"/>\n<text text-anchor=\"start\" x=\"2546\" y=\"-1205.8\" font-family=\"Times,serif\" font-size=\"14.00\" fill=\"grey\">WorldModelInstance_net_actuation</text>\n<polygon fill=\"none\" stroke=\"black\" points=\"2222.5,-1178 2222.5,-1199 2489.5,-1199 2489.5,-1178 2222.5,-1178\"/>\n<text text-anchor=\"start\" x=\"2240\" y=\"-1184.8\" font-family=\"Times,serif\" font-size=\"14.00\" fill=\"grey\">DefaultModelInstance_actuation</text>\n<polygon fill=\"none\" stroke=\"black\" points=\"2489.5,-1178 2489.5,-1199 2853.5,-1199 2853.5,-1178 2489.5,-1178\"/>\n<text text-anchor=\"start\" x=\"2540.5\" y=\"-1184.8\" font-family=\"Times,serif\" font-size=\"14.00\" fill=\"grey\">DefaultModelInstance_net_actuation</text>\n<polygon fill=\"none\" stroke=\"black\" points=\"2222.5,-1157 2222.5,-1178 2489.5,-1178 2489.5,-1157 2222.5,-1157\"/>\n<text text-anchor=\"start\" x=\"2301\" y=\"-1163.8\" font-family=\"Times,serif\" font-size=\"14.00\" fill=\"grey\">pitch_actuation</text>\n<polygon fill=\"none\" stroke=\"black\" points=\"2489.5,-1157 2489.5,-1178 2853.5,-1178 2853.5,-1157 2489.5,-1157\"/>\n<text text-anchor=\"start\" x=\"2601.5\" y=\"-1163.8\" font-family=\"Times,serif\" font-size=\"14.00\" fill=\"grey\">pitch_net_actuation</text>\n<polygon fill=\"none\" stroke=\"black\" points=\"2222.5,-1136 2222.5,-1157 2489.5,-1157 2489.5,-1136 2222.5,-1136\"/>\n<text text-anchor=\"start\" x=\"2306\" y=\"-1142.8\" font-family=\"Times,serif\" font-size=\"14.00\" fill=\"grey\">ball_actuation</text>\n<polygon fill=\"none\" stroke=\"black\" points=\"2489.5,-1136 2489.5,-1157 2853.5,-1157 2853.5,-1136 2489.5,-1136\"/>\n<text text-anchor=\"start\" x=\"2606.5\" y=\"-1142.8\" font-family=\"Times,serif\" font-size=\"14.00\" fill=\"grey\">ball_net_actuation</text>\n<polygon fill=\"none\" stroke=\"black\" points=\"2222.5,-1115 2222.5,-1136 2489.5,-1136 2489.5,-1115 2222.5,-1115\"/>\n<text text-anchor=\"start\" x=\"2303.5\" y=\"-1121.8\" font-family=\"Times,serif\" font-size=\"14.00\">spot_actuation</text>\n<polygon fill=\"none\" stroke=\"black\" points=\"2489.5,-1115 2489.5,-1136 2853.5,-1136 2853.5,-1115 2489.5,-1115\"/>\n<text text-anchor=\"start\" x=\"2604\" y=\"-1121.8\" font-family=\"Times,serif\" font-size=\"14.00\">spot_net_actuation</text>\n<polygon fill=\"none\" stroke=\"black\" points=\"2222.5,-1094 2222.5,-1115 2489.5,-1115 2489.5,-1094 2222.5,-1094\"/>\n<text text-anchor=\"start\" x=\"2304\" y=\"-1100.8\" font-family=\"Times,serif\" font-size=\"14.00\" fill=\"grey\">goal_actuation</text>\n<polygon fill=\"none\" stroke=\"black\" points=\"2489.5,-1094 2489.5,-1115 2853.5,-1115 2853.5,-1094 2489.5,-1094\"/>\n<text text-anchor=\"start\" x=\"2604.5\" y=\"-1100.8\" font-family=\"Times,serif\" font-size=\"14.00\" fill=\"grey\">goal_net_actuation</text>\n<polygon fill=\"none\" stroke=\"black\" points=\"2222.5,-1073 2222.5,-1094 2489.5,-1094 2489.5,-1073 2222.5,-1073\"/>\n<text text-anchor=\"start\" x=\"2285\" y=\"-1079.8\" font-family=\"Times,serif\" font-size=\"14.00\" fill=\"grey\">attacker0_actuation</text>\n<polygon fill=\"none\" stroke=\"black\" points=\"2489.5,-1073 2489.5,-1094 2853.5,-1094 2853.5,-1073 2489.5,-1073\"/>\n<text text-anchor=\"start\" x=\"2585.5\" y=\"-1079.8\" font-family=\"Times,serif\" font-size=\"14.00\" fill=\"grey\">attacker0_net_actuation</text>\n<polygon fill=\"none\" stroke=\"black\" points=\"2222.5,-1052 2222.5,-1073 2489.5,-1073 2489.5,-1052 2222.5,-1052\"/>\n<text text-anchor=\"start\" x=\"2285\" y=\"-1058.8\" font-family=\"Times,serif\" font-size=\"14.00\" fill=\"grey\">attacker1_actuation</text>\n<polygon fill=\"none\" stroke=\"black\" points=\"2489.5,-1052 2489.5,-1073 2853.5,-1073 2853.5,-1052 2489.5,-1052\"/>\n<text text-anchor=\"start\" x=\"2585.5\" y=\"-1058.8\" font-family=\"Times,serif\" font-size=\"14.00\" fill=\"grey\">attacker1_net_actuation</text>\n<polygon fill=\"none\" stroke=\"black\" points=\"2222.5,-1031 2222.5,-1052 2489.5,-1052 2489.5,-1031 2222.5,-1031\"/>\n<text text-anchor=\"start\" x=\"2285\" y=\"-1037.8\" font-family=\"Times,serif\" font-size=\"14.00\" fill=\"grey\">attacker2_actuation</text>\n<polygon fill=\"none\" stroke=\"black\" points=\"2489.5,-1031 2489.5,-1052 2853.5,-1052 2853.5,-1031 2489.5,-1031\"/>\n<text text-anchor=\"start\" x=\"2585.5\" y=\"-1037.8\" font-family=\"Times,serif\" font-size=\"14.00\" fill=\"grey\">attacker2_net_actuation</text>\n<polygon fill=\"none\" stroke=\"black\" points=\"2222.5,-1010 2222.5,-1031 2489.5,-1031 2489.5,-1010 2222.5,-1010\"/>\n<text text-anchor=\"start\" x=\"2282.5\" y=\"-1016.8\" font-family=\"Times,serif\" font-size=\"14.00\" fill=\"grey\">defender0_actuation</text>\n<polygon fill=\"none\" stroke=\"black\" points=\"2489.5,-1010 2489.5,-1031 2853.5,-1031 2853.5,-1010 2489.5,-1010\"/>\n<text text-anchor=\"start\" x=\"2583\" y=\"-1016.8\" font-family=\"Times,serif\" font-size=\"14.00\" fill=\"grey\">defender0_net_actuation</text>\n<polygon fill=\"none\" stroke=\"black\" points=\"2222.5,-989 2222.5,-1010 2489.5,-1010 2489.5,-989 2222.5,-989\"/>\n<text text-anchor=\"start\" x=\"2282.5\" y=\"-995.8\" font-family=\"Times,serif\" font-size=\"14.00\" fill=\"grey\">defender1_actuation</text>\n<polygon fill=\"none\" stroke=\"black\" points=\"2489.5,-989 2489.5,-1010 2853.5,-1010 2853.5,-989 2489.5,-989\"/>\n<text text-anchor=\"start\" x=\"2583\" y=\"-995.8\" font-family=\"Times,serif\" font-size=\"14.00\" fill=\"grey\">defender1_net_actuation</text>\n<polygon fill=\"none\" stroke=\"black\" points=\"2222.5,-968 2222.5,-989 2489.5,-989 2489.5,-968 2222.5,-968\"/>\n<text text-anchor=\"start\" x=\"2282.5\" y=\"-974.8\" font-family=\"Times,serif\" font-size=\"14.00\" fill=\"grey\">defender2_actuation</text>\n<polygon fill=\"none\" stroke=\"black\" points=\"2489.5,-968 2489.5,-989 2853.5,-989 2853.5,-968 2489.5,-968\"/>\n<text text-anchor=\"start\" x=\"2583\" y=\"-974.8\" font-family=\"Times,serif\" font-size=\"14.00\" fill=\"grey\">defender2_net_actuation</text>\n<polygon fill=\"none\" stroke=\"black\" points=\"2222.5,-947 2222.5,-968 2489.5,-968 2489.5,-947 2222.5,-947\"/>\n<text text-anchor=\"start\" x=\"2322.5\" y=\"-953.8\" font-family=\"Times,serif\" font-size=\"14.00\">actuation</text>\n<polygon fill=\"none\" stroke=\"black\" points=\"2489.5,-947 2489.5,-968 2853.5,-968 2853.5,-947 2489.5,-947\"/>\n<text text-anchor=\"start\" x=\"2623\" y=\"-953.8\" font-family=\"Times,serif\" font-size=\"14.00\">net_actuation</text>\n<polygon fill=\"none\" stroke=\"black\" points=\"2222.5,-926 2222.5,-947 2489.5,-947 2489.5,-926 2222.5,-926\"/>\n<text text-anchor=\"start\" x=\"2231\" y=\"-932.8\" font-family=\"Times,serif\" font-size=\"14.00\" fill=\"grey\">WorldModelInstance_desired_state</text>\n<polygon fill=\"none\" stroke=\"black\" points=\"2489.5,-926 2489.5,-947 2853.5,-947 2853.5,-926 2489.5,-926\"/>\n<text text-anchor=\"start\" x=\"2653\" y=\"-932.8\" font-family=\"Times,serif\" font-size=\"14.00\">state</text>\n<polygon fill=\"none\" stroke=\"black\" points=\"2222.5,-905 2222.5,-926 2489.5,-926 2489.5,-905 2222.5,-905\"/>\n<text text-anchor=\"start\" x=\"2225.5\" y=\"-911.8\" font-family=\"Times,serif\" font-size=\"14.00\" fill=\"grey\">DefaultModelInstance_desired_state</text>\n<polygon fill=\"none\" stroke=\"black\" points=\"2489.5,-905 2489.5,-926 2853.5,-926 2853.5,-905 2489.5,-905\"/>\n<text text-anchor=\"start\" x=\"2630.5\" y=\"-911.8\" font-family=\"Times,serif\" font-size=\"14.00\">body_poses</text>\n<polygon fill=\"none\" stroke=\"black\" points=\"2222.5,-884 2222.5,-905 2489.5,-905 2489.5,-884 2222.5,-884\"/>\n<text text-anchor=\"start\" x=\"2286.5\" y=\"-890.8\" font-family=\"Times,serif\" font-size=\"14.00\" fill=\"grey\">pitch_desired_state</text>\n<polygon fill=\"none\" stroke=\"black\" points=\"2489.5,-884 2489.5,-905 2853.5,-905 2853.5,-884 2489.5,-884\"/>\n<text text-anchor=\"start\" x=\"2610\" y=\"-890.8\" font-family=\"Times,serif\" font-size=\"14.00\">spatial_velocities</text>\n<polygon fill=\"none\" stroke=\"black\" points=\"2222.5,-863 2222.5,-884 2489.5,-884 2489.5,-863 2222.5,-863\"/>\n<text text-anchor=\"start\" x=\"2291\" y=\"-869.8\" font-family=\"Times,serif\" font-size=\"14.00\" fill=\"grey\">ball_desired_state</text>\n<polygon fill=\"none\" stroke=\"black\" points=\"2489.5,-863 2489.5,-884 2853.5,-884 2853.5,-863 2489.5,-863\"/>\n<text text-anchor=\"start\" x=\"2596.5\" y=\"-869.8\" font-family=\"Times,serif\" font-size=\"14.00\">spatial_accelerations</text>\n<polygon fill=\"none\" stroke=\"black\" points=\"2222.5,-842 2222.5,-863 2489.5,-863 2489.5,-842 2222.5,-842\"/>\n<text text-anchor=\"start\" x=\"2289\" y=\"-848.8\" font-family=\"Times,serif\" font-size=\"14.00\" fill=\"grey\">spot_desired_state</text>\n<polygon fill=\"none\" stroke=\"black\" points=\"2489.5,-842 2489.5,-863 2853.5,-863 2853.5,-842 2489.5,-842\"/>\n<text text-anchor=\"start\" x=\"2582.5\" y=\"-848.8\" font-family=\"Times,serif\" font-size=\"14.00\">generalized_acceleration</text>\n<polygon fill=\"none\" stroke=\"black\" points=\"2222.5,-821 2222.5,-842 2489.5,-842 2489.5,-821 2222.5,-821\"/>\n<text text-anchor=\"start\" x=\"2289.5\" y=\"-827.8\" font-family=\"Times,serif\" font-size=\"14.00\" fill=\"grey\">goal_desired_state</text>\n<polygon fill=\"none\" stroke=\"black\" points=\"2489.5,-821 2489.5,-842 2853.5,-842 2853.5,-821 2489.5,-821\"/>\n<text text-anchor=\"start\" x=\"2576.5\" y=\"-827.8\" font-family=\"Times,serif\" font-size=\"14.00\" fill=\"grey\">WorldModelInstance_state</text>\n<polygon fill=\"none\" stroke=\"black\" points=\"2222.5,-800 2222.5,-821 2489.5,-821 2489.5,-800 2222.5,-800\"/>\n<text text-anchor=\"start\" x=\"2270\" y=\"-806.8\" font-family=\"Times,serif\" font-size=\"14.00\" fill=\"grey\">attacker0_desired_state</text>\n<polygon fill=\"none\" stroke=\"black\" points=\"2489.5,-800 2489.5,-821 2853.5,-821 2853.5,-800 2489.5,-800\"/>\n<text text-anchor=\"start\" x=\"2506\" y=\"-806.8\" font-family=\"Times,serif\" font-size=\"14.00\" fill=\"grey\">WorldModelInstance_generalized_acceleration</text>\n<polygon fill=\"none\" stroke=\"black\" points=\"2222.5,-779 2222.5,-800 2489.5,-800 2489.5,-779 2222.5,-779\"/>\n<text text-anchor=\"start\" x=\"2270\" y=\"-785.8\" font-family=\"Times,serif\" font-size=\"14.00\" fill=\"grey\">attacker1_desired_state</text>\n<polygon fill=\"none\" stroke=\"black\" points=\"2489.5,-779 2489.5,-800 2853.5,-800 2853.5,-779 2489.5,-779\"/>\n<text text-anchor=\"start\" x=\"2571\" y=\"-785.8\" font-family=\"Times,serif\" font-size=\"14.00\" fill=\"grey\">DefaultModelInstance_state</text>\n<polygon fill=\"none\" stroke=\"black\" points=\"2222.5,-758 2222.5,-779 2489.5,-779 2489.5,-758 2222.5,-758\"/>\n<text text-anchor=\"start\" x=\"2270\" y=\"-764.8\" font-family=\"Times,serif\" font-size=\"14.00\" fill=\"grey\">attacker2_desired_state</text>\n<polygon fill=\"none\" stroke=\"black\" points=\"2489.5,-758 2489.5,-779 2853.5,-779 2853.5,-758 2489.5,-758\"/>\n<text text-anchor=\"start\" x=\"2500.5\" y=\"-764.8\" font-family=\"Times,serif\" font-size=\"14.00\" fill=\"grey\">DefaultModelInstance_generalized_acceleration</text>\n<polygon fill=\"none\" stroke=\"black\" points=\"2222.5,-737 2222.5,-758 2489.5,-758 2489.5,-737 2222.5,-737\"/>\n<text text-anchor=\"start\" x=\"2268\" y=\"-743.8\" font-family=\"Times,serif\" font-size=\"14.00\" fill=\"grey\">defender0_desired_state</text>\n<polygon fill=\"none\" stroke=\"black\" points=\"2489.5,-737 2489.5,-758 2853.5,-758 2853.5,-737 2489.5,-737\"/>\n<text text-anchor=\"start\" x=\"2632\" y=\"-743.8\" font-family=\"Times,serif\" font-size=\"14.00\" fill=\"grey\">pitch_state</text>\n<polygon fill=\"none\" stroke=\"black\" points=\"2222.5,-716 2222.5,-737 2489.5,-737 2489.5,-716 2222.5,-716\"/>\n<text text-anchor=\"start\" x=\"2268\" y=\"-722.8\" font-family=\"Times,serif\" font-size=\"14.00\" fill=\"grey\">defender1_desired_state</text>\n<polygon fill=\"none\" stroke=\"black\" points=\"2489.5,-716 2489.5,-737 2853.5,-737 2853.5,-716 2489.5,-716\"/>\n<text text-anchor=\"start\" x=\"2561.5\" y=\"-722.8\" font-family=\"Times,serif\" font-size=\"14.00\" fill=\"grey\">pitch_generalized_acceleration</text>\n<polygon fill=\"none\" stroke=\"black\" points=\"2222.5,-695 2222.5,-716 2489.5,-716 2489.5,-695 2222.5,-695\"/>\n<text text-anchor=\"start\" x=\"2268\" y=\"-701.8\" font-family=\"Times,serif\" font-size=\"14.00\" fill=\"grey\">defender2_desired_state</text>\n<polygon fill=\"none\" stroke=\"black\" points=\"2489.5,-695 2489.5,-716 2853.5,-716 2853.5,-695 2489.5,-695\"/>\n<text text-anchor=\"start\" x=\"2636.5\" y=\"-701.8\" font-family=\"Times,serif\" font-size=\"14.00\">ball_state</text>\n<polygon fill=\"none\" stroke=\"black\" points=\"2222.5,-674 2222.5,-695 2489.5,-695 2489.5,-674 2222.5,-674\"/>\n<text text-anchor=\"start\" x=\"2263\" y=\"-680.8\" font-family=\"Times,serif\" font-size=\"14.00\">applied_generalized_force</text>\n<polygon fill=\"none\" stroke=\"black\" points=\"2489.5,-674 2489.5,-695 2853.5,-695 2853.5,-674 2489.5,-674\"/>\n<text text-anchor=\"start\" x=\"2566\" y=\"-680.8\" font-family=\"Times,serif\" font-size=\"14.00\">ball_generalized_acceleration</text>\n<polygon fill=\"none\" stroke=\"black\" points=\"2222.5,-653 2222.5,-674 2489.5,-674 2489.5,-653 2222.5,-653\"/>\n<text text-anchor=\"start\" x=\"2280.5\" y=\"-659.8\" font-family=\"Times,serif\" font-size=\"14.00\">applied_spatial_force</text>\n<polygon fill=\"none\" stroke=\"black\" points=\"2489.5,-653 2489.5,-674 2853.5,-674 2853.5,-653 2489.5,-653\"/>\n<text text-anchor=\"start\" x=\"2634.5\" y=\"-659.8\" font-family=\"Times,serif\" font-size=\"14.00\">spot_state</text>\n<polyline fill=\"none\" stroke=\"grey\" points=\"2222.5,-653 2222.5,-44 2489.5,-44 \"/>\n<polygon fill=\"none\" stroke=\"black\" points=\"2489.5,-632 2489.5,-653 2853.5,-653 2853.5,-632 2489.5,-632\"/>\n<text text-anchor=\"start\" x=\"2564\" y=\"-638.8\" font-family=\"Times,serif\" font-size=\"14.00\">spot_generalized_acceleration</text>\n<polygon fill=\"none\" stroke=\"black\" points=\"2489.5,-611 2489.5,-632 2853.5,-632 2853.5,-611 2489.5,-611\"/>\n<text text-anchor=\"start\" x=\"2635\" y=\"-617.8\" font-family=\"Times,serif\" font-size=\"14.00\">goal_state</text>\n<polygon fill=\"none\" stroke=\"black\" points=\"2489.5,-590 2489.5,-611 2853.5,-611 2853.5,-590 2489.5,-590\"/>\n<text text-anchor=\"start\" x=\"2564.5\" y=\"-596.8\" font-family=\"Times,serif\" font-size=\"14.00\">goal_generalized_acceleration</text>\n<polygon fill=\"none\" stroke=\"black\" points=\"2489.5,-569 2489.5,-590 2853.5,-590 2853.5,-569 2489.5,-569\"/>\n<text text-anchor=\"start\" x=\"2615.5\" y=\"-575.8\" font-family=\"Times,serif\" font-size=\"14.00\">attacker0_state</text>\n<polygon fill=\"none\" stroke=\"black\" points=\"2489.5,-548 2489.5,-569 2853.5,-569 2853.5,-548 2489.5,-548\"/>\n<text text-anchor=\"start\" x=\"2545\" y=\"-554.8\" font-family=\"Times,serif\" font-size=\"14.00\">attacker0_generalized_acceleration</text>\n<polygon fill=\"none\" stroke=\"black\" points=\"2489.5,-527 2489.5,-548 2853.5,-548 2853.5,-527 2489.5,-527\"/>\n<text text-anchor=\"start\" x=\"2615.5\" y=\"-533.8\" font-family=\"Times,serif\" font-size=\"14.00\">attacker1_state</text>\n<polygon fill=\"none\" stroke=\"black\" points=\"2489.5,-506 2489.5,-527 2853.5,-527 2853.5,-506 2489.5,-506\"/>\n<text text-anchor=\"start\" x=\"2545\" y=\"-512.8\" font-family=\"Times,serif\" font-size=\"14.00\">attacker1_generalized_acceleration</text>\n<polygon fill=\"none\" stroke=\"black\" points=\"2489.5,-485 2489.5,-506 2853.5,-506 2853.5,-485 2489.5,-485\"/>\n<text text-anchor=\"start\" x=\"2615.5\" y=\"-491.8\" font-family=\"Times,serif\" font-size=\"14.00\">attacker2_state</text>\n<polygon fill=\"none\" stroke=\"black\" points=\"2489.5,-464 2489.5,-485 2853.5,-485 2853.5,-464 2489.5,-464\"/>\n<text text-anchor=\"start\" x=\"2545\" y=\"-470.8\" font-family=\"Times,serif\" font-size=\"14.00\">attacker2_generalized_acceleration</text>\n<polygon fill=\"none\" stroke=\"black\" points=\"2489.5,-443 2489.5,-464 2853.5,-464 2853.5,-443 2489.5,-443\"/>\n<text text-anchor=\"start\" x=\"2613.5\" y=\"-449.8\" font-family=\"Times,serif\" font-size=\"14.00\">defender0_state</text>\n<polygon fill=\"none\" stroke=\"black\" points=\"2489.5,-422 2489.5,-443 2853.5,-443 2853.5,-422 2489.5,-422\"/>\n<text text-anchor=\"start\" x=\"2543\" y=\"-428.8\" font-family=\"Times,serif\" font-size=\"14.00\">defender0_generalized_acceleration</text>\n<polygon fill=\"none\" stroke=\"black\" points=\"2489.5,-401 2489.5,-422 2853.5,-422 2853.5,-401 2489.5,-401\"/>\n<text text-anchor=\"start\" x=\"2613.5\" y=\"-407.8\" font-family=\"Times,serif\" font-size=\"14.00\">defender1_state</text>\n<polygon fill=\"none\" stroke=\"black\" points=\"2489.5,-380 2489.5,-401 2853.5,-401 2853.5,-380 2489.5,-380\"/>\n<text text-anchor=\"start\" x=\"2543\" y=\"-386.8\" font-family=\"Times,serif\" font-size=\"14.00\">defender1_generalized_acceleration</text>\n<polygon fill=\"none\" stroke=\"black\" points=\"2489.5,-359 2489.5,-380 2853.5,-380 2853.5,-359 2489.5,-359\"/>\n<text text-anchor=\"start\" x=\"2613.5\" y=\"-365.8\" font-family=\"Times,serif\" font-size=\"14.00\">defender2_state</text>\n<polygon fill=\"none\" stroke=\"black\" points=\"2489.5,-338 2489.5,-359 2853.5,-359 2853.5,-338 2489.5,-338\"/>\n<text text-anchor=\"start\" x=\"2543\" y=\"-344.8\" font-family=\"Times,serif\" font-size=\"14.00\">defender2_generalized_acceleration</text>\n<polygon fill=\"none\" stroke=\"black\" points=\"2489.5,-317 2489.5,-338 2853.5,-338 2853.5,-317 2489.5,-317\"/>\n<text text-anchor=\"start\" x=\"2498\" y=\"-323.8\" font-family=\"Times,serif\" font-size=\"14.00\" fill=\"grey\">WorldModelInstance_generalized_contact_forces</text>\n<polygon fill=\"none\" stroke=\"black\" points=\"2489.5,-296 2489.5,-317 2853.5,-317 2853.5,-296 2489.5,-296\"/>\n<text text-anchor=\"start\" x=\"2492.5\" y=\"-302.8\" font-family=\"Times,serif\" font-size=\"14.00\" fill=\"grey\">DefaultModelInstance_generalized_contact_forces</text>\n<polygon fill=\"none\" stroke=\"black\" points=\"2489.5,-275 2489.5,-296 2853.5,-296 2853.5,-275 2489.5,-275\"/>\n<text text-anchor=\"start\" x=\"2553.5\" y=\"-281.8\" font-family=\"Times,serif\" font-size=\"14.00\" fill=\"grey\">pitch_generalized_contact_forces</text>\n<polygon fill=\"none\" stroke=\"black\" points=\"2489.5,-254 2489.5,-275 2853.5,-275 2853.5,-254 2489.5,-254\"/>\n<text text-anchor=\"start\" x=\"2558.5\" y=\"-260.8\" font-family=\"Times,serif\" font-size=\"14.00\">ball_generalized_contact_forces</text>\n<polygon fill=\"none\" stroke=\"black\" points=\"2489.5,-233 2489.5,-254 2853.5,-254 2853.5,-233 2489.5,-233\"/>\n<text text-anchor=\"start\" x=\"2556\" y=\"-239.8\" font-family=\"Times,serif\" font-size=\"14.00\">spot_generalized_contact_forces</text>\n<polygon fill=\"none\" stroke=\"black\" points=\"2489.5,-212 2489.5,-233 2853.5,-233 2853.5,-212 2489.5,-212\"/>\n<text text-anchor=\"start\" x=\"2556.5\" y=\"-218.8\" font-family=\"Times,serif\" font-size=\"14.00\">goal_generalized_contact_forces</text>\n<polygon fill=\"none\" stroke=\"black\" points=\"2489.5,-191 2489.5,-212 2853.5,-212 2853.5,-191 2489.5,-191\"/>\n<text text-anchor=\"start\" x=\"2537.5\" y=\"-197.8\" font-family=\"Times,serif\" font-size=\"14.00\">attacker0_generalized_contact_forces</text>\n<polygon fill=\"none\" stroke=\"black\" points=\"2489.5,-170 2489.5,-191 2853.5,-191 2853.5,-170 2489.5,-170\"/>\n<text text-anchor=\"start\" x=\"2537.5\" y=\"-176.8\" font-family=\"Times,serif\" font-size=\"14.00\">attacker1_generalized_contact_forces</text>\n<polygon fill=\"none\" stroke=\"black\" points=\"2489.5,-149 2489.5,-170 2853.5,-170 2853.5,-149 2489.5,-149\"/>\n<text text-anchor=\"start\" x=\"2537.5\" y=\"-155.8\" font-family=\"Times,serif\" font-size=\"14.00\">attacker2_generalized_contact_forces</text>\n<polygon fill=\"none\" stroke=\"black\" points=\"2489.5,-128 2489.5,-149 2853.5,-149 2853.5,-128 2489.5,-128\"/>\n<text text-anchor=\"start\" x=\"2535\" y=\"-134.8\" font-family=\"Times,serif\" font-size=\"14.00\">defender0_generalized_contact_forces</text>\n<polygon fill=\"none\" stroke=\"black\" points=\"2489.5,-107 2489.5,-128 2853.5,-128 2853.5,-107 2489.5,-107\"/>\n<text text-anchor=\"start\" x=\"2535\" y=\"-113.8\" font-family=\"Times,serif\" font-size=\"14.00\">defender1_generalized_contact_forces</text>\n<polygon fill=\"none\" stroke=\"black\" points=\"2489.5,-86 2489.5,-107 2853.5,-107 2853.5,-86 2489.5,-86\"/>\n<text text-anchor=\"start\" x=\"2535\" y=\"-92.8\" font-family=\"Times,serif\" font-size=\"14.00\">defender2_generalized_contact_forces</text>\n<polygon fill=\"none\" stroke=\"black\" points=\"2489.5,-65 2489.5,-86 2853.5,-86 2853.5,-65 2489.5,-65\"/>\n<text text-anchor=\"start\" x=\"2617\" y=\"-71.8\" font-family=\"Times,serif\" font-size=\"14.00\">reaction_forces</text>\n<polygon fill=\"none\" stroke=\"black\" points=\"2489.5,-44 2489.5,-65 2853.5,-65 2853.5,-44 2489.5,-44\"/>\n<text text-anchor=\"start\" x=\"2617\" y=\"-50.8\" font-family=\"Times,serif\" font-size=\"14.00\">contact_results</text>\n</g>\n<!-- s2&#45;&gt;s466out -->\n<g id=\"edge33\" class=\"edge\">\n<title>s2:e-&gt;s466out:w</title>\n<path fill=\"none\" stroke=\"green\" d=\"M2854.5,-664C2923.55,-664 2848.19,-1235.16 2897,-1284 2919.75,-1306.77 3154.03,-1300.29 3186,-1304 3350.17,-1323.06 3388.71,-1345.97 3553,-1364 3631.1,-1372.57 3832.39,-1356.52 3906,-1384 3974.15,-1409.44 3966.5,-1481.77 4031.71,-1488.5\"/>\n<polygon fill=\"green\" stroke=\"green\" points=\"4031.72,-1492 4041.88,-1489 4032.07,-1485.01 4031.72,-1492\"/>\n</g>\n<!-- s2&#45;&gt;s466out -->\n<g id=\"edge38\" class=\"edge\">\n<title>s2:e-&gt;s466out:w</title>\n<path fill=\"none\" stroke=\"green\" d=\"M2854.5,-54C2917.66,-54 2855.52,-1142.38 2897,-1190 2994.23,-1301.63 3406.64,-1283.79 3553,-1306 3766.16,-1338.34 3821.16,-1367.09 4031.74,-1367.98\"/>\n<polygon fill=\"green\" stroke=\"green\" points=\"4031.88,-1371.48 4041.88,-1368 4031.89,-1364.48 4031.88,-1371.48\"/>\n</g>\n<!-- s2&#45;&gt;s466out -->\n<g id=\"edge39\" class=\"edge\">\n<title>s2:e-&gt;s466out:w</title>\n<path fill=\"none\" stroke=\"green\" d=\"M2854.5,-937C2941.02,-937 2833.08,-1265.7 2897,-1324 2919.47,-1344.49 3916.37,-1344.08 4031.74,-1344.01\"/>\n<polygon fill=\"green\" stroke=\"green\" points=\"4031.89,-1347.51 4041.88,-1344 4031.88,-1340.51 4031.89,-1347.51\"/>\n</g>\n<!-- s2&#45;&gt;s466out -->\n<g id=\"edge40\" class=\"edge\">\n<title>s2:e-&gt;s466out:w</title>\n<path fill=\"none\" stroke=\"green\" d=\"M2854.5,-916C2916.12,-916 2853.89,-1145.97 2897,-1190 3073.77,-1370.55 3767.21,-1321.36 4031.52,-1320.03\"/>\n<polygon fill=\"green\" stroke=\"green\" points=\"4031.89,-1323.53 4041.88,-1320 4031.87,-1316.53 4031.89,-1323.53\"/>\n</g>\n<!-- s3 -->\n<g id=\"node4\" class=\"node\">\n<title>s3</title>\n<polygon fill=\"none\" stroke=\"black\" points=\"3230.5,-1072 3230.5,-1106 3509.5,-1106 3509.5,-1072 3230.5,-1072\"/>\n<text text-anchor=\"start\" x=\"3322\" y=\"-1092.8\" font-family=\"Times,serif\" font-weight=\"bold\" font-size=\"14.00\">SceneGraph</text>\n<text text-anchor=\"start\" x=\"3299.5\" y=\"-1078.8\" font-family=\"Times,serif\" font-size=\"14.00\">name=scene_graph</text>\n<polygon fill=\"none\" stroke=\"black\" points=\"3230.5,-1051 3230.5,-1072 3461.5,-1072 3461.5,-1051 3230.5,-1051\"/>\n<text text-anchor=\"start\" x=\"3307.5\" y=\"-1057.8\" font-family=\"Times,serif\" font-size=\"14.00\">plant_pose</text>\n<polygon fill=\"none\" stroke=\"black\" points=\"3461.5,-988 3461.5,-1072 3509.5,-1072 3509.5,-988 3461.5,-988\"/>\n<text text-anchor=\"start\" x=\"3464.5\" y=\"-1026.3\" font-family=\"Times,serif\" font-size=\"14.00\">query</text>\n<polygon fill=\"none\" stroke=\"black\" points=\"3230.5,-1030 3230.5,-1051 3461.5,-1051 3461.5,-1030 3230.5,-1030\"/>\n<text text-anchor=\"start\" x=\"3276.5\" y=\"-1036.8\" font-family=\"Times,serif\" font-size=\"14.00\">plant_configuration</text>\n<polygon fill=\"none\" stroke=\"black\" points=\"3230.5,-1009 3230.5,-1030 3461.5,-1030 3461.5,-1009 3230.5,-1009\"/>\n<text text-anchor=\"start\" x=\"3264.5\" y=\"-1015.8\" font-family=\"Times,serif\" font-size=\"14.00\">inertia_visualizer_pose</text>\n<polygon fill=\"none\" stroke=\"black\" points=\"3230.5,-988 3230.5,-1009 3461.5,-1009 3461.5,-988 3230.5,-988\"/>\n<text text-anchor=\"start\" x=\"3233.5\" y=\"-994.8\" font-family=\"Times,serif\" font-size=\"14.00\">inertia_visualizer_configuration</text>\n</g>\n<!-- s2&#45;&gt;s3 -->\n<g id=\"edge16\" class=\"edge\">\n<title>s2:e-&gt;s3:w</title>\n<path fill=\"none\" stroke=\"black\" d=\"M2854.5,-1231C3007.28,-1231 3065.77,-1234.28 3186,-1140 3214.06,-1117.99 3194.77,-1072.57 3219.35,-1063.57\"/>\n<polygon fill=\"black\" stroke=\"black\" points=\"3220.15,-1066.99 3229.5,-1062 3219.08,-1060.07 3220.15,-1066.99\"/>\n</g>\n<!-- s2&#45;&gt;s278in -->\n<g id=\"edge23\" class=\"edge\">\n<title>s2:e-&gt;s278in:w</title>\n<path fill=\"none\" stroke=\"black\" d=\"M2854.5,-664C2888.69,-664 2877.7,-1255.34 2853.5,-1279.5 2847.21,-1285.78 2220.57,-1285.47 2214,-1279.5 2179.71,-1248.35 2216.98,-1112.22 2194,-1072 2096.54,-901.41 2032.97,-812 1836.5,-812 1604,-812 1604,-812 1604,-812 1440.82,-812 1370.57,-844.01 1276,-977 1221.05,-1054.27 1319.31,-1126.01 1248,-1188.5 1242.51,-1193.31 1121.81,-1193.52 1116.5,-1188.5 1114.29,-1186.41 1112.46,-1183.28 1111.52,-1180.25\"/>\n<polygon fill=\"black\" stroke=\"black\" points=\"1114.77,-1181.57 1115.5,-1171 1108.33,-1178.8 1114.77,-1181.57\"/>\n</g>\n<!-- s296 -->\n<g id=\"node16\" class=\"node\">\n<title>s296</title>\n<polygon fill=\"none\" stroke=\"black\" points=\"2923.5,-272 2923.5,-306 3159.5,-306 3159.5,-272 2923.5,-272\"/>\n<text text-anchor=\"start\" x=\"2926.5\" y=\"-292.8\" font-family=\"Times,serif\" font-weight=\"bold\" font-size=\"14.00\">ContactResultsToLcmSystem</text>\n<text text-anchor=\"start\" x=\"2963\" y=\"-278.8\" font-family=\"Times,serif\" font-size=\"14.00\">name=contact_to_lcm</text>\n<polygon fill=\"none\" stroke=\"black\" points=\"2923.5,-251 2923.5,-272 3041.5,-272 3041.5,-251 2923.5,-251\"/>\n<text text-anchor=\"start\" x=\"2973\" y=\"-257.8\" font-family=\"Times,serif\" font-size=\"14.00\">u0</text>\n<polygon fill=\"none\" stroke=\"black\" points=\"3041.5,-251 3041.5,-272 3159.5,-272 3159.5,-251 3041.5,-251\"/>\n<text text-anchor=\"start\" x=\"3091.5\" y=\"-257.8\" font-family=\"Times,serif\" font-size=\"14.00\">y0</text>\n</g>\n<!-- s2&#45;&gt;s296 -->\n<g id=\"edge24\" class=\"edge\">\n<title>s2:e-&gt;s296:w</title>\n<path fill=\"none\" stroke=\"black\" d=\"M2854.5,-54C2947.55,-54 2835.14,-245.14 2912.14,-260.08\"/>\n<polygon fill=\"black\" stroke=\"black\" points=\"2912.23,-263.6 2922.5,-261 2912.85,-256.63 2912.23,-263.6\"/>\n</g>\n<!-- s298 -->\n<g id=\"node18\" class=\"node\">\n<title>s298</title>\n<polygon fill=\"none\" stroke=\"black\" points=\"2905.5,-1061 2905.5,-1095 3178.5,-1095 3178.5,-1061 2905.5,-1061\"/>\n<text text-anchor=\"start\" x=\"2975\" y=\"-1081.8\" font-family=\"Times,serif\" font-weight=\"bold\" font-size=\"14.00\">InertiaVisualizer</text>\n<text text-anchor=\"start\" x=\"2954.5\" y=\"-1067.8\" font-family=\"Times,serif\" font-size=\"14.00\">name=inertia_visualizer</text>\n<polygon fill=\"none\" stroke=\"black\" points=\"2905.5,-1040 2905.5,-1061 3063.5,-1061 3063.5,-1040 2905.5,-1040\"/>\n<text text-anchor=\"start\" x=\"2908.5\" y=\"-1046.8\" font-family=\"Times,serif\" font-size=\"14.00\">plant_geometry_pose</text>\n<polygon fill=\"none\" stroke=\"black\" points=\"3063.5,-1040 3063.5,-1061 3178.5,-1061 3178.5,-1040 3063.5,-1040\"/>\n<text text-anchor=\"start\" x=\"3066.5\" y=\"-1046.8\" font-family=\"Times,serif\" font-size=\"14.00\">geometry_pose</text>\n</g>\n<!-- s2&#45;&gt;s298 -->\n<g id=\"edge30\" class=\"edge\">\n<title>s2:e-&gt;s298:w</title>\n<path fill=\"none\" stroke=\"black\" d=\"M2854.5,-1231C2934.21,-1231 2831.14,-1065.9 2894.43,-1051.06\"/>\n<polygon fill=\"black\" stroke=\"black\" points=\"2894.92,-1054.53 2904.5,-1050 2894.19,-1047.57 2894.92,-1054.53\"/>\n</g>\n<!-- s443 -->\n<g id=\"node23\" class=\"node\">\n<title>s443</title>\n<polygon fill=\"none\" stroke=\"black\" points=\"3603.5,-661 3603.5,-709 3856.5,-709 3856.5,-661 3603.5,-661\"/>\n<text text-anchor=\"start\" x=\"3659.5\" y=\"-695.8\" font-family=\"Times,serif\" font-weight=\"bold\" font-size=\"14.00\">ContactVisualizer</text>\n<text text-anchor=\"start\" x=\"3606.5\" y=\"-681.8\" font-family=\"Times,serif\" font-size=\"14.00\">name=meshcat_contact_visualizer</text>\n<text text-anchor=\"start\" x=\"3631.5\" y=\"-667.8\" font-family=\"Times,serif\" font-size=\"14.00\">path=/drake/contact_forces</text>\n<polygon fill=\"none\" stroke=\"black\" points=\"3603.5,-640 3603.5,-661 3784.5,-661 3784.5,-640 3603.5,-640\"/>\n<text text-anchor=\"start\" x=\"3639.5\" y=\"-646.8\" font-family=\"Times,serif\" font-size=\"14.00\">contact_results</text>\n<polyline fill=\"none\" stroke=\"grey\" points=\"3784.5,-619 3856.5,-619 3856.5,-661 \"/>\n<polygon fill=\"none\" stroke=\"black\" points=\"3603.5,-619 3603.5,-640 3784.5,-640 3784.5,-619 3603.5,-619\"/>\n<text text-anchor=\"start\" x=\"3648\" y=\"-625.8\" font-family=\"Times,serif\" font-size=\"14.00\">query_object</text>\n</g>\n<!-- s2&#45;&gt;s443 -->\n<g id=\"edge25\" class=\"edge\">\n<title>s2:e-&gt;s443:w</title>\n<path fill=\"none\" stroke=\"black\" d=\"M2854.5,-54C2914.36,-54 2860.97,-272.2 2897,-320 3103.31,-593.74 3253.38,-648.93 3592.41,-649.98\"/>\n<polygon fill=\"black\" stroke=\"black\" points=\"3592.49,-653.48 3602.5,-650 3592.51,-646.48 3592.49,-653.48\"/>\n</g>\n<!-- s3&#45;&gt;s466out -->\n<g id=\"edge37\" class=\"edge\">\n<title>s3:e-&gt;s466out:w</title>\n<path fill=\"none\" stroke=\"green\" d=\"M3510.5,-1030C3568.83,-1030 3509.91,-1249.7 3553,-1289 3582.05,-1315.5 3868.39,-1302.53 3906,-1314 3969.23,-1333.27 3972.11,-1386.24 4031.8,-1391.57\"/>\n<polygon fill=\"green\" stroke=\"green\" points=\"4031.74,-1395.07 4041.88,-1392 4032.04,-1388.07 4031.74,-1395.07\"/>\n</g>\n<!-- s3&#45;&gt;s2 -->\n<g id=\"edge18\" class=\"edge\">\n<title>s3:e-&gt;s2:w</title>\n<path fill=\"none\" stroke=\"black\" d=\"M3510.5,-1030C3530.95,-1030 3524.12,-998.3 3509.5,-984 3418.17,-894.63 3324.09,-907.16 3222,-984 3175.81,-1018.77 3230.27,-1071.82 3186,-1109 3087.08,-1192.08 2994.75,-1055.55 2897,-1140 2848.55,-1181.86 2911.62,-1240.29 2861,-1279.5 2853.99,-1284.93 2228.83,-1285.71 2222.5,-1279.5 2210.11,-1267.36 2203.05,-1243.35 2212,-1234.44\"/>\n<polygon fill=\"black\" stroke=\"black\" points=\"2213.29,-1237.69 2221.5,-1231 2210.91,-1231.11 2213.29,-1237.69\"/>\n</g>\n<!-- s286 -->\n<g id=\"node12\" class=\"node\">\n<title>s286</title>\n<polygon fill=\"none\" stroke=\"black\" points=\"3594.5,-1242 3594.5,-1276 3865.5,-1276 3865.5,-1242 3594.5,-1242\"/>\n<text text-anchor=\"start\" x=\"3682\" y=\"-1262.8\" font-family=\"Times,serif\" font-weight=\"bold\" font-size=\"14.00\">RgbdSensor</text>\n<text text-anchor=\"start\" x=\"3639.5\" y=\"-1248.8\" font-family=\"Times,serif\" font-size=\"14.00\">name=rgbd_sensor_hand</text>\n<polygon fill=\"none\" stroke=\"black\" points=\"3594.5,-1116 3594.5,-1242 3717.5,-1242 3717.5,-1116 3594.5,-1116\"/>\n<text text-anchor=\"start\" x=\"3597.5\" y=\"-1175.3\" font-family=\"Times,serif\" font-size=\"14.00\">geometry_query</text>\n<polygon fill=\"none\" stroke=\"black\" points=\"3717.5,-1221 3717.5,-1242 3865.5,-1242 3865.5,-1221 3717.5,-1221\"/>\n<text text-anchor=\"start\" x=\"3748.5\" y=\"-1227.8\" font-family=\"Times,serif\" font-size=\"14.00\">color_image</text>\n<polygon fill=\"none\" stroke=\"black\" points=\"3717.5,-1200 3717.5,-1221 3865.5,-1221 3865.5,-1200 3717.5,-1200\"/>\n<text text-anchor=\"start\" x=\"3730.5\" y=\"-1206.8\" font-family=\"Times,serif\" font-size=\"14.00\">depth_image_32f</text>\n<polygon fill=\"none\" stroke=\"black\" points=\"3717.5,-1179 3717.5,-1200 3865.5,-1200 3865.5,-1179 3717.5,-1179\"/>\n<text text-anchor=\"start\" x=\"3728.5\" y=\"-1185.8\" font-family=\"Times,serif\" font-size=\"14.00\">depth_image_16u</text>\n<polygon fill=\"none\" stroke=\"black\" points=\"3717.5,-1158 3717.5,-1179 3865.5,-1179 3865.5,-1158 3717.5,-1158\"/>\n<text text-anchor=\"start\" x=\"3749\" y=\"-1164.8\" font-family=\"Times,serif\" font-size=\"14.00\">label_image</text>\n<polygon fill=\"none\" stroke=\"black\" points=\"3717.5,-1137 3717.5,-1158 3865.5,-1158 3865.5,-1137 3717.5,-1137\"/>\n<text text-anchor=\"start\" x=\"3720.5\" y=\"-1143.8\" font-family=\"Times,serif\" font-size=\"14.00\">body_pose_in_world</text>\n<polygon fill=\"none\" stroke=\"black\" points=\"3717.5,-1116 3717.5,-1137 3865.5,-1137 3865.5,-1116 3717.5,-1116\"/>\n<text text-anchor=\"start\" x=\"3750\" y=\"-1122.8\" font-family=\"Times,serif\" font-size=\"14.00\">image_time</text>\n</g>\n<!-- s3&#45;&gt;s286 -->\n<g id=\"edge31\" class=\"edge\">\n<title>s3:e-&gt;s286:w</title>\n<path fill=\"none\" stroke=\"black\" d=\"M3510.5,-1030C3582.6,-1030 3524.05,-1164.8 3583.4,-1177.97\"/>\n<polygon fill=\"black\" stroke=\"black\" points=\"3583.2,-1181.47 3593.5,-1179 3583.91,-1174.5 3583.2,-1181.47\"/>\n</g>\n<!-- s288 -->\n<g id=\"node13\" class=\"node\">\n<title>s288</title>\n<polygon fill=\"none\" stroke=\"black\" points=\"3598.5,-544 3598.5,-592 3861.5,-592 3861.5,-544 3598.5,-544\"/>\n<text text-anchor=\"start\" x=\"3666.5\" y=\"-578.8\" font-family=\"Times,serif\" font-weight=\"bold\" font-size=\"14.00\">DrakeVisualizer</text>\n<text text-anchor=\"start\" x=\"3601.5\" y=\"-564.8\" font-family=\"Times,serif\" font-size=\"14.00\">name=drake_visualizer(illustration)</text>\n<text text-anchor=\"start\" x=\"3609.5\" y=\"-550.8\" font-family=\"Times,serif\" font-size=\"14.00\">channel=DRAKE_VIEWER_DRAW</text>\n<polygon fill=\"none\" stroke=\"black\" points=\"3598.5,-523 3598.5,-544 3775.5,-544 3775.5,-523 3598.5,-523\"/>\n<text text-anchor=\"start\" x=\"3641\" y=\"-529.8\" font-family=\"Times,serif\" font-size=\"14.00\">query_object</text>\n<polyline fill=\"none\" stroke=\"grey\" points=\"3775.5,-523 3861.5,-523 3861.5,-544 \"/>\n</g>\n<!-- s3&#45;&gt;s288 -->\n<g id=\"edge20\" class=\"edge\">\n<title>s3:e-&gt;s288:w</title>\n<path fill=\"none\" stroke=\"black\" d=\"M3510.5,-1030C3557.85,-1030 3537.94,-650.89 3553,-606 3563.86,-573.63 3560.45,-540.5 3587.21,-534.1\"/>\n<polygon fill=\"black\" stroke=\"black\" points=\"3587.93,-537.55 3597.5,-533 3587.18,-530.59 3587.93,-537.55\"/>\n</g>\n<!-- s292 -->\n<g id=\"node15\" class=\"node\">\n<title>s292</title>\n<polygon fill=\"none\" stroke=\"black\" points=\"3561.5,-756 3561.5,-804 3898.5,-804 3898.5,-756 3561.5,-756\"/>\n<text text-anchor=\"start\" x=\"3666.5\" y=\"-790.8\" font-family=\"Times,serif\" font-weight=\"bold\" font-size=\"14.00\">DrakeVisualizer</text>\n<text text-anchor=\"start\" x=\"3606.5\" y=\"-776.8\" font-family=\"Times,serif\" font-size=\"14.00\">name=drake_visualizer(proximity)</text>\n<text text-anchor=\"start\" x=\"3564.5\" y=\"-762.8\" font-family=\"Times,serif\" font-size=\"14.00\">channel=DRAKE_VIEWER_DRAW_PROXIMITY</text>\n<polygon fill=\"none\" stroke=\"black\" points=\"3561.5,-735 3561.5,-756 3775.5,-756 3775.5,-735 3561.5,-735\"/>\n<text text-anchor=\"start\" x=\"3622.5\" y=\"-741.8\" font-family=\"Times,serif\" font-size=\"14.00\">query_object</text>\n<polyline fill=\"none\" stroke=\"grey\" points=\"3775.5,-735 3898.5,-735 3898.5,-756 \"/>\n</g>\n<!-- s3&#45;&gt;s292 -->\n<g id=\"edge21\" class=\"edge\">\n<title>s3:e-&gt;s292:w</title>\n<path fill=\"none\" stroke=\"black\" d=\"M3510.5,-1030C3571.03,-1030 3504.92,-777.42 3550.61,-747.82\"/>\n<polygon fill=\"black\" stroke=\"black\" points=\"3551.84,-751.11 3560.5,-745 3549.92,-744.38 3551.84,-751.11\"/>\n</g>\n<!-- s440 -->\n<g id=\"node19\" class=\"node\">\n<title>s440</title>\n<polygon fill=\"none\" stroke=\"black\" points=\"3588.5,-1041 3588.5,-1089 3871.5,-1089 3871.5,-1041 3588.5,-1041\"/>\n<text text-anchor=\"start\" x=\"3656.5\" y=\"-1075.8\" font-family=\"Times,serif\" font-weight=\"bold\" font-size=\"14.00\">MeshcatVisualizer</text>\n<text text-anchor=\"start\" x=\"3591.5\" y=\"-1061.8\" font-family=\"Times,serif\" font-size=\"14.00\">name=meshcat_visualizer(illustration)</text>\n<text text-anchor=\"start\" x=\"3643.5\" y=\"-1047.8\" font-family=\"Times,serif\" font-size=\"14.00\">path=/drake/illustration</text>\n<polygon fill=\"none\" stroke=\"black\" points=\"3588.5,-1020 3588.5,-1041 3775.5,-1041 3775.5,-1020 3588.5,-1020\"/>\n<text text-anchor=\"start\" x=\"3636\" y=\"-1026.8\" font-family=\"Times,serif\" font-size=\"14.00\">query_object</text>\n<polyline fill=\"none\" stroke=\"grey\" points=\"3775.5,-1020 3871.5,-1020 3871.5,-1041 \"/>\n</g>\n<!-- s3&#45;&gt;s440 -->\n<g id=\"edge28\" class=\"edge\">\n<title>s3:e-&gt;s440:w</title>\n<path fill=\"none\" stroke=\"black\" d=\"M3510.5,-1030C3541.11,-1030 3551.19,-1030 3577.47,-1030\"/>\n<polygon fill=\"black\" stroke=\"black\" points=\"3577.5,-1033.5 3587.5,-1030 3577.5,-1026.5 3577.5,-1033.5\"/>\n</g>\n<!-- s441 -->\n<g id=\"node21\" class=\"node\">\n<title>s441</title>\n<polygon fill=\"none\" stroke=\"black\" points=\"3604.5,-851 3604.5,-899 3855.5,-899 3855.5,-851 3604.5,-851\"/>\n<text text-anchor=\"start\" x=\"3656.5\" y=\"-885.8\" font-family=\"Times,serif\" font-weight=\"bold\" font-size=\"14.00\">MeshcatVisualizer</text>\n<text text-anchor=\"start\" x=\"3607.5\" y=\"-871.8\" font-family=\"Times,serif\" font-size=\"14.00\">name=meshcat_visualizer(inertia)</text>\n<text text-anchor=\"start\" x=\"3659\" y=\"-857.8\" font-family=\"Times,serif\" font-size=\"14.00\">path=/drake/inertia</text>\n<polygon fill=\"none\" stroke=\"black\" points=\"3604.5,-830 3604.5,-851 3775.5,-851 3775.5,-830 3604.5,-830\"/>\n<text text-anchor=\"start\" x=\"3644\" y=\"-836.8\" font-family=\"Times,serif\" font-size=\"14.00\">query_object</text>\n<polyline fill=\"none\" stroke=\"grey\" points=\"3775.5,-830 3855.5,-830 3855.5,-851 \"/>\n</g>\n<!-- s3&#45;&gt;s441 -->\n<g id=\"edge29\" class=\"edge\">\n<title>s3:e-&gt;s441:w</title>\n<path fill=\"none\" stroke=\"black\" d=\"M3510.5,-1030C3565.82,-1030 3527.61,-962.15 3553,-913 3569.34,-881.37 3565.19,-847.38 3593.21,-841.05\"/>\n<polygon fill=\"black\" stroke=\"black\" points=\"3593.91,-844.49 3603.5,-840 3593.2,-837.53 3593.91,-844.49\"/>\n</g>\n<!-- s442 -->\n<g id=\"node22\" class=\"node\">\n<title>s442</title>\n<polygon fill=\"none\" stroke=\"black\" points=\"3593.5,-946 3593.5,-994 3866.5,-994 3866.5,-946 3593.5,-946\"/>\n<text text-anchor=\"start\" x=\"3656.5\" y=\"-980.8\" font-family=\"Times,serif\" font-weight=\"bold\" font-size=\"14.00\">MeshcatVisualizer</text>\n<text text-anchor=\"start\" x=\"3596.5\" y=\"-966.8\" font-family=\"Times,serif\" font-size=\"14.00\">name=meshcat_visualizer(proximity)</text>\n<text text-anchor=\"start\" x=\"3648.5\" y=\"-952.8\" font-family=\"Times,serif\" font-size=\"14.00\">path=/drake/proximity</text>\n<polygon fill=\"none\" stroke=\"black\" points=\"3593.5,-925 3593.5,-946 3775.5,-946 3775.5,-925 3593.5,-925\"/>\n<text text-anchor=\"start\" x=\"3638.5\" y=\"-931.8\" font-family=\"Times,serif\" font-size=\"14.00\">query_object</text>\n<polyline fill=\"none\" stroke=\"grey\" points=\"3775.5,-925 3866.5,-925 3866.5,-946 \"/>\n</g>\n<!-- s3&#45;&gt;s442 -->\n<g id=\"edge27\" class=\"edge\">\n<title>s3:e-&gt;s442:w</title>\n<path fill=\"none\" stroke=\"black\" d=\"M3510.5,-1030C3562.57,-1030 3540.27,-947.2 3582.47,-936.2\"/>\n<polygon fill=\"black\" stroke=\"black\" points=\"3582.99,-939.66 3592.5,-935 3582.15,-932.71 3582.99,-939.66\"/>\n</g>\n<!-- s3&#45;&gt;s443 -->\n<g id=\"edge26\" class=\"edge\">\n<title>s3:e-&gt;s443:w</title>\n<path fill=\"none\" stroke=\"black\" d=\"M3510.5,-1030C3579.37,-1030 3531.92,-788.57 3553,-723 3566.33,-681.56 3557.02,-636.64 3592.48,-629.87\"/>\n<polygon fill=\"black\" stroke=\"black\" points=\"3592.84,-633.35 3602.5,-629 3592.23,-626.38 3592.84,-633.35\"/>\n</g>\n<!-- s279 -->\n<g id=\"node7\" class=\"node\">\n<title>s279</title>\n<polygon fill=\"none\" stroke=\"black\" points=\"1692.5,-1111 1692.5,-1145 1979.5,-1145 1979.5,-1111 1692.5,-1111\"/>\n<text text-anchor=\"start\" x=\"1768\" y=\"-1131.8\" font-family=\"Times,serif\" font-weight=\"bold\" font-size=\"14.00\">InverseDynamics</text>\n<text text-anchor=\"start\" x=\"1748.5\" y=\"-1117.8\" font-family=\"Times,serif\" font-size=\"14.00\">name=InverseDynamics</text>\n<polygon fill=\"none\" stroke=\"black\" points=\"1692.5,-1090 1692.5,-1111 1846.5,-1111 1846.5,-1090 1692.5,-1090\"/>\n<text text-anchor=\"start\" x=\"1712\" y=\"-1096.8\" font-family=\"Times,serif\" font-size=\"14.00\">estimated_state</text>\n<polygon fill=\"none\" stroke=\"black\" points=\"1846.5,-1090 1846.5,-1111 1979.5,-1111 1979.5,-1090 1846.5,-1090\"/>\n<text text-anchor=\"start\" x=\"1849.5\" y=\"-1096.8\" font-family=\"Times,serif\" font-size=\"14.00\">generalized_force</text>\n<polygon fill=\"none\" stroke=\"black\" points=\"1692.5,-1069 1692.5,-1090 1846.5,-1090 1846.5,-1069 1692.5,-1069\"/>\n<text text-anchor=\"start\" x=\"1695.5\" y=\"-1075.8\" font-family=\"Times,serif\" font-size=\"14.00\">desired_acceleration</text>\n<polygon fill=\"none\" stroke=\"black\" points=\"1846.5,-1069 1846.5,-1090 1979.5,-1090 1979.5,-1069 1846.5,-1069\"/>\n<text text-anchor=\"start\" x=\"1894\" y=\"-1076.8\" font-family=\"Times,serif\" text-decoration=\"line-through\" font-size=\"14.00\">y0</text>\n<text text-anchor=\"start\" x=\"1912\" y=\"-1076.8\" font-family=\"Times,serif\" font-size=\"14.00\">🪦</text>\n<polygon fill=\"none\" stroke=\"black\" points=\"1692.5,-1048 1692.5,-1069 1846.5,-1069 1846.5,-1048 1692.5,-1048\"/>\n<text text-anchor=\"start\" x=\"1750\" y=\"-1055.8\" font-family=\"Times,serif\" text-decoration=\"line-through\" font-size=\"14.00\">u0</text>\n<text text-anchor=\"start\" x=\"1769\" y=\"-1055.8\" font-family=\"Times,serif\" font-size=\"14.00\">🪦</text>\n<polyline fill=\"none\" stroke=\"grey\" points=\"1846.5,-1027 1979.5,-1027 1979.5,-1069 \"/>\n<polygon fill=\"none\" stroke=\"black\" points=\"1692.5,-1027 1692.5,-1048 1846.5,-1048 1846.5,-1027 1692.5,-1027\"/>\n<text text-anchor=\"start\" x=\"1750\" y=\"-1034.8\" font-family=\"Times,serif\" text-decoration=\"line-through\" font-size=\"14.00\">u1</text>\n<text text-anchor=\"start\" x=\"1769\" y=\"-1034.8\" font-family=\"Times,serif\" font-size=\"14.00\">🪦</text>\n</g>\n<!-- s278in&#45;&gt;s279 -->\n<g id=\"edge4\" class=\"edge\">\n<title>s278in:e-&gt;s279:w</title>\n<path fill=\"none\" stroke=\"blue\" d=\"M1238.5,-1171C1320.22,-1171 1212.6,-1042.55 1276,-991 1297.55,-973.48 1498.82,-985.25 1526,-991 1584.01,-1003.27 1601.29,-1008.48 1648,-1045 1669.73,-1061.98 1662.61,-1092.12 1681.6,-1099.39\"/>\n<polygon fill=\"blue\" stroke=\"blue\" points=\"1681.07,-1102.85 1691.5,-1101 1682.19,-1095.94 1681.07,-1102.85\"/>\n</g>\n<!-- s280 -->\n<g id=\"node8\" class=\"node\">\n<title>s280</title>\n<polygon fill=\"none\" stroke=\"black\" points=\"1316,-1182 1316,-1216 1494,-1216 1494,-1182 1316,-1182\"/>\n<text text-anchor=\"start\" x=\"1351.5\" y=\"-1202.8\" font-family=\"Times,serif\" font-weight=\"bold\" font-size=\"14.00\">PidController</text>\n<text text-anchor=\"start\" x=\"1368\" y=\"-1188.8\" font-family=\"Times,serif\" font-size=\"14.00\">name=pid</text>\n<polygon fill=\"none\" stroke=\"black\" points=\"1316,-1161 1316,-1182 1437,-1182 1437,-1161 1316,-1161\"/>\n<text text-anchor=\"start\" x=\"1319\" y=\"-1167.8\" font-family=\"Times,serif\" font-size=\"14.00\">estimated_state</text>\n<polygon fill=\"none\" stroke=\"black\" points=\"1437,-1140 1437,-1182 1494,-1182 1494,-1140 1437,-1140\"/>\n<text text-anchor=\"start\" x=\"1440\" y=\"-1157.3\" font-family=\"Times,serif\" font-size=\"14.00\">control</text>\n<polygon fill=\"none\" stroke=\"black\" points=\"1316,-1140 1316,-1161 1437,-1161 1437,-1140 1316,-1140\"/>\n<text text-anchor=\"start\" x=\"1328\" y=\"-1146.8\" font-family=\"Times,serif\" font-size=\"14.00\">desired_state</text>\n</g>\n<!-- s278in&#45;&gt;s280 -->\n<g id=\"edge5\" class=\"edge\">\n<title>s278in:e-&gt;s280:w</title>\n<path fill=\"none\" stroke=\"blue\" d=\"M1238.5,-1171C1268.78,-1171 1278.84,-1171 1304.69,-1171\"/>\n<polygon fill=\"blue\" stroke=\"blue\" points=\"1305,-1174.5 1315,-1171 1305,-1167.5 1305,-1174.5\"/>\n</g>\n<!-- s278in&#45;&gt;s280 -->\n<g id=\"edge6\" class=\"edge\">\n<title>s278in:e-&gt;s280:w</title>\n<path fill=\"none\" stroke=\"blue\" d=\"M1238.5,-1146C1268.82,-1146 1278.81,-1149.17 1304.68,-1149.87\"/>\n<polygon fill=\"blue\" stroke=\"blue\" points=\"1304.96,-1153.37 1315,-1150 1305.05,-1146.37 1304.96,-1153.37\"/>\n</g>\n<!-- s278out -->\n<g id=\"node6\" class=\"node\">\n<title>s278out</title>\n<polygon fill=\"none\" stroke=\"green\" points=\"2034.5,-1115 2034.5,-1136 2167.5,-1136 2167.5,-1115 2034.5,-1115\"/>\n<text text-anchor=\"start\" x=\"2037.5\" y=\"-1121.8\" font-family=\"Times,serif\" font-size=\"14.00\">generalized_force</text>\n<polygon fill=\"none\" stroke=\"green\" points=\"2034.5,-1091 2034.5,-1112 2167.5,-1112 2167.5,-1091 2034.5,-1091\"/>\n<text text-anchor=\"start\" x=\"2072.5\" y=\"-1098.8\" font-family=\"Times,serif\" text-decoration=\"line-through\" font-size=\"14.00\">force</text>\n<text text-anchor=\"start\" x=\"2109.5\" y=\"-1098.8\" font-family=\"Times,serif\" font-size=\"14.00\">🪦</text>\n</g>\n<!-- s278out&#45;&gt;s2 -->\n<g id=\"edge19\" class=\"edge\">\n<title>s278out:e-&gt;s2:w</title>\n<path fill=\"none\" stroke=\"black\" d=\"M2168.5,-1126C2188.19,-1126 2195.54,-1126 2211.18,-1126\"/>\n<polygon fill=\"black\" stroke=\"black\" points=\"2211.5,-1129.5 2221.5,-1126 2211.5,-1122.5 2211.5,-1129.5\"/>\n</g>\n<!-- s279&#45;&gt;s278out -->\n<g id=\"edge7\" class=\"edge\">\n<title>s279:e-&gt;s278out:w</title>\n<path fill=\"none\" stroke=\"green\" d=\"M1980.5,-1101C2002.68,-1101 2006.63,-1119.13 2023.4,-1124.51\"/>\n<polygon fill=\"green\" stroke=\"green\" points=\"2023.1,-1128 2033.5,-1126 2024.12,-1121.08 2023.1,-1128\"/>\n</g>\n<!-- s279&#45;&gt;s278out -->\n<g id=\"edge8\" class=\"edge\">\n<title>s279:e-&gt;s278out:w</title>\n<path fill=\"none\" stroke=\"green\" d=\"M1980.5,-1101C2000.19,-1101 2007.54,-1101 2023.18,-1101\"/>\n<polygon fill=\"green\" stroke=\"green\" points=\"2023.5,-1104.5 2033.5,-1101 2023.5,-1097.5 2023.5,-1104.5\"/>\n</g>\n<!-- s281 -->\n<g id=\"node9\" class=\"node\">\n<title>s281</title>\n<polygon fill=\"none\" stroke=\"black\" points=\"1570,-1100 1570,-1134 1640,-1134 1640,-1100 1570,-1100\"/>\n<text text-anchor=\"start\" x=\"1581.5\" y=\"-1120.8\" font-family=\"Times,serif\" font-weight=\"bold\" font-size=\"14.00\">Adder</text>\n<text text-anchor=\"start\" x=\"1573\" y=\"-1106.8\" font-family=\"Times,serif\" font-size=\"14.00\">name=+</text>\n<polygon fill=\"none\" stroke=\"black\" points=\"1570,-1079 1570,-1100 1599,-1100 1599,-1079 1570,-1079\"/>\n<text text-anchor=\"start\" x=\"1575\" y=\"-1085.8\" font-family=\"Times,serif\" font-size=\"14.00\">u0</text>\n<polygon fill=\"none\" stroke=\"black\" points=\"1599,-1058 1599,-1100 1640,-1100 1640,-1058 1599,-1058\"/>\n<text text-anchor=\"start\" x=\"1604\" y=\"-1075.3\" font-family=\"Times,serif\" font-size=\"14.00\">sum</text>\n<polygon fill=\"none\" stroke=\"black\" points=\"1570,-1058 1570,-1079 1599,-1079 1599,-1058 1570,-1058\"/>\n<text text-anchor=\"start\" x=\"1575\" y=\"-1064.8\" font-family=\"Times,serif\" font-size=\"14.00\">u1</text>\n</g>\n<!-- s280&#45;&gt;s281 -->\n<g id=\"edge1\" class=\"edge\">\n<title>s280:e-&gt;s281:w</title>\n<path fill=\"none\" stroke=\"black\" d=\"M1495,-1161C1537.12,-1161 1525.6,-1100.33 1558.92,-1090.37\"/>\n<polygon fill=\"black\" stroke=\"black\" points=\"1559.56,-1093.82 1569,-1089 1558.62,-1086.88 1559.56,-1093.82\"/>\n</g>\n<!-- s281&#45;&gt;s279 -->\n<g id=\"edge3\" class=\"edge\">\n<title>s281:e-&gt;s279:w</title>\n<path fill=\"none\" stroke=\"black\" d=\"M1641,-1079C1659.59,-1079 1666.63,-1079 1681.25,-1079\"/>\n<polygon fill=\"black\" stroke=\"black\" points=\"1681.5,-1082.5 1691.5,-1079 1681.5,-1075.5 1681.5,-1082.5\"/>\n</g>\n<!-- s282 -->\n<g id=\"node10\" class=\"node\">\n<title>s282</title>\n<polygon fill=\"none\" stroke=\"black\" points=\"1292,-1079 1292,-1113 1518,-1113 1518,-1079 1292,-1079\"/>\n<text text-anchor=\"start\" x=\"1316.5\" y=\"-1099.8\" font-family=\"Times,serif\" font-weight=\"bold\" font-size=\"14.00\">ConstantVectorSource</text>\n<text text-anchor=\"start\" x=\"1295\" y=\"-1085.8\" font-family=\"Times,serif\" font-size=\"14.00\">name=desired_acceleration=0</text>\n<polyline fill=\"none\" stroke=\"grey\" points=\"1292,-1079 1292,-1058 1396,-1058 \"/>\n<polygon fill=\"none\" stroke=\"black\" points=\"1396,-1058 1396,-1079 1518,-1079 1518,-1058 1396,-1058\"/>\n<text text-anchor=\"start\" x=\"1448\" y=\"-1064.8\" font-family=\"Times,serif\" font-size=\"14.00\">y0</text>\n</g>\n<!-- s282&#45;&gt;s281 -->\n<g id=\"edge2\" class=\"edge\">\n<title>s282:e-&gt;s281:w</title>\n<path fill=\"none\" stroke=\"black\" d=\"M1519,-1068C1537.4,-1068 1544.38,-1068 1558.85,-1068\"/>\n<polygon fill=\"black\" stroke=\"black\" points=\"1559,-1071.5 1569,-1068 1559,-1064.5 1559,-1071.5\"/>\n</g>\n<!-- \\n -->\n<g id=\"node11\" class=\"node\">\n<title>\\n</title>\n<ellipse fill=\"none\" stroke=\"black\" cx=\"1405\" cy=\"-1018\" rx=\"27\" ry=\"18\"/>\n</g>\n<!-- s286&#45;&gt;s466out -->\n<g id=\"edge34\" class=\"edge\">\n<title>s286:e-&gt;s466out:w</title>\n<path fill=\"none\" stroke=\"green\" d=\"M3866.5,-1232C3992.57,-1232 3916.7,-1452.43 4031.72,-1464.49\"/>\n<polygon fill=\"green\" stroke=\"green\" points=\"4031.72,-1467.99 4041.88,-1465 4032.07,-1461 4031.72,-1467.99\"/>\n</g>\n<!-- s286&#45;&gt;s466out -->\n<g id=\"edge35\" class=\"edge\">\n<title>s286:e-&gt;s466out:w</title>\n<path fill=\"none\" stroke=\"green\" d=\"M3866.5,-1211C3927.39,-1211 3972.62,-1417.38 4031.86,-1439.15\"/>\n<polygon fill=\"green\" stroke=\"green\" points=\"4031.41,-1442.63 4041.88,-1441 4032.69,-1435.74 4031.41,-1442.63\"/>\n</g>\n<!-- s286&#45;&gt;s466out -->\n<g id=\"edge36\" class=\"edge\">\n<title>s286:e-&gt;s466out:w</title>\n<path fill=\"none\" stroke=\"green\" d=\"M3866.5,-1168C3931.02,-1168 3905.01,-1239.13 3942,-1292 3980.7,-1347.31 3971.85,-1410.24 4031.68,-1416.49\"/>\n<polygon fill=\"green\" stroke=\"green\" points=\"4031.72,-1420 4041.88,-1417 4032.07,-1413.01 4031.72,-1420\"/>\n</g>\n<!-- drakelcminterface94355874549264in -->\n<g id=\"node14\" class=\"node\">\n<title>drakelcminterface94355874549264in</title>\n<ellipse fill=\"none\" stroke=\"black\" cx=\"4127.88\" cy=\"-558\" rx=\"185.77\" ry=\"18\"/>\n<text text-anchor=\"middle\" x=\"4127.88\" y=\"-554.3\" font-family=\"Times,serif\" font-size=\"14.00\">drakelcminterface94355874549264in</text>\n</g>\n<!-- s288&#45;&gt;drakelcminterface94355874549264in -->\n<g id=\"edge9\" class=\"edge\">\n<title>s288:e-&gt;drakelcminterface94355874549264in</title>\n<path fill=\"none\" stroke=\"#800080\" stroke-dasharray=\"5,2\" d=\"M3870.5,-558C3890.3,-558 3910.95,-558 3931.57,-558\"/>\n<polygon fill=\"#800080\" stroke=\"#800080\" points=\"3931.68,-561.5 3941.68,-558 3931.68,-554.5 3931.68,-561.5\"/>\n</g>\n<!-- s292&#45;&gt;drakelcminterface94355874549264in -->\n<g id=\"edge10\" class=\"edge\">\n<title>s292:e-&gt;drakelcminterface94355874549264in</title>\n<path fill=\"none\" stroke=\"#800080\" stroke-dasharray=\"5,2\" d=\"M3906,-770C4011.52,-770 4086.21,-642.52 4114.43,-585.27\"/>\n<polygon fill=\"#800080\" stroke=\"#800080\" points=\"4117.68,-586.6 4118.86,-576.08 4111.37,-583.56 4117.68,-586.6\"/>\n</g>\n<!-- s297 -->\n<g id=\"node17\" class=\"node\">\n<title>s297</title>\n<polygon fill=\"none\" stroke=\"black\" points=\"3244.5,-272 3244.5,-334 3495.5,-334 3495.5,-272 3244.5,-272\"/>\n<text text-anchor=\"start\" x=\"3286.5\" y=\"-320.8\" font-family=\"Times,serif\" font-weight=\"bold\" font-size=\"14.00\">LcmPublisherSystem</text>\n<text text-anchor=\"start\" x=\"3252.5\" y=\"-306.8\" font-family=\"Times,serif\" font-size=\"14.00\">name=contact_results_publisher</text>\n<text text-anchor=\"start\" x=\"3262\" y=\"-292.8\" font-family=\"Times,serif\" font-size=\"14.00\">channel=CONTACT_RESULTS</text>\n<text text-anchor=\"start\" x=\"3247.5\" y=\"-278.8\" font-family=\"Times,serif\" font-size=\"14.00\">type=lcmt_contact_results_for_viz</text>\n<polygon fill=\"none\" stroke=\"black\" points=\"3244.5,-251 3244.5,-272 3417.5,-272 3417.5,-251 3244.5,-251\"/>\n<text text-anchor=\"start\" x=\"3283.5\" y=\"-257.8\" font-family=\"Times,serif\" font-size=\"14.00\">lcm_message</text>\n<polyline fill=\"none\" stroke=\"grey\" points=\"3417.5,-251 3495.5,-251 3495.5,-272 \"/>\n</g>\n<!-- s296&#45;&gt;s297 -->\n<g id=\"edge22\" class=\"edge\">\n<title>s296:e-&gt;s297:w</title>\n<path fill=\"none\" stroke=\"black\" d=\"M3160.5,-261C3193.79,-261 3204.55,-261 3233.43,-261\"/>\n<polygon fill=\"black\" stroke=\"black\" points=\"3233.5,-264.5 3243.5,-261 3233.5,-257.5 3233.5,-264.5\"/>\n</g>\n<!-- s297&#45;&gt;drakelcminterface94355874549264in -->\n<g id=\"edge11\" class=\"edge\">\n<title>s297:e-&gt;drakelcminterface94355874549264in</title>\n<path fill=\"none\" stroke=\"#800080\" stroke-dasharray=\"5,2\" d=\"M3504.5,-293C3749.14,-293 4007.75,-468.47 4095.61,-533.84\"/>\n<polygon fill=\"#800080\" stroke=\"#800080\" points=\"4093.71,-536.79 4103.81,-539.99 4097.91,-531.19 4093.71,-536.79\"/>\n</g>\n<!-- s298&#45;&gt;s3 -->\n<g id=\"edge17\" class=\"edge\">\n<title>s298:e-&gt;s3:w</title>\n<path fill=\"none\" stroke=\"black\" d=\"M3179.5,-1050C3201.77,-1050 3203.41,-1027.52 3219.55,-1020.85\"/>\n<polygon fill=\"black\" stroke=\"black\" points=\"3220.31,-1024.27 3229.5,-1019 3219.03,-1017.38 3220.31,-1024.27\"/>\n</g>\n<!-- meshcat_in -->\n<g id=\"node20\" class=\"node\">\n<title>meshcat_in</title>\n<ellipse fill=\"none\" stroke=\"magenta\" cx=\"4127.88\" cy=\"-912\" rx=\"50.09\" ry=\"18\"/>\n<text text-anchor=\"middle\" x=\"4127.88\" y=\"-908.3\" font-family=\"Times,serif\" font-size=\"14.00\">Meshcat</text>\n</g>\n<!-- s440&#45;&gt;meshcat_in -->\n<g id=\"edge12\" class=\"edge\">\n<title>s440:e-&gt;meshcat_in</title>\n<path fill=\"none\" stroke=\"magenta\" stroke-dasharray=\"5,2\" d=\"M3880.5,-1055C3973.85,-1055 4063.49,-977.26 4104.14,-936.42\"/>\n<polygon fill=\"magenta\" stroke=\"magenta\" points=\"4106.66,-938.85 4111.15,-929.25 4101.65,-933.95 4106.66,-938.85\"/>\n</g>\n<!-- s441&#45;&gt;meshcat_in -->\n<g id=\"edge13\" class=\"edge\">\n<title>s441:e-&gt;meshcat_in</title>\n<path fill=\"none\" stroke=\"magenta\" stroke-dasharray=\"5,2\" d=\"M3864.5,-865C3940.37,-865 4026.66,-884.27 4078.92,-898.14\"/>\n<polygon fill=\"magenta\" stroke=\"magenta\" points=\"4078.02,-901.52 4088.59,-900.74 4079.85,-894.76 4078.02,-901.52\"/>\n</g>\n<!-- s442&#45;&gt;meshcat_in -->\n<g id=\"edge14\" class=\"edge\">\n<title>s442:e-&gt;meshcat_in</title>\n<path fill=\"none\" stroke=\"magenta\" stroke-dasharray=\"5,2\" d=\"M3875.5,-960C3947.62,-960 4029.35,-940.7 4079.5,-926.58\"/>\n<polygon fill=\"magenta\" stroke=\"magenta\" points=\"4080.76,-929.86 4089.41,-923.74 4078.83,-923.13 4080.76,-929.86\"/>\n</g>\n<!-- s443&#45;&gt;meshcat_in -->\n<g id=\"edge15\" class=\"edge\">\n<title>s443:e-&gt;meshcat_in</title>\n<path fill=\"none\" stroke=\"magenta\" stroke-dasharray=\"5,2\" d=\"M3865.5,-664C3992.83,-664 4082.93,-820.79 4114.5,-885.04\"/>\n<polygon fill=\"magenta\" stroke=\"magenta\" points=\"4111.4,-886.67 4118.9,-894.16 4117.71,-883.64 4111.4,-886.67\"/>\n</g>\n<!-- s468in -->\n<g id=\"node25\" class=\"node\">\n<title>s468in</title>\n<polygon fill=\"none\" stroke=\"blue\" points=\"51,-1353 51,-1374 115,-1374 115,-1353 51,-1353\"/>\n<text text-anchor=\"start\" x=\"54\" y=\"-1359.8\" font-family=\"Times,serif\" font-size=\"14.00\">position</text>\n</g>\n<!-- s467&#45;&gt;s468in -->\n<g id=\"edge45\" class=\"edge\">\n<title>s467:e-&gt;s468in:w</title>\n<path fill=\"none\" stroke=\"black\" d=\"M4686.77,-1516C4715.23,-1516 4674.17,-1245.97 4349.77,-1481 4326.66,-1497.74 4352.05,-1524.18 4329.77,-1542 4120.79,-1709.06 3998.04,-1599 3730.5,-1599 423.5,-1599 423.5,-1599 423.5,-1599 278.97,-1599 244.46,-1529.73 154,-1417 132.77,-1390.54 154.04,-1365.09 126,-1346 98.44,-1327.25 75.25,-1323.13 51,-1346 48.93,-1347.95 47.21,-1350.82 46.27,-1353.66\"/>\n<polygon fill=\"black\" stroke=\"black\" points=\"43.04,-1355.01 50,-1363 49.54,-1352.42 43.04,-1355.01\"/>\n</g>\n<!-- s469 -->\n<g id=\"node27\" class=\"node\">\n<title>s469</title>\n<polygon fill=\"none\" stroke=\"black\" points=\"170.5,-1358 170.5,-1379 323.5,-1379 323.5,-1358 170.5,-1358\"/>\n<text text-anchor=\"start\" x=\"173.5\" y=\"-1365.8\" font-family=\"Times,serif\" font-weight=\"bold\" font-size=\"14.00\">DiscreteDerivative</text>\n<polygon fill=\"none\" stroke=\"black\" points=\"170.5,-1337 170.5,-1358 234.5,-1358 234.5,-1337 170.5,-1337\"/>\n<text text-anchor=\"start\" x=\"197.5\" y=\"-1343.8\" font-family=\"Times,serif\" font-size=\"14.00\">u</text>\n<polygon fill=\"none\" stroke=\"black\" points=\"234.5,-1337 234.5,-1358 323.5,-1358 323.5,-1337 234.5,-1337\"/>\n<text text-anchor=\"start\" x=\"262\" y=\"-1343.8\" font-family=\"Times,serif\" font-size=\"14.00\">dudt</text>\n</g>\n<!-- s468in&#45;&gt;s469 -->\n<g id=\"edge43\" class=\"edge\">\n<title>s468in:e-&gt;s469:w</title>\n<path fill=\"none\" stroke=\"blue\" d=\"M116,-1363C136.94,-1363 142.96,-1351.61 159.24,-1348.05\"/>\n<polygon fill=\"blue\" stroke=\"blue\" points=\"159.91,-1351.5 169.5,-1347 159.2,-1344.54 159.91,-1351.5\"/>\n</g>\n<!-- s470 -->\n<g id=\"node28\" class=\"node\">\n<title>s470</title>\n<polygon fill=\"none\" stroke=\"black\" points=\"375.5,-1379 375.5,-1400 474.5,-1400 474.5,-1379 375.5,-1379\"/>\n<text text-anchor=\"start\" x=\"378.5\" y=\"-1386.8\" font-family=\"Times,serif\" font-weight=\"bold\" font-size=\"14.00\">Multiplexer</text>\n<polygon fill=\"none\" stroke=\"black\" points=\"375.5,-1358 375.5,-1379 425.5,-1379 425.5,-1358 375.5,-1358\"/>\n<text text-anchor=\"start\" x=\"391\" y=\"-1364.8\" font-family=\"Times,serif\" font-size=\"14.00\">u0</text>\n<polygon fill=\"none\" stroke=\"black\" points=\"425.5,-1337 425.5,-1379 474.5,-1379 474.5,-1337 425.5,-1337\"/>\n<text text-anchor=\"start\" x=\"441\" y=\"-1354.3\" font-family=\"Times,serif\" font-size=\"14.00\">y0</text>\n<polygon fill=\"none\" stroke=\"black\" points=\"375.5,-1337 375.5,-1358 425.5,-1358 425.5,-1337 375.5,-1337\"/>\n<text text-anchor=\"start\" x=\"391\" y=\"-1343.8\" font-family=\"Times,serif\" font-size=\"14.00\">u1</text>\n</g>\n<!-- s468in&#45;&gt;s470 -->\n<g id=\"edge42\" class=\"edge\">\n<title>s468in:e-&gt;s470:w</title>\n<path fill=\"none\" stroke=\"blue\" d=\"M116,-1363C137.25,-1363 133.87,-1385.2 154,-1392 191.26,-1404.59 292.91,-1401.81 331,-1392 348.54,-1387.48 351.72,-1374.23 364.48,-1369.61\"/>\n<polygon fill=\"blue\" stroke=\"blue\" points=\"365.18,-1373.04 374.5,-1368 364.07,-1366.13 365.18,-1373.04\"/>\n</g>\n<!-- s468out -->\n<g id=\"node26\" class=\"node\">\n<title>s468out</title>\n<polygon fill=\"none\" stroke=\"green\" points=\"573.5,-1344 573.5,-1365 616.5,-1365 616.5,-1344 573.5,-1344\"/>\n<text text-anchor=\"start\" x=\"576.5\" y=\"-1350.8\" font-family=\"Times,serif\" font-size=\"14.00\">state</text>\n</g>\n<!-- s472 -->\n<g id=\"node29\" class=\"node\">\n<title>s472</title>\n<polygon fill=\"none\" stroke=\"black\" points=\"716.5,-1289 716.5,-1310 861.5,-1310 861.5,-1289 716.5,-1289\"/>\n<text text-anchor=\"start\" x=\"745.5\" y=\"-1296.8\" font-family=\"Times,serif\" font-weight=\"bold\" font-size=\"14.00\">PortSwitch</text>\n<polygon fill=\"none\" stroke=\"black\" points=\"716.5,-1268 716.5,-1289 816.5,-1289 816.5,-1268 716.5,-1268\"/>\n<text text-anchor=\"start\" x=\"719.5\" y=\"-1274.8\" font-family=\"Times,serif\" font-size=\"14.00\">port_selector</text>\n<polygon fill=\"none\" stroke=\"black\" points=\"816.5,-1226 816.5,-1289 861.5,-1289 861.5,-1226 816.5,-1226\"/>\n<text text-anchor=\"start\" x=\"819.5\" y=\"-1253.8\" font-family=\"Times,serif\" font-size=\"14.00\">value</text>\n<polygon fill=\"none\" stroke=\"black\" points=\"716.5,-1247 716.5,-1268 816.5,-1268 816.5,-1247 716.5,-1247\"/>\n<text text-anchor=\"start\" x=\"745\" y=\"-1253.8\" font-family=\"Times,serif\" font-size=\"14.00\">diff_ik</text>\n<polygon fill=\"none\" stroke=\"black\" points=\"716.5,-1226 716.5,-1247 816.5,-1247 816.5,-1226 716.5,-1226\"/>\n<text text-anchor=\"start\" x=\"737.5\" y=\"-1232.8\" font-family=\"Times,serif\" font-size=\"14.00\">position</text>\n</g>\n<!-- s468out&#45;&gt;s472 -->\n<g id=\"edge46\" class=\"edge\">\n<title>s468out:e-&gt;s472:w</title>\n<path fill=\"none\" stroke=\"black\" d=\"M617.5,-1354C637.78,-1354 642.5,-1346.07 658,-1333 687.47,-1308.14 675.84,-1265.58 705.45,-1258.13\"/>\n<polygon fill=\"black\" stroke=\"black\" points=\"705.95,-1261.59 715.5,-1257 705.17,-1254.64 705.95,-1261.59\"/>\n</g>\n<!-- s469&#45;&gt;s470 -->\n<g id=\"edge41\" class=\"edge\">\n<title>s469:e-&gt;s470:w</title>\n<path fill=\"none\" stroke=\"black\" d=\"M324.5,-1347C342.9,-1347 349.88,-1347 364.35,-1347\"/>\n<polygon fill=\"black\" stroke=\"black\" points=\"364.5,-1350.5 374.5,-1347 364.5,-1343.5 364.5,-1350.5\"/>\n</g>\n<!-- s470&#45;&gt;s468out -->\n<g id=\"edge44\" class=\"edge\">\n<title>s470:e-&gt;s468out:w</title>\n<path fill=\"none\" stroke=\"green\" d=\"M475.5,-1358C514.94,-1358 527.27,-1354.66 562.05,-1354.08\"/>\n<polygon fill=\"green\" stroke=\"green\" points=\"562.53,-1357.58 572.5,-1354 562.47,-1350.58 562.53,-1357.58\"/>\n</g>\n<!-- s472&#45;&gt;s466in -->\n<g id=\"edge48\" class=\"edge\">\n<title>s472:e-&gt;s466in:w</title>\n<path fill=\"none\" stroke=\"black\" d=\"M862.5,-1257C888.04,-1257 873.28,-1226.13 889,-1206 895.82,-1197.26 898.3,-1189.2 904.88,-1185.36\"/>\n<polygon fill=\"black\" stroke=\"black\" points=\"906.06,-1188.68 915,-1183 904.47,-1181.86 906.06,-1188.68\"/>\n</g>\n<!-- s473 -->\n<g id=\"node30\" class=\"node\">\n<title>s473</title>\n<polygon fill=\"none\" stroke=\"black\" points=\"539.5,-1247 539.5,-1268 650.5,-1268 650.5,-1247 539.5,-1247\"/>\n<text text-anchor=\"start\" x=\"542.5\" y=\"-1254.8\" font-family=\"Times,serif\" font-weight=\"bold\" font-size=\"14.00\">PassThrough</text>\n<polygon fill=\"none\" stroke=\"black\" points=\"539.5,-1226 539.5,-1247 595.5,-1247 595.5,-1226 539.5,-1226\"/>\n<text text-anchor=\"start\" x=\"562.5\" y=\"-1232.8\" font-family=\"Times,serif\" font-size=\"14.00\">u</text>\n<polygon fill=\"none\" stroke=\"black\" points=\"595.5,-1226 595.5,-1247 650.5,-1247 650.5,-1226 595.5,-1226\"/>\n<text text-anchor=\"start\" x=\"618.5\" y=\"-1232.8\" font-family=\"Times,serif\" font-size=\"14.00\">y</text>\n</g>\n<!-- s473&#45;&gt;s472 -->\n<g id=\"edge47\" class=\"edge\">\n<title>s473:e-&gt;s472:w</title>\n<path fill=\"none\" stroke=\"black\" d=\"M651.5,-1236C676.28,-1236 684.87,-1236 705.47,-1236\"/>\n<polygon fill=\"black\" stroke=\"black\" points=\"705.5,-1239.5 715.5,-1236 705.5,-1232.5 705.5,-1239.5\"/>\n</g>\n</g>\n</svg>"
          },
          "metadata": {}
        }
      ],
      "execution_count": null,
      "block_group": "6e40b9370e20433ea5adbe9c88946495"
    },
    {
      "cell_type": "markdown",
      "source": "# Soccer Sim",
      "metadata": {
        "formattedRanges": [],
        "deepnote_app_coordinates": {
          "h": 120,
          "w": 12,
          "x": 0,
          "y": 0
        },
        "cell_id": "f8b04b839dae456e853e1cd62efc6657",
        "deepnote_cell_type": "text-cell-h1"
      },
      "block_group": "28952933d7db48b49b30fd28b9e16605"
    },
    {
      "cell_type": "code",
      "source": "def check_line_segment_intersection(last_pos, current_pos, x_min, x_max, y_min, y_max, z_min, z_max):\n    # Define the planes of the rectangular prism\n    planes = [\n        {'point': (x_min, y_min, z_min), 'normal': (0, -1, 0)},  # Front face\n        {'point': (x_min, y_max, z_min), 'normal': (0, 1, 0)},   # Back face\n    ]\n\n    # Iterate over each plane to check for intersection\n    for plane in planes:\n        if intersect_line_plane(last_pos, current_pos, plane['point'], plane['normal'], x_min, x_max, y_min, y_max, z_min, z_max):\n            return True\n\n    return False\n\ndef intersect_line_plane(p1, p2, plane_point, plane_normal, x_min, x_max, y_min, y_max, z_min, z_max):\n    \"\"\"\n    Check if the line segment between p1 and p2 intersects with the plane defined by plane_point and plane_normal.\n    \"\"\"\n    # Line vector\n    line_vec = [p2[i] - p1[i] for i in range(3)]\n\n    # Calculate dot products\n    dot_nv = sum(plane_normal[i] * line_vec[i] for i in range(3))\n    if dot_nv == 0:\n        return False  # Line and plane are parallel\n\n    # Calculate the parameter t for the line equation\n    dot_np1 = sum(plane_normal[i] * (p1[i] - plane_point[i]) for i in range(3))\n    t = -dot_np1 / dot_nv\n\n    # Check if the intersection point is within the line segment\n    if 0 <= t <= 1:\n        intersection = [p1[i] + t * line_vec[i] for i in range(3)]\n\n        # Check if the intersection point is within the bounds of the prism face\n        return (x_min <= intersection[0] <= x_max and\n                y_min <= intersection[1] <= y_max and\n                z_min <= intersection[2] <= z_max)\n\n    return False\n",
      "metadata": {
        "source_hash": null,
        "execution_start": 1702342695083,
        "execution_millis": 165,
        "deepnote_app_coordinates": {
          "h": 120,
          "w": 12,
          "x": 0,
          "y": 0
        },
        "deepnote_to_be_reexecuted": false,
        "cell_id": "e9e7042663ab46949538291b986497e0",
        "deepnote_cell_type": "code"
      },
      "outputs": [],
      "execution_count": null,
      "block_group": "e817ab23ec7d440f8585928b20424dbf"
    },
    {
      "cell_type": "code",
      "source": "def check_goal(plant, plant_context,last_ball_pos,  X_MAX = 10, Y_MAX = 30, state= \"moving\"):\n    #returns reset and if goal\n    net_x_min = NET_CENTER[0] - NET_DIMS[0]/2\n    net_x_max = NET_CENTER[0] + NET_DIMS[0]/2\n    net_y_min = NET_CENTER[1] - NET_DIMS[1]\n    net_y_max = NET_CENTER[1]\n    net_z_min = NET_CENTER[2]\n    net_z_max = NET_CENTER[2] + NET_DIMS[2]\n\n    current_ball_pos = plant.GetPositions(plant_context, plant.GetModelInstanceByName(\"ball\"))[4:]\n\n    goal = check_line_segment_intersection(last_ball_pos, current_ball_pos, net_x_min, net_x_max, net_y_min, net_y_max, net_z_min, net_z_max)\n\n    if  state == \"waiting\" and not goal:\n        real_ball_pos =  plant.GetPositions(plant_context, plant.GetModelInstanceByName(\"ball\"))[4:]\n        if real_ball_pos[1] < 3:\n            acell = plant.GetOutputPort(\"ball_generalized_acceleration\").Eval(plant_context)[3:]\n            vel = plant.GetVelocities(plant_context, plant.GetModelInstanceByName(\"ball\")\n            ) [:3]\n            yacell = acell[1]\n            yvel = vel[1]\n            detla_pos = (current_ball_pos - real_ball_pos)\n            if detla_pos[1]<0 or  real_ball_pos[0]< net_x_min or real_ball_pos[0]> net_x_max  :\n         #   if (yvel>=-.00001) and yacell>0:\n            #    print(\"vel\", yvel, \"acell\", yacell)\n            #    print(\"blocked\")\n                return current_ball_pos, True, False, False\n\n    out_bounds  = current_ball_pos[1] < net_y_min or current_ball_pos[0] < -X_MAX or \\\n            current_ball_pos[0] > X_MAX or current_ball_pos[1] > Y_MAX\n\n    reset = goal or out_bounds\n            \n    return current_ball_pos, reset, goal, out_bounds",
      "metadata": {
        "source_hash": null,
        "execution_start": 1702342695093,
        "execution_millis": 148,
        "deepnote_app_coordinates": {
          "h": 120,
          "w": 12,
          "x": 0,
          "y": 0
        },
        "deepnote_to_be_reexecuted": false,
        "cell_id": "64fa877fc2c9456698fbda3941a78770",
        "deepnote_cell_type": "code"
      },
      "outputs": [],
      "execution_count": null,
      "block_group": "2b1810f8ff0847ff8904550ae9725e6f"
    },
    {
      "cell_type": "code",
      "source": "def get_force(plant, plant_context, force_vector, name, MULTIPLIER= 1):\n    # Create the SpatialForce object\n    spatial_force = SpatialForce(tau=np.zeros(3), f=np.array(force_vector)*MULTIPLIER)\n    body_index = plant.GetBodyIndices(plant.GetModelInstanceByName(name))[0]\n    force_object = ExternallyAppliedSpatialForce()\n    force_object.body_index = body_index\n    force_object.F_Bq_W = spatial_force\n    return force_object",
      "metadata": {
        "source_hash": null,
        "execution_start": 1702342695106,
        "execution_millis": 143,
        "deepnote_app_coordinates": {
          "h": 120,
          "w": 12,
          "x": 0,
          "y": 0
        },
        "deepnote_to_be_reexecuted": false,
        "cell_id": "05c812ef5941422585326045bee643fa",
        "deepnote_cell_type": "code"
      },
      "outputs": [],
      "execution_count": null,
      "block_group": "2d86be3ac2f4420799b36012222f902d"
    },
    {
      "cell_type": "code",
      "source": "def reset_force_ball(plant, plant_context):\n    acells = plant.GetOutputPort(\"ball_generalized_acceleration\").Eval(plant_context)[3:]\n    force_apply = -acells * MASS_BALL\n    remove_velocities(plant, plant_context, \"ball\")\n    return get_force(plant, plant_context, force_apply, \"ball\")",
      "metadata": {
        "source_hash": null,
        "execution_start": 1702342695107,
        "execution_millis": 155,
        "deepnote_app_coordinates": {
          "h": 120,
          "w": 12,
          "x": 0,
          "y": 0
        },
        "deepnote_to_be_reexecuted": false,
        "cell_id": "7f4a75a20cd74e4cbb22458457481531",
        "deepnote_cell_type": "code"
      },
      "outputs": [],
      "execution_count": null,
      "block_group": "6b74c95e0a984e76b017589e1120dd29"
    },
    {
      "cell_type": "code",
      "source": "def apply_forces(plant, plant_context, forces):\n    plant.get_applied_spatial_force_input_port().FixValue(plant_context, forces)",
      "metadata": {
        "source_hash": null,
        "execution_start": 1702342695117,
        "execution_millis": 150,
        "deepnote_app_coordinates": {
          "h": 120,
          "w": 12,
          "x": 0,
          "y": 0
        },
        "deepnote_to_be_reexecuted": false,
        "cell_id": "9c0beb99bc9d47518637b022acf53cd6",
        "deepnote_cell_type": "code"
      },
      "outputs": [],
      "execution_count": null,
      "block_group": "44f5177cddeb44ddbed035e1b250ed79"
    },
    {
      "cell_type": "code",
      "source": "def remove_velocities(plant, plant_context, name):\n    #set all velocities to 0\n    vel = plant.GetVelocities(plant_context, plant.GetModelInstanceByName(name))\n    plant.SetVelocities(plant_context, plant.GetModelInstanceByName(name), np.zeros_like(vel))",
      "metadata": {
        "source_hash": null,
        "execution_start": 1702342695118,
        "execution_millis": 144,
        "deepnote_app_coordinates": {
          "h": 120,
          "w": 12,
          "x": 0,
          "y": 0
        },
        "deepnote_to_be_reexecuted": false,
        "cell_id": "c1dd4f32d1c242a59849093fa3d4c122",
        "deepnote_cell_type": "code"
      },
      "outputs": [],
      "execution_count": null,
      "block_group": "53530387178e40b49bf6c7aa7ee4eef8"
    },
    {
      "cell_type": "code",
      "source": "def set_position(plant, plant_context, location, name):\n    plant.SetPositions(plant_context, plant.GetModelInstanceByName(name), location)",
      "metadata": {
        "source_hash": null,
        "execution_start": 1702342695118,
        "execution_millis": 142,
        "deepnote_app_coordinates": {
          "h": 120,
          "w": 12,
          "x": 0,
          "y": 0
        },
        "deepnote_to_be_reexecuted": false,
        "cell_id": "4925393d4dd948edaab1d14c7530fa11",
        "deepnote_cell_type": "code"
      },
      "outputs": [],
      "execution_count": null,
      "block_group": "d274718b1d714fb79152df6ee7276720"
    },
    {
      "cell_type": "code",
      "source": "def clean_players(plant, plant_context, num_attackers = 3, num_defenders = 3):\n    objects = [str(f'defender{i}') for i in range(num_defenders)] + [str(f'attacker{i}') for i in range(num_attackers)]\n    forces =[]\n    for obj in objects:\n        remove_velocities(plant, plant_context,obj )\n        forces.append(get_force(plant, plant_context, [0,0,GRAVITY*MASS_PLAYER], obj))\n    return forces",
      "metadata": {
        "source_hash": null,
        "execution_start": 1702342695125,
        "execution_millis": 147,
        "deepnote_app_coordinates": {
          "h": 120,
          "w": 12,
          "x": 0,
          "y": 0
        },
        "deepnote_to_be_reexecuted": false,
        "cell_id": "7c20a42ff30a4d11adb21a5434178a0e",
        "deepnote_cell_type": "code"
      },
      "outputs": [],
      "execution_count": null,
      "block_group": "cdcf6191bc3540fd9163d52d13558095"
    },
    {
      "cell_type": "code",
      "source": "def shoot_ball(plant, plant_context, sim_time_step, target=[0,0,0]):\n    ball_pos = plant.GetPositions(\n    plant_context, plant.GetModelInstanceByName(\"ball\")\n    ) \n    vel = plant.GetVelocities(plant_context, plant.GetModelInstanceByName(\"ball\")\n    ) [:3]\n\n    time_to_travel =np.random.rand() +1 \n    displacement = np.array(target) - np.array(ball_pos[4:])\n    avg_velocity_needed = displacement / time_to_travel\n    acceleration_needed = (avg_velocity_needed - vel) / time_to_travel\n    acceleration_needed[2] += GRAVITY*sim_time_step\n    force = (MASS_BALL * acceleration_needed)/sim_time_step\n    \n    return get_force(plant, plant_context, force, \"ball\",MULTIPLIER=SHOOTING_MULTIPLIER), force*SHOOTING_MULTIPLIER",
      "metadata": {
        "source_hash": null,
        "execution_start": 1702342695130,
        "execution_millis": 137,
        "deepnote_app_coordinates": {
          "h": 120,
          "w": 12,
          "x": 0,
          "y": 0
        },
        "deepnote_to_be_reexecuted": false,
        "cell_id": "8757f1b5d52a44569e97c71098dac161",
        "deepnote_cell_type": "code"
      },
      "outputs": [],
      "execution_count": null,
      "block_group": "4773e16c0c62454c9829d21ab09b3a68"
    },
    {
      "cell_type": "code",
      "source": "def apply_wind(plant, plant_context, sim_time_step, target= [0,0,0]):\n    ball_pos = plant.GetPositions(\n    plant_context, plant.GetModelInstanceByName(\"ball\")\n    ) \n    vel = plant.GetVelocities(plant_context, plant.GetModelInstanceByName(\"ball\")\n    ) [:3]\n\n    time_to_travel =np.random.rand() +1.5 \n    displacement = np.array(target) - np.array(ball_pos[4:])\n    avg_velocity_needed = displacement / time_to_travel\n    acceleration_needed = (avg_velocity_needed - vel) / time_to_travel\n    acceleration_needed[2] += GRAVITY*sim_time_step\n    force = (MASS_BALL * acceleration_needed)/sim_time_step\n    \n    \n    return get_force(plant, plant_context, force, \"ball\",MULTIPLIER=WIND_MULTIPLIER), force*WIND_MULTIPLIER",
      "metadata": {
        "source_hash": null,
        "execution_start": 1702342695131,
        "execution_millis": 145,
        "deepnote_app_coordinates": {
          "h": 120,
          "w": 12,
          "x": 0,
          "y": 0
        },
        "deepnote_to_be_reexecuted": false,
        "cell_id": "5a00a496e30c406fbf566076b0bfde12",
        "deepnote_cell_type": "code"
      },
      "outputs": [],
      "execution_count": null,
      "block_group": "3cbf8e8fa84a466fad6e6ad2cdbb052b"
    },
    {
      "cell_type": "code",
      "source": "def pass_ball(plant_context,plant,player_index,sim_time_step, num_attacker=3):\n   # print(\"current index\", player_index)\n    possible_indices = [i for i in range(num_attacker) if i != player_index]\n    pass_to_person = np.random.choice(possible_indices)\n   # print(\"Passing to index\",pass_to_person )\n\n    next_pos = plant.GetPositions(\n    plant_context, plant.GetModelInstanceByName(\"attacker\"+str(pass_to_person))\n    )[4:]\n    \n    pos = plant.GetPositions(\n    plant_context, plant.GetModelInstanceByName(\"ball\")\n    ) [4:]\n    vel = plant.GetVelocities(plant_context, plant.GetModelInstanceByName(\"ball\")\n    ) [:3]\n\n    time_to_travel =.5+ np.random.rand() \n\n    displacement = np.array(next_pos) - np.array(pos)\n    avg_velocity_needed = displacement / time_to_travel\n    acceleration_needed = (avg_velocity_needed -vel) / time_to_travel\n    force = (MASS_BALL * acceleration_needed)/sim_time_step\n\n    \n    return get_force(plant, plant_context, force, \"ball\", MULTIPLIER= PASSING_MULTIPLIER), pass_to_person,  force",
      "metadata": {
        "source_hash": null,
        "execution_start": 1702342695151,
        "execution_millis": 113,
        "deepnote_app_coordinates": {
          "h": 120,
          "w": 12,
          "x": 0,
          "y": 0
        },
        "deepnote_to_be_reexecuted": false,
        "cell_id": "d47ce555ce4a45358b098633ac33e6e8",
        "deepnote_cell_type": "code"
      },
      "outputs": [],
      "execution_count": null,
      "block_group": "f07d0828401f4330ad7ea0ef141ecc87"
    },
    {
      "cell_type": "code",
      "source": "def move_defenders(plant, plant_context, sim_time_step, num_defenders=3, defender_movement_distance=0.5):\n    \"\"\"\n    Move defenders in the simulation, applying random jitter to their positions.\n\n    Args:\n        plant (Plant): The plant model.\n        plant_context (Context): The context of the plant.\n        sim_time_step (float): The simulation time step.\n        num_defenders (int): Number of defenders.\n        defender_movement_distance (float): Movement distance for defenders.\n\n    Returns:\n        None: This function modifies the defenders' positions in-place.\n    \"\"\"\n    for i in range(num_defenders):\n        defender_name = \"defender\" + str(i)\n        defender_pos = plant.GetPositions(plant_context, plant.GetModelInstanceByName(defender_name))\n\n        random_jitter = np.random.normal(0, 1, 3) * defender_movement_distance\n        random_jitter[2] = 0  # Assuming the z-axis is vertical and should not change\n\n        defender_pos_new = defender_pos[4:] + random_jitter * sim_time_step\n        defender_pos[4:] = defender_pos_new\n\n        set_position(plant, plant_context, defender_pos, defender_name)\n",
      "metadata": {
        "source_hash": null,
        "execution_start": 1702342695151,
        "execution_millis": 120,
        "deepnote_app_coordinates": {
          "h": 120,
          "w": 12,
          "x": 0,
          "y": 0
        },
        "deepnote_to_be_reexecuted": false,
        "cell_id": "3f96e065172c43ca8332b17241d4e17f",
        "deepnote_cell_type": "code"
      },
      "outputs": [],
      "execution_count": null,
      "block_group": "4978b3f23e984b9eba407659093920ef"
    },
    {
      "cell_type": "code",
      "source": "def move_attackers(plant, plant_context, current_attacker_index, sim_time_step, num_attackers=3,\n                   attacker_movement_distance=3, collect=False):\n    \"\"\"\n    Move attackers towards the goal and handle ball movement.\n    \n    Args:\n        plant (Plant): The plant model.\n        plant_context (Context): The context of the plant.\n        current_attacker_index (int): Index of the current attacker.\n        sim_time_step (float): The simulation time step.\n        num_attackers (int): Number of attackers.\n        attacker_movement_distance (float): Movement distance for attackers.\n        collect (bool): Flag to determine movement strategy.\n\n    Returns:\n        np.array: New position of the ball.\n    \"\"\"\n    attacker_with_ball = \"attacker\" + str(current_attacker_index)\n    ball_pos = plant.GetPositions(plant_context, plant.GetModelInstanceByName(\"ball\"))\n\n    goal_target = np.array([0, 0, 0])\n    direction_to_goal = goal_target - ball_pos[4:]\n    direction_norm = np.linalg.norm(direction_to_goal)\n    direction_to_goal_normalized = direction_to_goal / direction_norm if direction_norm != 0 else np.zeros_like(direction_to_goal)\n    \n    COLLECT_MOVEMENT_DISTANCE = 5\n    if collect:  # If collect is true, reduce movement distance\n        attacker_movement_distance =.5\n\n    for i in range(num_attackers):\n        attacker_name = \"attacker\" + str(i)\n        attacker_pos = plant.GetPositions(plant_context, plant.GetModelInstanceByName(attacker_name))\n        random_jitter = np.random.normal(0, 1, 3) * attacker_movement_distance / 3\n        random_jitter[2] = 0  # Assuming z-axis is vertical and should not change\n\n        attacker_pos_new = attacker_pos[4:] + (direction_to_goal_normalized * attacker_movement_distance + random_jitter) * sim_time_step\n        attacker_pos[4:] = attacker_pos_new\n        set_position(plant, plant_context, attacker_pos, attacker_name)\n\n        if attacker_name == attacker_with_ball:\n            if collect:\n                direction_to_ball = ball_pos[4:] - attacker_pos[4:]\n                direction_to_ball[2] = 0\n                direction_norm_ball = np.linalg.norm(direction_to_ball)\n                direction_to_ball_normalized = direction_to_ball / direction_norm_ball if direction_norm_ball != 0 else np.zeros_like(direction_to_ball)\n\n                attacker_pos_new = attacker_pos[4:] + (direction_to_ball_normalized * COLLECT_MOVEMENT_DISTANCE ) * sim_time_step\n                attacker_pos[4:] = attacker_pos_new\n                set_position(plant, plant_context, attacker_pos, attacker_name)\n                collected =  ( np.linalg.norm(attacker_pos_new - ball_pos[4:]) < 4)\n            else:\n                radius = 0.5\n                ball_jitter = np.random.normal(0, 1, 3)\n                ball_jitter[2] = 0\n                ball_jitter_norm = ball_jitter / np.linalg.norm(ball_jitter) * radius\n                ball_pos_new = attacker_pos_new + ball_jitter_norm\n                ball_pos_new[2] = .3\n                ball_pos[4:] = ball_pos_new\n                set_position(plant, plant_context, ball_pos, \"ball\")\n\n    if collect:\n        return ball_pos[4:] , collected\n    return ball_pos_new, None",
      "metadata": {
        "source_hash": null,
        "execution_start": 1702342695152,
        "execution_millis": 121,
        "deepnote_app_coordinates": {
          "h": 120,
          "w": 12,
          "x": 0,
          "y": 0
        },
        "deepnote_to_be_reexecuted": false,
        "cell_id": "45c2ab00b1294046ba637001d1c9e62d",
        "deepnote_cell_type": "code"
      },
      "outputs": [],
      "execution_count": null,
      "block_group": "37b14948f5c34743bbec5b278481d7cf"
    },
    {
      "cell_type": "code",
      "source": "def next_state(ball_loc, info=\"other\"):\n    shooting_zone = [8, 15]\n    \n    if info ==  \"collected\":\n        return \"moving\"\n\n    if ball_loc[1] >=shooting_zone[0] and ball_loc[1] <=shooting_zone[1]:\n        if (np.random.rand() >=.75):\n            return \"shooting\"\n        elif (np.random.rand() >=.60):\n            return \"passing\" \n        else:\n            return \"moving\"\n    elif ball_loc[1] <shooting_zone[0]:\n        return \"shooting\"\n    else:\n        if (np.random.rand() >=.95):\n            return \"passing\" \n        else:\n            return \"moving\"",
      "metadata": {
        "source_hash": null,
        "execution_start": 1702342695152,
        "execution_millis": 114,
        "deepnote_app_coordinates": {
          "h": 120,
          "w": 12,
          "x": 0,
          "y": 0
        },
        "deepnote_to_be_reexecuted": false,
        "cell_id": "6e1ba5f37a224265864ab6041b9669b6",
        "deepnote_cell_type": "code"
      },
      "outputs": [],
      "execution_count": null,
      "block_group": "22e0be5de7604430b11aa643ffe17cfb"
    },
    {
      "cell_type": "code",
      "source": "def move_ball(plant, plant_context, current_attacker_index, sim_time_step):\n    move_defenders(plant, plant_context, sim_time_step)\n    ball_loc, _ = move_attackers(plant, plant_context,current_attacker_index, sim_time_step)\n    return next_state(ball_loc)",
      "metadata": {
        "source_hash": null,
        "execution_start": 1702342695152,
        "execution_millis": 108,
        "deepnote_app_coordinates": {
          "h": 120,
          "w": 12,
          "x": 0,
          "y": 0
        },
        "deepnote_to_be_reexecuted": false,
        "cell_id": "d76450416e8345cca81a6b480b4da3ed",
        "deepnote_cell_type": "code"
      },
      "outputs": [],
      "execution_count": null,
      "block_group": "1d02c176b3514777860f3a7fb56a51c8"
    },
    {
      "cell_type": "code",
      "source": "def collect_ball(plant, plant_context, current_attacker_index, sim_time_step):\n    move_defenders(plant, plant_context, sim_time_step)\n    ball_loc, collected= move_attackers(plant, plant_context,current_attacker_index, sim_time_step,collect=True)\n    if not collected:\n        return \"collecting\" \n        \n    return next_state(ball_loc, \"collected\")",
      "metadata": {
        "source_hash": null,
        "execution_start": 1702342695164,
        "execution_millis": 107,
        "deepnote_app_coordinates": {
          "h": 120,
          "w": 12,
          "x": 0,
          "y": 0
        },
        "deepnote_to_be_reexecuted": false,
        "cell_id": "0683ca6204764220821780dec1dfdef1",
        "deepnote_cell_type": "code"
      },
      "outputs": [],
      "execution_count": null,
      "block_group": "b914c09ec70648a29c808fec87cd6d9b"
    },
    {
      "cell_type": "markdown",
      "source": "# Spot Controllers",
      "metadata": {
        "formattedRanges": [],
        "deepnote_app_coordinates": {
          "h": 120,
          "w": 12,
          "x": 0,
          "y": 0
        },
        "cell_id": "482b9b854dfd41609549a66111947df9",
        "deepnote_cell_type": "text-cell-h1"
      },
      "block_group": "8b857c8f23a24a5e840b94341a5285c9"
    },
    {
      "cell_type": "code",
      "source": "def move_hand(plant, plant_context, target= [0,5,1]):\n    #moves spot end effector to target\n    transform = RigidTransform(target)\n    differential_ik.GetInputPort(\"X_WE_desired\").FixValue(diff_context, transform)",
      "metadata": {
        "source_hash": null,
        "execution_start": 1702342695164,
        "execution_millis": 97,
        "deepnote_app_coordinates": {
          "h": 120,
          "w": 12,
          "x": 0,
          "y": 0
        },
        "deepnote_to_be_reexecuted": false,
        "cell_id": "9fefde72659f47cc846bc5e0ef809508",
        "deepnote_cell_type": "code"
      },
      "outputs": [],
      "execution_count": null,
      "block_group": "5d50e35acdb34b10a584a8227c3ac63a"
    },
    {
      "cell_type": "code",
      "source": "def random_control(state):\n    if state == \"shooting\":\n        random_target = np.random.uniform(0, 1, 3)\n        random_target[0]*=3\n        random_target[0]-=random_target[0]/2\n        random_target[1]*=3\n        random_target[2]*=2\n        return random_target\n    return None",
      "metadata": {
        "source_hash": null,
        "execution_start": 1702342695165,
        "execution_millis": 101,
        "deepnote_app_coordinates": {
          "h": 120,
          "w": 12,
          "x": 0,
          "y": 0
        },
        "deepnote_to_be_reexecuted": false,
        "cell_id": "95ad1ba80e994a5593eb8065026dfbf1",
        "deepnote_cell_type": "code"
      },
      "outputs": [],
      "execution_count": null,
      "block_group": "5063cd539b3c459493963a1b544a8bc7"
    },
    {
      "cell_type": "code",
      "source": "def samplingbasedcontroller(history, samples = 5, sim_time_step = .1 ):\n\n    if (len(history) >= 3):\n        potential_points = []\n        ball_pos = np.copy(history[-2][2])\n        for i in range(samples):\n            first_point = np.copy(history[-3][2])\n            second_point =np.copy(history[-2][2])\n            time_between_camera= np.copy(history[-3][1]) - np.copy(history[-2][1])\n\n            v0= -(second_point-first_point)/time_between_camera\n       #     v0[0]*=-1\n\n            target = [np.random.rand()*NET_DIMS[0]- NET_DIMS[0]/2,-2, (NET_DIMS[2]-1)*np.random.rand()]\n            time_to_travel =2\n            displacement = np.array(target) - ball_pos\n            avg_velocity_needed = displacement / time_to_travel\n            acceleration_needed = (avg_velocity_needed - v0) / time_to_travel\n            acceleration_needed[2] += GRAVITY*sim_time_step\n            force = WIND_MULTIPLIER*(MASS_BALL * acceleration_needed)/sim_time_step\n            acceleration_needed /= MASS_BALL\n\n            gravity = np.array([0,0,-9.81]) + acceleration_needed\n\n            # integreate to time history[-1][1]\n            t = .05\n            time  = np.copy(history[-1][1]) - np.copy(history[-2][1])\n            totalt = 0\n            while totalt < time:\n                second_point +=  v0*t + gravity*t**2\n                totalt +=t\n            \n            potential_points +=[second_point, acceleration_needed]\n        third_point = np.copy([history[-1][2]])\n        bestdist = float('inf') \n    #    finalpoint = np.array([0,0,0])\n        for pi in potential_points:\n            dist = np.linalg.norm(third_point -pi[0] )\n            if dist < bestdist:\n                bestdist = dist\n    #            finalpoint = pi[0]\n                final_accel = pi[1]\n\n        first_point = np.copy(history[-2][2])\n        second_point =np.copy(history[-1][2])\n        gravity = np.array([0,0,-9.81]) + final_accel\n        time_between_camera= np.copy(history[-2][1]) - np.copy(history[-1][1])\n        v0= -(second_point-first_point)/time_between_camera\n  #      v0[0]*=-1\n        t = .05\n        count = 0\n        while True:\n            second_point +=  v0*t + gravity*t**2\n            if (second_point[1] > 0 and second_point[1] < 3) or count >3 :\n                break\n            count +=1\n            \n        \n        return second_point\n\n    return None",
      "metadata": {
        "source_hash": null,
        "execution_start": 1702342695175,
        "execution_millis": 92,
        "deepnote_app_coordinates": {
          "h": 120,
          "w": 12,
          "x": 0,
          "y": 0
        },
        "deepnote_to_be_reexecuted": false,
        "cell_id": "f5b98de1207d4ab59c12563d8c2b95db",
        "deepnote_cell_type": "code"
      },
      "outputs": [],
      "execution_count": null,
      "block_group": "7a642fe20c184a30a2e7b4842853270b"
    },
    {
      "cell_type": "code",
      "source": "def physicsbasedcontroller(history):\n    if (len(history) >= 2):\n        #history =[[0,0,0],[0,0,0],t, ]\n        #xf = x0 + v_0*t+1/2*g*t^2 \n        first_point = np.copy(history[-2][2])\n        second_point =np.copy(history[-1][2])\n        gravity = np.array([0,0,-9.81])\n        time_between_camera= np.copy(history[-2][1]) - np.copy(history[-1][1])\n        v0= -(second_point-first_point)/time_between_camera\n       # v0[0]*=-1\n        t = .05\n        count = 0\n        while True:\n            second_point +=  v0*t + gravity*t**2\n            if (second_point[1] > 0 and second_point[1] < 3) or count >3 :\n                break\n            count +=1\n            \n        \n        return second_point\n    return None",
      "metadata": {
        "source_hash": null,
        "execution_start": 1702342695175,
        "execution_millis": 93,
        "deepnote_app_coordinates": {
          "h": 120,
          "w": 12,
          "x": 0,
          "y": 0
        },
        "deepnote_to_be_reexecuted": false,
        "cell_id": "4e643fb289ac4757a410f925254624a6",
        "deepnote_cell_type": "code"
      },
      "outputs": [],
      "execution_count": null,
      "block_group": "66880f13eeb041e6a382c6f211c1be1f"
    },
    {
      "cell_type": "code",
      "source": "rnn_model =  load_model('/work/RNN.h5', compile=False)\nlstm_model = load_model('/work/LSTM.h5', compile=False)\ngru_model = load_model('/work/GRU.h5', compile=False)\n\ndef nn_controller(past_ball_positions, window= 3, control = \"rnn\"):\n    if (len(past_ball_positions) >= window):\n        win = window*-1\n        for w in past_ball_positions[win:]:\n            if w[0] != \"waiting\" and  w[0] != \"shooting\":\n                return None\n        data = [w[2] for w in past_ball_positions[win:] ]\n        inputs = np.array(data).reshape(-1, window,3)\n        if control == \"rnn\":\n            target = rnn_model.predict(inputs, verbose=0)[0]\n        elif control == \"lstm\":\n            target = lstm_model.predict(inputs, verbose=0)[0]\n        elif control == \"gru\":\n            target = gru_model.predict(inputs, verbose=0)[0]\n\n\n        return target\n\n",
      "metadata": {
        "source_hash": null,
        "execution_start": 1702342695180,
        "execution_millis": 23691,
        "deepnote_app_coordinates": {
          "h": 120,
          "w": 12,
          "x": 0,
          "y": 0
        },
        "deepnote_to_be_reexecuted": false,
        "cell_id": "8012e779ee8b467d9a8796ecd667bdf2",
        "deepnote_cell_type": "code"
      },
      "outputs": [],
      "execution_count": null,
      "block_group": "b738399f8ab94a039d7f35d569f81fd4"
    },
    {
      "cell_type": "code",
      "source": "import tensorflow as tf\nclass ODEFunc(tf.keras.Model):\n\n    def __init__(self, **kwargs):\n        super(ODEFunc, self).__init__(**kwargs)\n        self.model = model\n\n    def call(self, t, y):\n    #    t = tf.cast(t, tf.float64)\n        y = tf.cast(y, tf.float32)\n        return self.model([y, t])\n\nmodel = load_model('/work/rnn_ode.h5', compile=False)\nfunc = ODEFunc()\nfunc.model = model\n\ndef ode_int(func, y_0, t, state):\n  dy_dt = func(t, state)\n  sol = y_0 + dy_dt*t\n  return sol\n\ndef ode_solve(past_ball_positions, window= 3, control = \"rnn\"):\n    if (len(past_ball_positions) >= window):\n        win = window*-1\n        for w in past_ball_positions[win:]:\n            if w[0] != \"waiting\" and  w[0] != \"shooting\":\n                return None\n\n        window_data = past_ball_positions[win:]\n        early_time = past_ball_positions[win][1]\n        data = [ [w[2][0], w[2][1], w[2][2], w[1]- early_time] for w in window_data]\n        state = np.array(data).reshape(-1, window,4)\n\n        t = np.array([past_ball_positions[-1][1]- early_time +.75])\n        y_0 = np.copy(past_ball_positions[-1][2])\n        pos_next = ode_int(func,y_0, t, state )[0]\n\n        if (pos_next[1] > 0 and pos_next[1] < 3):\n            return pos_next\n    return None\n    ",
      "metadata": {
        "source_hash": null,
        "execution_start": 1702342718862,
        "execution_millis": 10831,
        "deepnote_app_coordinates": {
          "h": 120,
          "w": 12,
          "x": 0,
          "y": 0
        },
        "deepnote_to_be_reexecuted": false,
        "cell_id": "d57d48d245de42ad9c568e1851a90955",
        "deepnote_cell_type": "code"
      },
      "outputs": [],
      "execution_count": null,
      "block_group": "2d187f1ff0304139b20945d98406f39d"
    },
    {
      "cell_type": "code",
      "source": "def controler(plant, plant_context, state,time, past_ball_positions= [], control = \"random\", use_camera = True):\n    ball_pos = get_from_camera(plant, plant_context, display= False)\n    real_ball_pos =  plant.GetPositions(plant_context, plant.GetModelInstanceByName(\"ball\"))[4:]\n    if ball_pos is not None:\n        past_ball_positions.append([state,time,  ball_pos])\n\n    #in controler use ball postions and states to determie to go to target \n    target = None\n    if control == \"stay\":\n        return past_ball_positions, False\n    elif control == \"random\":\n        target = random_control(state)\n    elif control == \"phy\":\n        target = physicsbasedcontroller(past_ball_positions)\n    elif control == \"sample\":\n        target = samplingbasedcontroller(past_ball_positions)\n    elif control == \"rnn\":\n        target = nn_controller(past_ball_positions, control= \"rnn\")\n    elif control == \"lstm\":\n        target = nn_controller(past_ball_positions, control= \"lstm\")\n    elif control == \"gru\":\n        target = nn_controller(past_ball_positions, control= \"gru\")\n    elif control == \"lstm_ode\":\n        target = ode_solve(past_ball_positions)\n\n    if target is not None:\n        hand_pos = plant.GetFrameByName(\"arm_link_fngr\").body().EvalPoseInWorld(plant_context).translation()\n        distance = np.linalg.norm(hand_pos - target)\n        net_x_min =  NET_CENTER[0] - NET_DIMS[0]/2\n        net_x_max = NET_CENTER[0] + NET_DIMS[0]/2\n      #  print(\"target\",target )\n      #  print(\"distance\", distance) move if target is in goal zone or real ball is in kill zone\n        if target[0] > net_x_min  and target[0] < net_x_max  and  ((target[1] > 0 and target[1] < 4)) :\n       #     print(\"target\", target)\n            move_hand(plant, plant_context, target= target)\n            return past_ball_positions, True\n    \n    #continue collecting data\n    return past_ball_positions, False",
      "metadata": {
        "source_hash": null,
        "execution_start": 1702342729668,
        "execution_millis": 50,
        "deepnote_app_coordinates": {
          "h": 120,
          "w": 12,
          "x": 0,
          "y": 0
        },
        "deepnote_to_be_reexecuted": false,
        "cell_id": "d7240e7164d24815809ad103d99de5fe",
        "deepnote_cell_type": "code"
      },
      "outputs": [],
      "execution_count": null,
      "block_group": "c30d848331bd4a5cb201cc0639c1bf40"
    },
    {
      "cell_type": "code",
      "source": "@torch.no_grad()\ndef get_from_camera(plant, plant_context, display = False):\n    color_image = station.GetOutputPort(\"hand.rgb_image\").Eval(station_context)\n   # depth_image = station.GetOutputPort(\"hand.depth_image\").Eval(station_context)\n    \n\n    img = color_image.data[:, :, :3]\n\n    white_threshold = np.array([240, 240, 240])\n    white_pixels = np.where(np.all(img >= white_threshold, axis=-1))\n\n    ball_pos = None\n\n    if len(white_pixels[0]) >= 2:\n        \n        # Select bounding box white pixels\n        x_min, y_min = np.min(white_pixels[1]), np.min(white_pixels[0])\n        x_max, y_max = np.max(white_pixels[1]), np.max(white_pixels[0])\n\n        # Prepare the input for the model\n        predictor.set_image(img)\n        input_box = np.array([x_min,y_min,x_max, y_max])\n\n        masks, _, _ = predictor.predict(\n        point_coords=None,\n        point_labels=None,\n        box=input_box[None, :],\n        multimask_output=False,\n        )\n\n        object_coords = np.argwhere(masks[0])\n        center_of_object = np.mean(object_coords, axis=0)\n        if not np.isnan(center_of_object).any():\n            row_center, col_center = center_of_object\n            row_center_int, col_center_int = int(round(row_center)), int(round(col_center))\n            if display:\n                plt.figure(figsize=(6, 12))\n                plt.subplot(6, 2, 1)\n                plt.imshow(img)\n                plt.scatter(col_center_int, row_center_int, c='red', s=10)\n                plt.show()\n\n            #assume depth camera would have gotten good result\n            real_ball_pos =  plant.GetPositions(plant_context, plant.GetModelInstanceByName(\"ball\"))[4:]\n            transform = plant.GetFrameByName(\"arm_link_fngr\").body().EvalPoseInWorld(plant_context)\n            depth = np.abs(real_ball_pos- transform.translation())[1]\n\n            c_x = 320.0  # optical center x-coordinate\n            c_y = 240.0   # optical center y-coordinate\n            f_x = 552.0291012161067 # focal length in x\n            f_y = 552.0291012161067  # focal length in y\n\n            FLOOR_DELTA = 4.5\n\n            X = (col_center_int  - c_x) * depth / f_x\n            Y = real_ball_pos[2] + .26*np.random.randn()\n         #   Y = (row_center_int  - c_y) * depth / f_y  - FLOOR_DELTA\n          #  if Y < -1:\n          #      Y = .5\n\n            Z =  depth \n         #   print(\"pretransfrom\", [X,Z,Y])\n            ball_pos = np.array((RigidTransform([X,Z,Y])@transform).translation())\n        #    print(\"real\", real_ball_pos)\n       #     print(\"predicted\", ball_pos)\n       #     print(ball_pos)\n            return ball_pos\n\n    \n    return ball_pos",
      "metadata": {
        "source_hash": null,
        "execution_start": 1702342729669,
        "execution_millis": 54,
        "deepnote_app_coordinates": {
          "h": 120,
          "w": 12,
          "x": 0,
          "y": 0
        },
        "deepnote_to_be_reexecuted": false,
        "cell_id": "12180f69932d46a4909dcc2797b2efe1",
        "deepnote_cell_type": "code"
      },
      "outputs": [],
      "execution_count": null,
      "block_group": "aaf769b366284dfda92fcd2ae349c698"
    },
    {
      "cell_type": "markdown",
      "source": "# Episodes",
      "metadata": {
        "formattedRanges": [],
        "deepnote_app_coordinates": {
          "h": 120,
          "w": 12,
          "x": 0,
          "y": 0
        },
        "cell_id": "d78e0014f87b4c08861dae818c2a49d4",
        "deepnote_cell_type": "text-cell-h1"
      },
      "block_group": "3fb17bb43d074bd2b338d612c448ebdc"
    },
    {
      "cell_type": "code",
      "source": "def reset_episode(plant, plant_context):\n    attacker_locs = [[0,25], [-5,22], [5,22]]\n    defender_locs = [[0,5], [-3,6], [3,6]]\n\n    for i,p in enumerate(attacker_locs):\n        location_x = p[0]+ (np.random.rand()*2 -1)\n        location_y = p[1]+ (np.random.rand()*2 -1)\n        name = \"attacker\"+ str(i)\n        attacker_pos = plant.GetPositions(plant_context, plant.GetModelInstanceByName(name))\n        attacker_pos[4:] = np.array([location_x, location_y, 1 ])\n        set_position(plant, plant_context, attacker_pos, name)\n        if i == 0:\n            ball_pos = plant.GetPositions(plant_context, plant.GetModelInstanceByName(\"ball\"))\n            ball_pos[4:] = np.array([location_x, location_y+1, 1.5] )\n            set_position(plant, plant_context, ball_pos, \"ball\")\n    \n    for i,p in enumerate(defender_locs):\n        location_x = p[0]+ (np.random.rand()*1 -1)\n        location_y = p[1]+ (np.random.rand()*1 -1)\n        name = \"defender\"+ str(i)\n        defender_pos = plant.GetPositions(plant_context, plant.GetModelInstanceByName(name))\n        defender_pos[4:] = np.array([location_x, location_y, 1] )\n        set_position(plant, plant_context, defender_pos, name)\n\n    differential_ik.GetInputPort(\"X_WE_desired\").FixValue(diff_context, RigidTransform([0,0,0]))\n    switch.GetInputPort(\"port_selector\").FixValue(switch_context,  switch.GetInputPort(\"position\").get_index())",
      "metadata": {
        "source_hash": null,
        "execution_start": 1702342729685,
        "execution_millis": 39,
        "deepnote_app_coordinates": {
          "h": 120,
          "w": 12,
          "x": 0,
          "y": 0
        },
        "deepnote_to_be_reexecuted": false,
        "cell_id": "36dedfa974214f869d44085d130145d8",
        "deepnote_cell_type": "code"
      },
      "outputs": [],
      "execution_count": null,
      "block_group": "009bb1b094b9499783170f7819f2a73e"
    },
    {
      "cell_type": "code",
      "source": "def run_episode(plant, plant_context, TIME, sim_time_step = .1, max_sim = 20, controller= \"stay\" ):\n    reset_episode(plant, plant_context)\n    meshcat.StartRecording()\n    time_ = 0\n    current_attacker_index = 0\n    #states shooting, moving, passing, collecting_ball, waiting\n    state = \"moving\"\n    shot_time = 0\n    MAX_TIME_SINCE_SHOT = 5 \n    looking = True \n    passing_force= None\n    shooting_force = None\n    forces = []\n    target_shoot = [np.random.rand()*NET_DIMS[0]- NET_DIMS[0]/2,-2, (NET_DIMS[2]-1)*np.random.rand()]\n    target_wind =  [np.random.rand()*NET_DIMS[0]- NET_DIMS[0]/2,-2, (NET_DIMS[2]-1)*np.random.rand()]\n   # print(\"target shot\", target_shoot)\n   # print(\"target wind\", target_wind)\n    last_ball_pos = plant.GetPositions(plant_context, plant.GetModelInstanceByName(\"ball\"))[4:]\n\n    shortest_distance_hand = float(\"inf\")\n\n   # last_time_move = 0 \n\n    ball_postions_context = []\n\n   # best_blocking_positions = []\n\n    while True:\n        apply_forces(plant, plant_context, forces)\n        time_ += sim_time_step\n        simulator.AdvanceTo(time_ +TIME)\n        forces = clean_players(plant,plant_context)\n    \n        if looking:\n            ball_postions_context, done_looking = controler(plant, plant_context,state, time_,  past_ball_positions=ball_postions_context, control=controller)\n            if done_looking:\n                switch.GetInputPort(\"port_selector\").FixValue(switch_context,  switch.GetInputPort(\"diff_ik\").get_index())\n                looking = False\n\n        #move bot every second\n        #(time_ - last_time_move) >=1 and\n        if  len(ball_postions_context) >0 :\n         #   last_time_move = time_\n            x = ball_postions_context[-1][2][0]\n            net_x_min =  NET_CENTER[0] - NET_DIMS[0]/2\n            net_x_max = NET_CENTER[0] + NET_DIMS[0]/2\n            if x> net_x_min  and x < net_x_max :\n                hand_pos_x = plant.GetFrameByName(\"arm_link_fngr\").body().EvalPoseInWorld(plant_context).translation()[0]\n                pose = default_pose[:]\n                delta = x-hand_pos_x\n                pose[0] = delta\n                pass_through.GetInputPort(\"u\").FixValue(pass_through_context, pose)\n            else:\n                pass_through.GetInputPort(\"u\").FixValue(pass_through_context, default_pose)\n\n        if state == \"moving\":\n            state = move_ball(plant, plant_context, current_attacker_index, sim_time_step)\n            if passing_force is not None:\n                #apply counter force to ball\n              #  forces.append(get_force(plant, plant_context, -1*passing_force, \"ball\",MULTIPLIER= PASSING_MULTIPLIER))\n                forces.append(reset_force_ball(plant, plant_context))\n                passing_force = None\n\n        elif state == \"passing\":\n            force, current_attacker_index,passing_force  = pass_ball(plant_context,plant,current_attacker_index,sim_time_step)\n            forces.append(force)\n            state = \"collecting\"\n\n        elif state == \"shooting\":\n            force, shooting_force = shoot_ball(plant, plant_context, sim_time_step, target=target_shoot)\n            forces.append(force)\n            state = \"waiting\"\n\n        elif state == \"collecting\":\n            state = collect_ball(plant, plant_context, current_attacker_index, sim_time_step)\n\n        elif state == \"waiting\":\n            force, wind_force = apply_wind(plant, plant_context, sim_time_step,target =  target_wind)\n            shooting_force += wind_force\n            forces.append(force)\n            move_defenders(plant, plant_context, sim_time_step)\n            shot_time+= sim_time_step\n        \n\n\n        \n        #print(time_, state)\n        last_ball_pos, episode_over, goal, out_bounds = check_goal(plant, plant_context, last_ball_pos, state=state)\n        \n      #  if last_ball_pos[1]>=1 and state == \"waiting\":\n      #      best_blocking_positions.append([time_, last_ball_pos])\n\n        hand_pos = plant.GetFrameByName(\"arm_link_fngr\").body().EvalPoseInWorld(plant_context).translation()\n        distance = np.linalg.norm(last_ball_pos - hand_pos)\n\n\n        if distance< shortest_distance_hand:\n            shortest_distance_hand = distance\n\n        if time_ >= max_sim or episode_over or shot_time > MAX_TIME_SINCE_SHOT:\n            out_bounds = True\n            break\n\n    #clean up\n    forces =[]\n    if shooting_force is not None:\n    #apply counter force to ball\n  #      forces.append(get_force(plant, plant_context, -1*shooting_force, \"ball\",MULTIPLIER= 1))\n        forces.append(reset_force_ball(plant, plant_context))\n        shooting_force = None\n    apply_forces(plant, plant_context, forces)\n    remove_velocities(plant, plant_context,\"ball\" )\n    pass_through.GetInputPort(\"u\").FixValue(pass_through_context, default_pose)\n    switch.GetInputPort(\"port_selector\").FixValue(switch_context,  switch.GetInputPort(\"position\").get_index())\n    time_ += sim_time_step\n    simulator.AdvanceTo(time_ +TIME)\n    TIME += time_\n\n  #  print(\"Goal\", goal)\n   # print(shortest_distance_hand)\n    meshcat.PublishRecording()\n    return TIME, goal, ball_postions_context, shortest_distance_hand",
      "metadata": {
        "source_hash": null,
        "execution_start": 1702342729685,
        "execution_millis": 88,
        "deepnote_app_coordinates": {
          "h": 120,
          "w": 12,
          "x": 0,
          "y": 0
        },
        "deepnote_to_be_reexecuted": false,
        "cell_id": "101328856230453281e30f3f5b358702",
        "deepnote_cell_type": "code"
      },
      "outputs": [],
      "execution_count": null,
      "block_group": "a485fb60f2c64c8ca5030110c9000591"
    },
    {
      "cell_type": "code",
      "source": "\"\"\"#collect data\nimport pickle\nimport os\n\nfilename = \"/work/history_best_protect_new.pkl\"\nfor i in range(1000):\n    TIME, goal, history, best_blocking_pos = run_episode(plant, plant_context, TIME, controller= \"stay\")\n    if goal:\n        data = [history, best_blocking_pos]\n        if os.path.exists(filename):\n            with open(filename, 'rb') as file:\n                existing_data = pickle.load(file)\n            existing_data.append(data)\n            print(len(existing_data))\n            with open(filename, 'wb') as file:\n                pickle.dump(existing_data, file)\n        else:\n            with open(filename, 'wb') as file:\n                pickle.dump([data], file) \"\"\"\n",
      "metadata": {
        "source_hash": null,
        "execution_start": 1702342729729,
        "execution_millis": 78,
        "deepnote_app_coordinates": {
          "h": 120,
          "w": 12,
          "x": 0,
          "y": 0
        },
        "deepnote_to_be_reexecuted": false,
        "cell_id": "8de9ac5b2eee4691b81a0d4aae4404cf",
        "deepnote_cell_type": "code"
      },
      "outputs": [
        {
          "output_type": "execute_result",
          "execution_count": 37,
          "data": {
            "text/plain": "'#collect data\\nimport pickle\\nimport os\\n\\nfilename = \"/work/history_best_protect_new.pkl\"\\nfor i in range(1000):\\n    TIME, goal, history, best_blocking_pos = run_episode(plant, plant_context, TIME, controller= \"stay\")\\n    if goal:\\n        data = [history, best_blocking_pos]\\n        if os.path.exists(filename):\\n            with open(filename, \\'rb\\') as file:\\n                existing_data = pickle.load(file)\\n            existing_data.append(data)\\n            print(len(existing_data))\\n            with open(filename, \\'wb\\') as file:\\n                pickle.dump(existing_data, file)\\n        else:\\n            with open(filename, \\'wb\\') as file:\\n                pickle.dump([data], file) '"
          },
          "metadata": {}
        }
      ],
      "execution_count": null,
      "block_group": "8f0539271b8041b6aadb6928646b61cc"
    },
    {
      "cell_type": "code",
      "source": "TIME, goal, _, shortest_distance_hand = run_episode(plant, plant_context, TIME, controller= \"sample\")",
      "metadata": {
        "source_hash": null,
        "execution_start": 1702342729730,
        "execution_millis": 60452,
        "deepnote_app_coordinates": {
          "h": 120,
          "w": 12,
          "x": 0,
          "y": 0
        },
        "deepnote_to_be_reexecuted": false,
        "cell_id": "5c3b824b0106455bb047ce05a8b8e690",
        "deepnote_cell_type": "code"
      },
      "outputs": [
        {
          "name": "stderr",
          "text": "==== LCM Warning ===\nLCM detected that large packets are being received, but the kernel UDP\nreceive buffer is very small.  The possibility of dropping packets due to\ninsufficient buffer space is very high.\n\nFor more information, visit:\n   http://lcm-proj.github.io/lcm/multicast_setup.html\n\n/usr/local/lib/python3.10/dist-packages/numpy/core/fromnumeric.py:3504: RuntimeWarning: Mean of empty slice.\n  return _methods._mean(a, axis=axis, dtype=dtype,\n",
          "output_type": "stream"
        }
      ],
      "execution_count": null,
      "block_group": "00b0a0df7fd74792bc2ac5cb3370ed3f"
    },
    {
      "cell_type": "code",
      "source": "#times = 50\n#for name in [\"random\",  \"lstm\", \"rnn\"]:\n #   avg_hand_distance = 0\n #   blocked_count = 0 \n #   for _ in range(times):\n #       TIME, goal, _, shortest_distance_hand = run_episode(plant, plant_context, TIME, controller= \"sample\")\n #       if not goal:\n #           blocked_count+=1\n #       avg_hand_distance += shortest_distance_hand/times\n #   print(\"Name:\", name, \"Hand_distance\",avg_hand_distance, \"block_count\", blocked_count  )",
      "metadata": {
        "source_hash": null,
        "execution_start": 1702342790165,
        "execution_millis": 41,
        "deepnote_app_coordinates": {
          "h": 120,
          "w": 12,
          "x": 0,
          "y": 0
        },
        "deepnote_to_be_reexecuted": false,
        "cell_id": "9d3679e714d5447ba0f60b2806774d8a",
        "deepnote_cell_type": "code"
      },
      "outputs": [],
      "execution_count": null,
      "block_group": "e2392505c146403cadd619497d8fadea"
    },
    {
      "cell_type": "code",
      "source": "Name: sample Hand_distance 1.2466688661141276 block_count 36/150\nName: lstm_ode Hand_distance 1.419386903070725 block_count 11/150\nName: phy Hand_distance 1.1988022685982622 block_count 36/150\nName: stay Hand_distance 1.2910692921548383 block_count 15/150",
      "metadata": {
        "source_hash": null,
        "execution_start": 1702342790166,
        "execution_millis": 49,
        "deepnote_app_coordinates": {
          "h": 120,
          "w": 12,
          "x": 0,
          "y": 0
        },
        "deepnote_to_be_reexecuted": false,
        "cell_id": "c38d764235d142b090f1984c822b1506",
        "deepnote_cell_type": "code"
      },
      "outputs": [
        {
          "output_type": "error",
          "ename": "SyntaxError",
          "evalue": "invalid syntax (2069214953.py, line 1)",
          "traceback": [
            "\u001b[0;36m  Cell \u001b[0;32mIn [40], line 1\u001b[0;36m\u001b[0m\n\u001b[0;31m    Name: sample Hand_distance 1.2466688661141276 block_count 36/150\u001b[0m\n\u001b[0m                 ^\u001b[0m\n\u001b[0;31mSyntaxError\u001b[0m\u001b[0;31m:\u001b[0m invalid syntax\n"
          ]
        }
      ],
      "execution_count": null,
      "block_group": "447ab6eb8c364d20a6492048e6343d45"
    },
    {
      "cell_type": "markdown",
      "source": "Results",
      "metadata": {
        "formattedRanges": [],
        "deepnote_app_coordinates": {
          "h": 2,
          "w": 8,
          "x": 0,
          "y": 0
        },
        "cell_id": "caef9d1437ef4308b439f33fc9ca4b6e",
        "deepnote_cell_type": "text-cell-p"
      },
      "block_group": "cf83d9be0da1487291f4a323f3348d78"
    },
    {
      "cell_type": "markdown",
      "source": "Name: stay Hand_distance 1.27502807603325 block_count 9\r\nName: random Hand_distance 1.9176485305059479 block_count 5\r\nName: phy Hand_distance 1.7357295696812856 block_count 12\r\nName: sample Hand_distance 1.417508157217284 block_count 18\r\nName: lstm Hand_distance 1.3906696503457046 block_count 2\r\nName: gru Hand_distance 1.365239943907065 block_count 6\r\nName: rnn Hand_distance 1.5437941208369137 block_count 4",
      "metadata": {
        "formattedRanges": [],
        "deepnote_app_coordinates": {
          "h": 2,
          "w": 8,
          "x": 0,
          "y": 0
        },
        "cell_id": "9fad76b7edda4504a26de24922865d07",
        "deepnote_cell_type": "text-cell-p"
      },
      "block_group": "0efc0dc773684c05b21fd7b20fb54ad8"
    },
    {
      "cell_type": "markdown",
      "source": "<a style='text-decoration:none;line-height:16px;display:flex;color:#5B5B62;padding:10px;justify-content:end;' href='https://deepnote.com?utm_source=created-in-deepnote-cell&projectId=443541ce-e170-4459-8340-438ed0837988' target=\"_blank\">\n<img alt='Created in deepnote.com' style='display:inline;max-height:16px;margin:0px;margin-right:7.5px;' src='data:image/svg+xml;base64,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' > </img>\nCreated in <span style='font-weight:600;margin-left:4px;'>Deepnote</span></a>",
      "metadata": {
        "created_in_deepnote_cell": true,
        "deepnote_cell_type": "markdown"
      }
    }
  ],
  "nbformat": 4,
  "nbformat_minor": 0,
  "metadata": {
    "deepnote": {},
    "orig_nbformat": 2,
    "deepnote_app_layout": "powerful-article",
    "deepnote_notebook_id": "dc58fec1218044ce8f781b5d2dd7c303",
    "deepnote_execution_queue": []
  }
}