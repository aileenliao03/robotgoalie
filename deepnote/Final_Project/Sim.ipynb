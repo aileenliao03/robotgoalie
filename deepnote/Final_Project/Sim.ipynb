{
  "cells": [
    {
      "cell_type": "code",
      "source": "#Strats:\n#random, \nimport os\nfrom pydrake.common import temp_directory\nfrom pydrake.geometry import StartMeshcat\nfrom pydrake.systems.analysis import Simulator\nimport pydrake.systems.framework as framework\nfrom pydrake.visualization import ModelVisualizer\nfrom pydrake.all import (\n    Simulator,\n    StartMeshcat,\n    DiagramBuilder,\n    SpatialForce,\n    AddMultibodyPlantSceneGraph,\n)\nimport numpy as np\nfrom random import random\nfrom manipulation import running_as_notebook\nfrom manipulation.station import MakeHardwareStation, load_scenario\nfrom pydrake.multibody.plant import  ExternallyAppliedSpatialForce",
      "metadata": {
        "source_hash": null,
        "execution_start": 1702312920724,
        "execution_millis": 353,
        "deepnote_to_be_reexecuted": false,
        "cell_id": "cd8a091ad705480388a5f8c9f6b769ac",
        "deepnote_cell_type": "code"
      },
      "outputs": [],
      "execution_count": null,
      "block_group": "cd8a091ad705480388a5f8c9f6b769ac"
    },
    {
      "cell_type": "code",
      "source": "ball_model = \"/work/ball.sdf\"\npitch_model = \"/work/pitch.sdf\"\ngoal_model = \"/work/Soccergoal.sdf\"\nattacker_model = \"/work/attack_robots_.sdf\" \ndefender_model = \"/work/defend_robots_.sdf\"",
      "metadata": {
        "source_hash": null,
        "execution_start": 1702312921074,
        "execution_millis": 54,
        "deepnote_to_be_reexecuted": false,
        "cell_id": "a0acabfd8138426aa359e3c2b058d990",
        "deepnote_cell_type": "code"
      },
      "outputs": [],
      "execution_count": null,
      "block_group": "e48a698ae097436eb2a5ddf30917822a"
    },
    {
      "cell_type": "code",
      "source": "MASS_BALL = 1.1454717\nGRAVITY = 9.81\nMASS_PLAYER = 1.728014228187\nPASSING_MULTIPLIER = 1\nSHOOTING_MULTIPLIER = 1.8\nNET_DIMS = [4.5, 3]",
      "metadata": {
        "source_hash": null,
        "execution_start": 1702312921077,
        "execution_millis": 50,
        "deepnote_to_be_reexecuted": false,
        "cell_id": "fea69100e09e4b5e9933a88ac095f474",
        "deepnote_cell_type": "code"
      },
      "outputs": [],
      "execution_count": null,
      "block_group": "623e1a822b994aaa90a136251a5daa65"
    },
    {
      "cell_type": "code",
      "source": "def create_senario_data():\n    scenario_data = f\"\"\"\n    directives:\n    - add_model:\n        name: pitch\n        file: file://{pitch_model}\n    - add_weld:\n        parent: world\n        child: pitch::pitch_center  \n    - add_model:\n        name: ball\n        file: file://{ball_model}\n        default_free_body_pose:\n            ball: # Change here!\n                translation: [0, 20, .2]\n                rotation: !Rpy {{ deg: [42, 33, 18] }}  \n    - add_model:\n        name: goal\n        file: file://{goal_model}\n        default_free_body_pose:\n            Soccergoal:\n                translation: [0., 0., 0.]\n                rotation: !Rpy {{ deg: [90, 0, 180] }} \n    \"\"\"\n    player_locs = [[0,20], [-5,17], [5,17]]\n    for i,p in enumerate(player_locs):\n        location_x = p[0]+ (np.random.rand()*4 -2)\n        location_y = p[1]+ (np.random.rand()*4 -2)\n        name = \"attacker\"+ str(i)\n        scenario_data += f\"\"\"\n    - add_model:\n        name: {name}\n        file: file://{attacker_model}\n        default_free_body_pose:\n            attack_robots_:\n                translation: [{location_x}, {location_y}, 1.5]\n                rotation: !Rpy {{ deg: [90, 0, 180] }}\"\"\"\n\n    defender_locs = [[0,5], [-3,6], [3,6]]\n    for i, d in enumerate(defender_locs):\n        location_x = d[0]+ (np.random.rand()*2 -2)\n        location_y = d[1]+ (np.random.rand()*2 -2)\n        name = \"defender\"+ str(i)\n        scenario_data += f\"\"\"\n    - add_model:\n        name: {name}\n        file: file://{defender_model}\n        default_free_body_pose:\n            police_robots_:\n                translation: [{location_x}, {location_y}, 1.5]\n                rotation: !Rpy {{ deg: [90, 0, 0] }}\"\"\"\n                \n    return scenario_data",
      "metadata": {
        "source_hash": null,
        "execution_start": 1702312921096,
        "execution_millis": 32,
        "deepnote_to_be_reexecuted": false,
        "cell_id": "882bd42835554fd183b1c6880e2f740b",
        "deepnote_cell_type": "code"
      },
      "outputs": [],
      "execution_count": null,
      "block_group": "dd3426e4813d470e8949cf116c5c2b88"
    },
    {
      "cell_type": "code",
      "source": "TIME = 0\nmeshcat = StartMeshcat()\nscenario = load_scenario(data=create_senario_data())\nstation = MakeHardwareStation(scenario, meshcat)\nplant = station.GetSubsystemByName(\"plant\")\nsimulator = Simulator(station)\ncontext = simulator.get_mutable_context()\nstation_context = station.GetMyMutableContextFromRoot(context)\nplant_context = plant.GetMyMutableContextFromRoot(context)",
      "metadata": {
        "source_hash": null,
        "execution_start": 1702312921100,
        "execution_millis": 1983,
        "deepnote_to_be_reexecuted": false,
        "cell_id": "a366be48b7b649b4a694f986ee611055",
        "deepnote_cell_type": "code"
      },
      "outputs": [
        {
          "name": "stderr",
          "text": "INFO:drake:Meshcat listening for connections at https://443541ce-e170-4459-8340-438ed0837988.deepnoteproject.com/7000/\n",
          "output_type": "stream"
        },
        {
          "data": {
            "text/plain": "<IPython.core.display.HTML object>",
            "text/html": "Meshcat URL: <a href='https://443541ce-e170-4459-8340-438ed0837988.deepnoteproject.com/7000/' target='_blank'>https://443541ce-e170-4459-8340-438ed0837988.deepnoteproject.com/7000/</a>"
          },
          "metadata": {},
          "output_type": "display_data"
        },
        {
          "name": "stderr",
          "text": "WARNING:drake:warning: Warning parsing Wavefront obj data : Both `d` and `Tr` parameters defined for \"08___Default\". Use the value of `d` for dissolve (line 8 in .mtl.)\nBoth `d` and `Tr` parameters defined for \"07___Default\". Use the value of `d` for dissolve (line 20 in .mtl.)\n",
          "output_type": "stream"
        }
      ],
      "execution_count": null,
      "block_group": "8bbb8e57d9634cb0848163f577378d78"
    },
    {
      "cell_type": "code",
      "source": "def check_goal(plant, plant_context):\n    X_MAX = 10\n    pos = plant.GetPositions(\n    plant_context, plant.GetModelInstanceByName(\"ball\")\n    )[4:]\n    X = (-1*NET_DIMS[0]/2, NET_DIMS[0]/2)\n    Y = (0, 1)\n    Z = (0, NET_DIMS[1])\n\n    x_condition = X[0] <= pos[0] <= X[1]\n    y_condition = Y[0] <= pos[1] <= Y[1]\n    z_condition = Z[0] <= pos[2] <= Z[1]\n\n    goal = x_condition and y_condition and z_condition\n\n    if goal:\n        return True, True \n    else:\n        if pos[1] < -2 or pos[0] < -1*X_MAX or pos[0] > X_MAX :\n            return True , False\n        else:\n            return False,False ",
      "metadata": {
        "source_hash": null,
        "execution_start": 1702312923085,
        "execution_millis": 155,
        "deepnote_to_be_reexecuted": false,
        "cell_id": "3be5b88546114f8986f2b2713047037a",
        "deepnote_cell_type": "code"
      },
      "outputs": [],
      "execution_count": null,
      "block_group": "2b1810f8ff0847ff8904550ae9725e6f"
    },
    {
      "cell_type": "code",
      "source": "def get_forces(plant, plant_context, force_vector, name, MULTIPLIER= 1):\n    # Create the SpatialForce object\n    spatial_force = SpatialForce(tau=np.zeros(3), f=np.array(force_vector)*MULTIPLIER)\n    body_index = plant.GetBodyIndices(plant.GetModelInstanceByName(name))[0]\n    force_object = ExternallyAppliedSpatialForce()\n    force_object.body_index = body_index\n    force_object.F_Bq_W = spatial_force\n    return force_object",
      "metadata": {
        "source_hash": null,
        "execution_start": 1702312923089,
        "execution_millis": 151,
        "deepnote_to_be_reexecuted": false,
        "cell_id": "c435597c3bed4edfbf0abd93ce9f8986",
        "deepnote_cell_type": "code"
      },
      "outputs": [],
      "execution_count": null,
      "block_group": "2d86be3ac2f4420799b36012222f902d"
    },
    {
      "cell_type": "code",
      "source": "def apply_forces(plant, plant_context, forces):\n    plant.get_applied_spatial_force_input_port().FixValue(plant_context, forces)",
      "metadata": {
        "source_hash": null,
        "execution_start": 1702312923101,
        "execution_millis": 135,
        "deepnote_to_be_reexecuted": false,
        "cell_id": "b701bb52a2d04a9199845bb073279ac1",
        "deepnote_cell_type": "code"
      },
      "outputs": [],
      "execution_count": null,
      "block_group": "44f5177cddeb44ddbed035e1b250ed79"
    },
    {
      "cell_type": "code",
      "source": "def remove_velocities(plant, plant_context, name):\n    #set all velocities to 0\n    vel = plant.GetVelocities(plant_context, plant.GetModelInstanceByName(name))\n    plant.SetVelocities(plant_context, plant.GetModelInstanceByName(name), np.zeros_like(vel))",
      "metadata": {
        "source_hash": null,
        "execution_start": 1702312923105,
        "execution_millis": 132,
        "deepnote_to_be_reexecuted": false,
        "cell_id": "a440249dcfc942068e26387ee3e2b9a1",
        "deepnote_cell_type": "code"
      },
      "outputs": [],
      "execution_count": null,
      "block_group": "53530387178e40b49bf6c7aa7ee4eef8"
    },
    {
      "cell_type": "code",
      "source": "def set_position(plant, plant_context, location, name):\n    plant.SetPositions(plant_context, plant.GetModelInstanceByName(name), location)",
      "metadata": {
        "source_hash": null,
        "execution_start": 1702312923106,
        "execution_millis": 132,
        "deepnote_to_be_reexecuted": false,
        "cell_id": "dbe91f2651ec4415a2b5bd3cfae86406",
        "deepnote_cell_type": "code"
      },
      "outputs": [],
      "execution_count": null,
      "block_group": "d274718b1d714fb79152df6ee7276720"
    },
    {
      "cell_type": "code",
      "source": "def clean_players(plant, plant_context, num_attackers = 3, num_defenders = 3):\n    objects = [str(f'defender{i}') for i in range(num_defenders)] + [str(f'attacker{i}') for i in range(num_attackers)]\n    forces =[]\n    for obj in objects:\n        remove_velocities(plant, plant_context,obj )\n        forces.append(get_forces(plant, plant_context, [0,0,GRAVITY*MASS_PLAYER], obj))\n    return forces",
      "metadata": {
        "source_hash": null,
        "execution_start": 1702312923126,
        "execution_millis": 112,
        "deepnote_to_be_reexecuted": false,
        "cell_id": "6d53f6e6b63341a5bfb7299e85b611ef",
        "deepnote_cell_type": "code"
      },
      "outputs": [],
      "execution_count": null,
      "block_group": "cdcf6191bc3540fd9163d52d13558095"
    },
    {
      "cell_type": "code",
      "source": "def shoot_ball(plant, plant_context, sim_time_step, WIND = .5):\n    ball_pos = plant.GetPositions(\n    plant_context, plant.GetModelInstanceByName(\"ball\")\n    ) \n    vel = plant.GetVelocities(plant_context, plant.GetModelInstanceByName(\"ball\")\n    ) [:3]\n\n    set_position(plant, plant_context, ball_pos, \"ball\")\n    goal_target = [np.random.rand()*NET_DIMS[0]/4,0,NET_DIMS[1]/2*np.random.rand()]\n    time_to_travel =np.random.rand() +.5 \n\n    displacement = np.array(goal_target) - np.array(ball_pos[4:])\n    avg_velocity_needed = displacement / time_to_travel\n    acceleration_needed = (avg_velocity_needed - vel) / time_to_travel\n    force = (MASS_BALL * acceleration_needed)/sim_time_step\n\n    wind_force =WIND* np.random.normal()\n\n    \n    return get_forces(plant, plant_context, force+wind_force, \"ball\",MULTIPLIER=SHOOTING_MULTIPLIER)",
      "metadata": {
        "source_hash": null,
        "execution_start": 1702312923127,
        "execution_millis": 111,
        "deepnote_to_be_reexecuted": false,
        "cell_id": "aed45dd1cbfa47bd87e82053569cc1bd",
        "deepnote_cell_type": "code"
      },
      "outputs": [],
      "execution_count": null,
      "block_group": "4773e16c0c62454c9829d21ab09b3a68"
    },
    {
      "cell_type": "code",
      "source": "def pass_ball(plant_context,plant,player_index,sim_time_step, num_attacker=3):\n    pass_to_person = player_index\n    while pass_to_person == player_index:\n        pass_to_person = np.random.randint(0,num_attacker)\n\n    next_pos = plant.GetPositions(\n    plant_context, plant.GetModelInstanceByName(\"attacker\"+str(pass_to_person))\n    )[4:]\n    \n    pos = plant.GetPositions(\n    plant_context, plant.GetModelInstanceByName(\"ball\")\n    ) [4:]\n    vel = plant.GetVelocities(plant_context, plant.GetModelInstanceByName(\"ball\")\n    ) [:3]\n\n    time_to_travel =.5+ np.random.rand() \n\n    displacement = np.array(next_pos) - np.array(pos)\n    avg_velocity_needed = displacement / time_to_travel\n    acceleration_needed = (avg_velocity_needed -vel) / time_to_travel\n    force = (MASS_BALL * acceleration_needed)/sim_time_step\n\n    \n    return get_forces(plant, plant_context, force, \"ball\", MULTIPLIER= PASSING_MULTIPLIER), pass_to_person, force",
      "metadata": {
        "source_hash": null,
        "execution_start": 1702312923127,
        "execution_millis": 114,
        "deepnote_to_be_reexecuted": false,
        "cell_id": "caadea9ef7ed4fcb8753c1d77d5f41b7",
        "deepnote_cell_type": "code"
      },
      "outputs": [],
      "execution_count": null,
      "block_group": "f07d0828401f4330ad7ea0ef141ecc87"
    },
    {
      "cell_type": "code",
      "source": "def move_defenders(plant, plant_context, sim_time_step, num_defenders=3, defender_movement_distance=0.5):\n    \"\"\"\n    Move defenders in the simulation, applying random jitter to their positions.\n\n    Args:\n        plant (Plant): The plant model.\n        plant_context (Context): The context of the plant.\n        sim_time_step (float): The simulation time step.\n        num_defenders (int): Number of defenders.\n        defender_movement_distance (float): Movement distance for defenders.\n\n    Returns:\n        None: This function modifies the defenders' positions in-place.\n    \"\"\"\n    for i in range(num_defenders):\n        defender_name = \"defender\" + str(i)\n        defender_pos = plant.GetPositions(plant_context, plant.GetModelInstanceByName(defender_name))\n\n        random_jitter = np.random.normal(0, 1, 3) * defender_movement_distance\n        random_jitter[2] = 0  # Assuming the z-axis is vertical and should not change\n\n        defender_pos_new = defender_pos[4:] + random_jitter * sim_time_step\n        defender_pos[4:] = defender_pos_new\n\n        set_position(plant, plant_context, defender_pos, defender_name)\n",
      "metadata": {
        "source_hash": null,
        "execution_start": 1702312923132,
        "execution_millis": 107,
        "deepnote_to_be_reexecuted": false,
        "cell_id": "76b17b0e419a47a1b032efba25b9f0c4",
        "deepnote_cell_type": "code"
      },
      "outputs": [],
      "execution_count": null,
      "block_group": "4978b3f23e984b9eba407659093920ef"
    },
    {
      "cell_type": "code",
      "source": "def move_attackers(plant, plant_context, current_attacker_index, sim_time_step, num_attackers=3,\n                   attacker_movement_distance=3, collect=False):\n    \"\"\"\n    Move attackers towards the goal and handle ball movement.\n    \n    Args:\n        plant (Plant): The plant model.\n        plant_context (Context): The context of the plant.\n        current_attacker_index (int): Index of the current attacker.\n        sim_time_step (float): The simulation time step.\n        num_attackers (int): Number of attackers.\n        attacker_movement_distance (float): Movement distance for attackers.\n        collect (bool): Flag to determine movement strategy.\n\n    Returns:\n        np.array: New position of the ball.\n    \"\"\"\n    attacker_with_ball = \"attacker\" + str(current_attacker_index)\n    ball_pos = plant.GetPositions(plant_context, plant.GetModelInstanceByName(\"ball\"))\n\n    goal_target = np.array([0, 0, 0])\n    direction_to_goal = goal_target - ball_pos[4:]\n    direction_norm = np.linalg.norm(direction_to_goal)\n    direction_to_goal_normalized = direction_to_goal / direction_norm if direction_norm != 0 else np.zeros_like(direction_to_goal)\n    \n    COLLECT_MOVEMENT_DISTANCE = 3\n    if collect:  # If collect is true, reduce movement distance\n        attacker_movement_distance =.5\n\n    for i in range(num_attackers):\n        attacker_name = \"attacker\" + str(i)\n        attacker_pos = plant.GetPositions(plant_context, plant.GetModelInstanceByName(attacker_name))\n        random_jitter = np.random.normal(0, 1, 3) * attacker_movement_distance / 3\n        random_jitter[2] = 0  # Assuming z-axis is vertical and should not change\n\n        attacker_pos_new = attacker_pos[4:] + (direction_to_goal_normalized * attacker_movement_distance + random_jitter) * sim_time_step\n        attacker_pos[4:] = attacker_pos_new\n        set_position(plant, plant_context, attacker_pos, attacker_name)\n\n        if attacker_name == attacker_with_ball:\n            if collect:\n                direction_to_ball = ball_pos[4:] - attacker_pos[4:]\n                direction_to_ball[2] = 0\n                direction_norm_ball = np.linalg.norm(direction_to_ball)\n                direction_to_ball_normalized = direction_to_ball / direction_norm_ball if direction_norm_ball != 0 else np.zeros_like(direction_to_ball)\n\n                attacker_pos_new = attacker_pos[4:] + (direction_to_ball_normalized * COLLECT_MOVEMENT_DISTANCE ) * sim_time_step\n                attacker_pos[4:] = attacker_pos_new\n                set_position(plant, plant_context, attacker_pos, attacker_name)\n                collected =  ( np.linalg.norm(attacker_pos_new - ball_pos[4:]) <1.5)\n            else:\n                radius = 0.5\n                ball_jitter = np.random.normal(0, 1, 3)\n                ball_jitter[2] = 0\n                ball_jitter_norm = ball_jitter / np.linalg.norm(ball_jitter) * radius\n                ball_pos_new = attacker_pos_new + ball_jitter_norm\n                ball_pos_new[2] = .3\n                ball_pos[4:] = ball_pos_new\n                set_position(plant, plant_context, ball_pos, \"ball\")\n\n    if collect:\n        return ball_pos[4:] , collected\n    return ball_pos_new, None",
      "metadata": {
        "source_hash": null,
        "execution_start": 1702312923135,
        "execution_millis": 104,
        "deepnote_to_be_reexecuted": false,
        "cell_id": "9143a89e424d465eafc604eb218892bd",
        "deepnote_cell_type": "code"
      },
      "outputs": [],
      "execution_count": null,
      "block_group": "37b14948f5c34743bbec5b278481d7cf"
    },
    {
      "cell_type": "code",
      "source": "def next_state(ball_loc):\n    shooting_zone = [5, 13]\n    \n    if ball_loc[1] >=shooting_zone[0] and ball_loc[1] <=shooting_zone[1]:\n        if (np.random.rand() >=.85):\n            return \"shooting\"\n        elif (np.random.rand() >=.85):\n            return \"passing\"\n        else:\n            return \"moving\"\n    elif ball_loc[1] <shooting_zone[1]:\n        return \"shooting\"\n    else:\n        if (np.random.rand() >=.95):\n            return \"passing\"\n        else:\n            return \"moving\"",
      "metadata": {
        "source_hash": null,
        "execution_start": 1702312923143,
        "execution_millis": 97,
        "deepnote_to_be_reexecuted": false,
        "cell_id": "40b140097d434c1b971494ec8123d12d",
        "deepnote_cell_type": "code"
      },
      "outputs": [],
      "execution_count": null,
      "block_group": "22e0be5de7604430b11aa643ffe17cfb"
    },
    {
      "cell_type": "code",
      "source": "def move_ball(plant, plant_context, current_attacker_index, sim_time_step):\n    move_defenders(plant, plant_context, sim_time_step)\n    ball_loc, _ = move_attackers(plant, plant_context,current_attacker_index, sim_time_step)\n    return next_state(ball_loc)",
      "metadata": {
        "source_hash": null,
        "execution_start": 1702312923152,
        "execution_millis": 93,
        "deepnote_to_be_reexecuted": false,
        "cell_id": "29bfad1ff7f54a0bb43a29fee45698ee",
        "deepnote_cell_type": "code"
      },
      "outputs": [],
      "execution_count": null,
      "block_group": "1d02c176b3514777860f3a7fb56a51c8"
    },
    {
      "cell_type": "code",
      "source": "def collect_ball(plant, plant_context, current_attacker_index, sim_time_step):\n    move_defenders(plant, plant_context, sim_time_step)\n    ball_loc, collected= move_attackers(plant, plant_context,current_attacker_index, sim_time_step,collect=True)\n    if not collected:\n        return \"collecting\" \n        \n    return next_state(ball_loc)",
      "metadata": {
        "source_hash": null,
        "execution_start": 1702312923160,
        "execution_millis": 81,
        "deepnote_to_be_reexecuted": false,
        "cell_id": "310e2d02f7ae4765a0e3e7542cc753ae",
        "deepnote_cell_type": "code"
      },
      "outputs": [],
      "execution_count": null,
      "block_group": "b914c09ec70648a29c808fec87cd6d9b"
    },
    {
      "cell_type": "code",
      "source": "def reset_episode(plant, plant_context):\n    attacker_locs = [[0,25], [-5,22], [5,22]]\n    defender_locs = [[0,5], [-3,6], [3,6]]\n\n    for i,p in enumerate(attacker_locs):\n        location_x = p[0]+ (np.random.rand()*2 -1)\n        location_y = p[1]+ (np.random.rand()*2 -1)\n        name = \"attacker\"+ str(i)\n        attacker_pos = plant.GetPositions(plant_context, plant.GetModelInstanceByName(name))\n        attacker_pos[4:] = np.array([location_x, location_y, 1 ])\n        set_position(plant, plant_context, attacker_pos, name)\n        if i == 0:\n            ball_pos = plant.GetPositions(plant_context, plant.GetModelInstanceByName(\"ball\"))\n            ball_pos[4:] = np.array([location_x, location_y+1, 1.5] )\n            set_position(plant, plant_context, ball_pos, \"ball\")\n    \n    for i,p in enumerate(defender_locs):\n        location_x = p[0]+ (np.random.rand()*1 -1)\n        location_y = p[1]+ (np.random.rand()*1 -1)\n        name = \"defender\"+ str(i)\n        defender_pos = plant.GetPositions(plant_context, plant.GetModelInstanceByName(name))\n        defender_pos[4:] = np.array([location_x, location_y, 1] )\n        set_position(plant, plant_context, defender_pos, name)",
      "metadata": {
        "source_hash": null,
        "execution_start": 1702312923160,
        "execution_millis": 89,
        "deepnote_to_be_reexecuted": false,
        "cell_id": "c771c8c1901d4303959633427ab454eb",
        "deepnote_cell_type": "code"
      },
      "outputs": [],
      "execution_count": null,
      "block_group": "9579ce348f6f4fc5acd46acd3b41b434"
    },
    {
      "cell_type": "code",
      "source": "def run_episode(plant, plant_context, TIME, sim_time_step = .1, max_sim = 20 ):\n    reset_episode(plant, plant_context)\n    meshcat.StartRecording()\n    time_ = 0\n    current_attacker_index = 0\n    #states shooting, moving, passing, collecting_ball, waiting\n    state = \"moving\"\n    forces = []\n    shot_time = 0\n    MAX_TIME_SINCE_SHOT = 5 \n    passing_force= None\n    while True:\n        #Step\n        apply_forces(plant, plant_context, forces)\n        time_ += sim_time_step\n        simulator.AdvanceTo(time_ +TIME)\n        forces = clean_players(plant,plant_context)\n\n        if state == \"moving\":\n            #to accelerte increase sim_time_step in moving/collecting/waiting\n            state = move_ball(plant, plant_context, current_attacker_index, sim_time_step)\n            if passing_force is not None:\n                #apply counter force to ball\n                forces.append(get_forces(plant, plant_context, -1*passing_force, \"ball\",MULTIPLIER= PASSING_MULTIPLIER))\n                passing_force = None\n        elif state == \"passing\":\n            force, current_attacker_index, passing_force = pass_ball(plant_context,plant,current_attacker_index,sim_time_step)\n            forces.append(force)\n            state = \"collecting\"\n        elif state == \"shooting\":\n            force = shoot_ball(plant, plant_context, sim_time_step)\n            forces.append(force)\n            state = \"waiting\"\n        elif state == \"collecting\":\n            state = collect_ball(plant, plant_context, current_attacker_index, sim_time_step)\n        elif state == \"waiting\":\n            move_defenders(plant, plant_context, sim_time_step)\n            shot_time+= sim_time_step\n\n        print(time_, state)\n\n        episode_over, goal = check_goal(plant, plant_context)\n\n        if time_ >= max_sim or episode_over or shot_time > MAX_TIME_SINCE_SHOT:\n            break\n    TIME += time_\n    print(\"Goal\", goal)\n    meshcat.PublishRecording()\n    return TIME",
      "metadata": {
        "source_hash": null,
        "execution_start": 1702312923170,
        "execution_millis": 69,
        "deepnote_to_be_reexecuted": false,
        "cell_id": "47140f7692f045bdb7ed94310a68d292",
        "deepnote_cell_type": "code"
      },
      "outputs": [],
      "execution_count": null,
      "block_group": "a485fb60f2c64c8ca5030110c9000591"
    },
    {
      "cell_type": "code",
      "source": "#can keep running this cell to run an episode need to keep track of time\nTIME = run_episode(plant, plant_context, TIME)",
      "metadata": {
        "source_hash": null,
        "execution_start": 1702312923176,
        "execution_millis": 23132,
        "deepnote_to_be_reexecuted": false,
        "cell_id": "75a1896cea67435e843c40ff7b841b20",
        "deepnote_cell_type": "code"
      },
      "outputs": [
        {
          "name": "stderr",
          "text": "==== LCM Warning ===\nLCM detected that large packets are being received, but the kernel UDP\nreceive buffer is very small.  The possibility of dropping packets due to\ninsufficient buffer space is very high.\n\nFor more information, visit:\n   http://lcm-proj.github.io/lcm/multicast_setup.html\n\n0.1 moving\n0.2 passing\n0.30000000000000004 collecting\n0.4 collecting\n0.5 collecting\n0.6 collecting\n0.7 collecting\n0.7999999999999999 collecting\n0.8999999999999999 collecting\n0.9999999999999999 collecting\n1.0999999999999999 collecting\n1.2 moving\n1.3 moving\n1.4000000000000001 moving\n1.5000000000000002 moving\n1.6000000000000003 moving\n1.7000000000000004 moving\n1.8000000000000005 moving\n1.9000000000000006 moving\n2.0000000000000004 moving\n2.1000000000000005 moving\n2.2000000000000006 moving\n2.3000000000000007 moving\n2.400000000000001 moving\n2.500000000000001 moving\n2.600000000000001 moving\n2.700000000000001 passing\n2.800000000000001 collecting\n2.9000000000000012 collecting\n3.0000000000000013 collecting\n3.1000000000000014 collecting\n3.2000000000000015 collecting\n3.3000000000000016 collecting\n3.4000000000000017 collecting\n3.5000000000000018 collecting\n3.600000000000002 moving\n3.700000000000002 moving\n3.800000000000002 moving\n3.900000000000002 moving\n4.000000000000002 moving\n4.100000000000001 moving\n4.200000000000001 moving\n4.300000000000001 moving\n4.4 moving\n4.5 moving\n4.6 moving\n4.699999999999999 moving\n4.799999999999999 moving\n4.899999999999999 moving\n4.999999999999998 moving\n5.099999999999998 moving\n5.1999999999999975 moving\n5.299999999999997 moving\n5.399999999999997 moving\n5.4999999999999964 moving\n5.599999999999996 moving\n5.699999999999996 shooting\n5.799999999999995 waiting\n5.899999999999995 waiting\n5.999999999999995 waiting\n6.099999999999994 waiting\nGoal True\n",
          "output_type": "stream"
        }
      ],
      "execution_count": null,
      "block_group": "fb9d6c05e93549d989b380ee8b7595d5"
    },
    {
      "cell_type": "markdown",
      "source": "<a style='text-decoration:none;line-height:16px;display:flex;color:#5B5B62;padding:10px;justify-content:end;' href='https://deepnote.com?utm_source=created-in-deepnote-cell&projectId=443541ce-e170-4459-8340-438ed0837988' target=\"_blank\">\n<img alt='Created in deepnote.com' style='display:inline;max-height:16px;margin:0px;margin-right:7.5px;' src='data:image/svg+xml;base64,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' > </img>\nCreated in <span style='font-weight:600;margin-left:4px;'>Deepnote</span></a>",
      "metadata": {
        "created_in_deepnote_cell": true,
        "deepnote_cell_type": "markdown"
      }
    }
  ],
  "nbformat": 4,
  "nbformat_minor": 0,
  "metadata": {
    "deepnote": {},
    "orig_nbformat": 2,
    "deepnote_notebook_id": "d29074a592564a3faafa928fc506b6aa",
    "deepnote_execution_queue": []
  }
}