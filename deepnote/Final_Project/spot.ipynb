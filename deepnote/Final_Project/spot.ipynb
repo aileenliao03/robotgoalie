{
  "cells": [
    {
      "cell_type": "markdown",
      "source": "This notebook provides examples to go along with the [textbook](http://manipulation.csail.mit.edu/robot.html).  I recommend having both windows open, side-by-side!",
      "metadata": {
        "id": "EgiF12Hf1Dhs",
        "colab_type": "text",
        "cell_id": "0091d3d635c5476abb7ff4418cf38f63",
        "deepnote_cell_type": "markdown"
      },
      "block_group": "04139d6ad2a045449a2ed7977eba5708"
    },
    {
      "cell_type": "code",
      "source": "from pydrake.all import ModelVisualizer, StartMeshcat, PackageMap, Simulator\n\nfrom manipulation import running_as_notebook, ConfigureParser, FindResource\nfrom manipulation.station import load_scenario, MakeHardwareStation\n\nimport logging\nfrom copy import copy\nfrom enum import Enum\n\nimport numpy as np\nfrom pydrake.all import (\n    AbstractValue,\n    AddMultibodyPlantSceneGraph,\n    Concatenate,\n    DiagramBuilder,\n    InputPortIndex,\n    LeafSystem,\n    MeshcatVisualizer,\n    Parser,\n    PiecewisePolynomial,\n    PiecewisePose,\n    PointCloud,\n    PortSwitch,\n    Solve,\n    RandomGenerator,\n    RigidTransform,\n    RollPitchYaw,\n    Simulator,\n    StartMeshcat,\n    UniformlyRandomRotationMatrix,\n)\n\nfrom manipulation import ConfigureParser, FindResource, running_as_notebook\nfrom manipulation.clutter import GenerateAntipodalGraspCandidate\nfrom manipulation.meshcat_utils import AddMeshcatTriad\nfrom manipulation.pick import (\n    MakeGripperCommandTrajectory,\n    MakeGripperFrames,\n    MakeGripperPoseTrajectory,\n)\nfrom manipulation.scenarios import AddIiwaDifferentialIK, ycb\nfrom manipulation.station import (\n    AddPointClouds,\n    MakeHardwareStation,\n    add_directives,\n    load_scenario,\n)\n\n\nclass NoDiffIKWarnings(logging.Filter):\n    def filter(self, record):\n        return not record.getMessage().startswith(\"Differential IK\")\n\n\nlogging.getLogger(\"drake\").addFilter(NoDiffIKWarnings())\n\n\nimport mpld3\nimport numpy as np\nimport pydot\nfrom IPython.display import SVG, display\nfrom matplotlib import pyplot as plt\nfrom pydrake.all import DiagramBuilder, StartMeshcat\n\nfrom manipulation import FindResource, running_as_notebook\nfrom manipulation.scenarios import AddMultibodyTriad\nfrom manipulation.station import (\n    AddPointClouds,\n    MakeHardwareStation,\n    load_scenario,\n)\n\n\nif running_as_notebook:\n    mpld3.enable_notebook()",
      "metadata": {
        "id": "eeMrMI0-1Dhu",
        "colab": {},
        "colab_type": "code",
        "source_hash": null,
        "execution_start": 1702076833848,
        "execution_millis": 23613,
        "deepnote_to_be_reexecuted": false,
        "lines_to_end_of_cell_marker": 2,
        "cell_id": "6dcc29dc46c5422b8e16f1178816b0e5",
        "deepnote_cell_type": "code"
      },
      "outputs": [],
      "execution_count": null,
      "block_group": "49055c0bcfe448a8a655281b5b276633"
    },
    {
      "cell_type": "code",
      "source": "# Start the visualizer.\nmeshcat = StartMeshcat()",
      "metadata": {
        "source_hash": null,
        "execution_start": 1702076857463,
        "execution_millis": 22,
        "deepnote_to_be_reexecuted": false,
        "cell_id": "4b6d33358aac4912acc0c08ebb80c3c2",
        "deepnote_cell_type": "code"
      },
      "outputs": [
        {
          "name": "stderr",
          "text": "INFO:drake:Meshcat listening for connections at https://443541ce-e170-4459-8340-438ed0837988.deepnoteproject.com/7001/\n",
          "output_type": "stream"
        },
        {
          "data": {
            "text/plain": "<IPython.core.display.HTML object>",
            "text/html": "Meshcat URL: <a href='https://443541ce-e170-4459-8340-438ed0837988.deepnoteproject.com/7001/' target='_blank'>https://443541ce-e170-4459-8340-438ed0837988.deepnoteproject.com/7001/</a>"
          },
          "metadata": {},
          "output_type": "display_data"
        }
      ],
      "execution_count": null,
      "block_group": "0a25e3deae814ed89258fe5a01870de1"
    },
    {
      "cell_type": "code",
      "source": "def AddSpotRemote(parser):\n    parser.package_map().AddRemote(\n        package_name=\"spot_description\",\n        params=PackageMap.RemoteParams(\n            urls=[\n                f\"https://github.com/bdaiinstitute/spot_ros2/archive/d429947a1df842ec38f8c6099dde9501945090d6.tar.gz\"\n            ],\n            sha256=(\n                \"e4dd471be4e7e822a12afcfd6a94ce7ecbb39e2d4ea406779a96e146a607bf53\"\n            ),\n            strip_prefix=\"spot_ros2-d429947a1df842ec38f8c6099dde9501945090d6/spot_description/\",\n        ),\n    )",
      "metadata": {
        "source_hash": null,
        "execution_start": 1702076857471,
        "execution_millis": 22,
        "deepnote_to_be_reexecuted": false,
        "cell_id": "72af56e12b544f71a08146294b3b4763",
        "deepnote_cell_type": "code"
      },
      "outputs": [],
      "execution_count": null,
      "block_group": "faba90b6caf343d8a4f70478353524fb"
    },
    {
      "cell_type": "markdown",
      "source": "# Simplified Spot model for mobile manipulation\n\nFirst we'll use the ModelVisualizer to inspect the model.",
      "metadata": {
        "cell_id": "7e1c56ce8fed492b80ef28a737a20f8e",
        "deepnote_cell_type": "markdown"
      },
      "block_group": "e2b0d23d91cf47e2b61caf926ca8ecf6"
    },
    {
      "cell_type": "code",
      "source": "visualizer = ModelVisualizer(meshcat=meshcat)\nConfigureParser(visualizer.parser())\nAddSpotRemote(visualizer.parser())\nvisualizer.AddModels(\n    url=\"package://manipulation/spot/spot_with_arm_and_floating_base_actuators.urdf\"\n)\nvisualizer.Run(loop_once=not running_as_notebook)\nmeshcat.DeleteAddedControls()",
      "metadata": {
        "id": "5SjOClhTltPk",
        "colab": {},
        "colab_type": "code",
        "source_hash": null,
        "execution_start": 1702076857474,
        "execution_millis": 268890,
        "deepnote_to_be_reexecuted": false,
        "cell_id": "4c689725f337406cb07857df040f55a0",
        "deepnote_cell_type": "code"
      },
      "outputs": [
        {
          "name": "stderr",
          "text": "INFO:drake:PackageMap: Downloading https://github.com/bdaiinstitute/spot_ros2/archive/d429947a1df842ec38f8c6099dde9501945090d6.tar.gz\nINFO:drake:Click 'Stop Running' or press Esc to quit\nWARNING:drake:Ignoring Meshcat http request for /spot_mat.png\nWARNING:drake:Ignoring Meshcat http request for /spot_mat.png\nWARNING:drake:Ignoring Meshcat http request for /spot_mat.png\nWARNING:drake:Ignoring Meshcat http request for /spot_mat.png\nWARNING:drake:Ignoring Meshcat http request for /spot_mat.png\nWARNING:drake:Ignoring Meshcat http request for /spot_mat.png\nWARNING:drake:Ignoring Meshcat http request for /spot_mat.png\nWARNING:drake:Ignoring Meshcat http request for /spot_mat.png\nWARNING:drake:Ignoring Meshcat http request for /spot_mat.png\nWARNING:drake:Ignoring Meshcat http request for /spot_mat.png\nWARNING:drake:Ignoring Meshcat http request for /spot_mat.png\nWARNING:drake:Ignoring Meshcat http request for /spot_mat.png\nWARNING:drake:Ignoring Meshcat http request for /spot_mat.png\n==== LCM Warning ===\nLCM detected that large packets are being received, but the kernel UDP\nreceive buffer is very small.  The possibility of dropping packets due to\ninsufficient buffer space is very high.\n\nFor more information, visit:\n   http://lcm-proj.github.io/lcm/multicast_setup.html\n\n",
          "output_type": "stream"
        },
        {
          "output_type": "error",
          "ename": "KernelInterrupted",
          "evalue": "Execution interrupted by the Jupyter kernel.",
          "traceback": [
            "\u001b[0;31m---------------------------------------------------------------------------\u001b[0m",
            "\u001b[0;31mKernelInterrupted\u001b[0m: Execution interrupted by the Jupyter kernel."
          ]
        }
      ],
      "execution_count": null,
      "block_group": "7d517385029843a5931cde4df57516bd"
    },
    {
      "cell_type": "markdown",
      "source": "Now we can use HardwareStation to create a basic simulation.",
      "metadata": {
        "cell_id": "ac75c25c85824b17897994ce26c141e5",
        "deepnote_cell_type": "markdown"
      },
      "block_group": "6b8f24a5a59149fa9ae95490e9e2f5fb"
    },
    {
      "cell_type": "code",
      "source": "from pydrake.all import RgbdSensor, RandomGenerator\nfrom manipulation.scenarios import AddRgbdSensors\n\nbuilder = DiagramBuilder()\nplant, scene_graph = AddMultibodyPlantSceneGraph(builder, time_step=0.0)\nscenario = load_scenario(\n    filename=FindResource(\n        \"models/spot/spot_with_arm_and_floating_base_actuators.scenario.yaml\"\n    )\n)\nstation = MakeHardwareStation(\n    scenario, meshcat, parser_preload_callback=AddSpotRemote\n)\nAddRgbdSensors(builder, plant, scene_graph)\nplant = station.GetSubsystemByName(\"plant\")\nsimulator = Simulator(station)\ncontext = simulator.get_mutable_context()\nSVG(pydot.graph_from_dot_data(station.GetGraphvizString())[0].create_svg())\n#x0 = [0 for _ in range(20)]\n#station.GetInputPort(\"spot.desired_state\").FixValue(context, x0)\n#x0 = station.GetOutputPort(\"spot.state_estimated\").Eval(context)\n#color_image = station.GetOutputPort(\"hand.rgb_image\").Eval(context)\n#index = 1\n#plt.figure(figsize=(6, 12))\n#plt.subplot(6, 2, index)\n#plt.imshow(color_image.data)\n#index += 1\n#plt.title(\"Color image\")\n#plt.show()\n\n# #print(x0)\n# x0[2]+=5.0\n# #x0[7]+=0.1\n\n#example: ball is at [1,0.5,0.5]\nx0=[ 3. ,  0. ,  0. ,  0.,  0.,  0.,  0.,   0. ,  0. ,  0.  , 0. ,  0.  , 0. ,  0. , 0. ,  0. ,  0. ,  0. ,  0. ,  0. ]\nstation.GetInputPort(\"spot.desired_state\").FixValue(context, x0)\n# simulator.AdvanceTo(1.0);\n#REFERENCE: https://github.com/RussTedrake/manipulation/blob/5296103e8f671444ab390b692ed1f6de8fdf420f/pose/camera_sim.ipynb#L64\n",
      "metadata": {
        "source_hash": null,
        "execution_start": 1701917192778,
        "execution_millis": 2310,
        "deepnote_to_be_reexecuted": true,
        "cell_id": "21e20f4bec294edda4be594d996c786f",
        "deepnote_cell_type": "code"
      },
      "outputs": [
        {
          "name": "stderr",
          "text": "WARNING:drake:RenderEngineVtk only supports Mesh/Convex specifications which use .obj and .gltf files. Mesh specifications using other mesh types (e.g., .stl, .dae, etc.) will be ignored.\n",
          "output_type": "stream"
        },
        {
          "output_type": "execute_result",
          "execution_count": 5,
          "data": {
            "text/plain": "<pydrake.systems.framework.FixedInputPortValue at 0x7fee198c6ab0>"
          },
          "metadata": {}
        }
      ],
      "execution_count": null,
      "block_group": "7440dcd202d44f48adfbc1b0e575c870"
    },
    {
      "cell_type": "code",
      "source": "x0=[ 3. ,  0. ,  0. ,  0.,  0.,  0.,  0.,   0. ,  0. ,  0.  , 0. ,  0.  , 0. ,  0. , 0. ,  0. ,  0. ,  0. ,  0. ,  0. ]\nprint(len(x0))",
      "metadata": {
        "source_hash": null,
        "execution_start": 1701917195096,
        "execution_millis": 32,
        "deepnote_to_be_reexecuted": true,
        "cell_id": "765247ed54764c3bbc9d08f161fd25c9",
        "deepnote_cell_type": "code"
      },
      "outputs": [
        {
          "name": "stdout",
          "text": "20\n",
          "output_type": "stream"
        }
      ],
      "execution_count": null,
      "block_group": "54358d21a4574968aacc1b5c70753313"
    },
    {
      "cell_type": "code",
      "source": "print(station.GetSystems())\nfor i in range(station.num_output_ports()):\n   print(station.get_output_port(i).get_name())\nstation.GetOutputPort(\"hand.rgb_image\").get_data_type()",
      "metadata": {
        "source_hash": null,
        "execution_start": 1701729492769,
        "execution_millis": 26,
        "deepnote_to_be_reexecuted": true,
        "cell_id": "1f564416d3bd4a2fb25258c460a3b25e",
        "deepnote_cell_type": "code"
      },
      "outputs": [
        {
          "name": "stdout",
          "text": "[<pydrake.multibody.plant.MultibodyPlant object at 0x7f5ad097c670>, <pydrake.geometry.SceneGraph object at 0x7f5ad1593bf0>, <pydrake.systems.controllers.InverseDynamicsController object at 0x7f5abab1a430>, <pydrake.systems.sensors.RgbdSensor object at 0x7f5abaaf3f30>, <pydrake.systems.sensors.RgbdSensor object at 0x7f5abaaf0df0>, <pydrake.systems.sensors.RgbdSensor object at 0x7f5abab2e330>, <pydrake.systems.sensors.RgbdSensor object at 0x7f5abaca4f30>, <pydrake.systems.sensors.RgbdSensor object at 0x7f5abab2c230>, <pydrake.systems.sensors.RgbdSensor object at 0x7f5abab2c3b0>, <pydrake.systems.primitives.SharedPointerSystem object at 0x7f5abaac85b0>, <pydrake.geometry.DrakeVisualizer object at 0x7f5abad90df0>, <pydrake.geometry.DrakeVisualizer object at 0x7f5abad92ef0>, <pydrake.multibody.plant.ContactResultsToLcmSystem object at 0x7f5ad15adaf0>, <pydrake.systems.lcm.LcmPublisherSystem object at 0x7f5ad15acf30>, <pydrake.systems.framework.System object at 0x7f5ad15ad270>, <pydrake.geometry.MeshcatVisualizer object at 0x7f5ad15ad2f0>, <pydrake.geometry.MeshcatVisualizer object at 0x7f5abab94730>, <pydrake.geometry.MeshcatVisualizer object at 0x7f5ad15ad8b0>, <pydrake.multibody.meshcat.ContactVisualizer object at 0x7f5ad15459f0>]\nspot.state_estimated\nback.rgb_image\nback.depth_image\nback.label_image\nfrontleft.rgb_image\nfrontleft.depth_image\nfrontleft.label_image\nfrontright.rgb_image\nfrontright.depth_image\nfrontright.label_image\nhand.rgb_image\nhand.depth_image\nhand.label_image\nleft.rgb_image\nleft.depth_image\nleft.label_image\nright.rgb_image\nright.depth_image\nright.label_image\nquery_object\ncontact_results\nplant_continuous_state\nbody_poses\n",
          "output_type": "stream"
        },
        {
          "output_type": "execute_result",
          "execution_count": 6,
          "data": {
            "text/plain": "<PortDataType.kAbstractValued: 1>"
          },
          "metadata": {}
        },
        {
          "output_type": "error",
          "ename": "KernelInterrupted",
          "evalue": "Execution interrupted by the Jupyter kernel.",
          "traceback": [
            "\u001b[0;31m---------------------------------------------------------------------------\u001b[0m",
            "\u001b[0;31mKernelInterrupted\u001b[0m: Execution interrupted by the Jupyter kernel."
          ]
        }
      ],
      "execution_count": null,
      "block_group": "691663fc447b49478c2cb897de80df80"
    },
    {
      "cell_type": "code",
      "source": "def move_forward(time):\n    # Assuming `station` is the hardware station\n    context = simulator.get_mutable_context()\n\n    # Get the estimated state of the Spot robot\n    x0 = station.GetOutputPort(\"spot.state_estimated\").Eval(context)\n\n    # Modify the desired state to command forward movement\n    desired_state = x0\n    desired_state[7]+= 0.1  # Adjust the linear velocity as needed in the x-direction\n    desired_state[0] += 1.0  # Optionally, adjust the x-position to move forward\n\n    # Set the modified desired state\n    station.GetInputPort(\"spot.desired_state\").FixValue(context, desired_state)\n\n    x_before_advance = station.GetOutputPort(\"spot.state_estimated\").Eval(context)\n    print(\"State Before Advance:\", x_before_advance)\n\n    # Advance the simulation to see the effect\n    simulator.AdvanceTo(time)  # Adjust the simulation time as needed\n\n    x_after_advance = station.GetOutputPort(\"spot.state_estimated\").Eval(context)\n    print(\"State After Advance:\", x_after_advance)\n\ndef move_backward(time):\n    # Assuming `station` is the hardware station\n    context = simulator.get_mutable_context()\n\n    # Get the estimated state of the Spot robot\n    x0 = station.GetOutputPort(\"spot.state_estimated\").Eval(context)\n\n    # Modify the desired state to command forward movement\n    desired_state = x0\n    desired_state[7] -= 0.1  # Adjust the linear velocity as needed in the x-direction\n    desired_state[0] -= 1.0  # Optionally, adjust the x-position to move forward\n\n    # Set the modified desired state\n    station.GetInputPort(\"spot.desired_state\").FixValue(context, desired_state)\n\n    x_before_advance = station.GetOutputPort(\"spot.state_estimated\").Eval(context)\n    print(\"State Before Advance:\", x_before_advance)\n\n    # Advance the simulation to see the effect\n    simulator.AdvanceTo(time)  # Adjust the simulation time as needed\n\n    x_after_advance = station.GetOutputPort(\"spot.state_estimated\").Eval(context)\n    print(\"State After Advance:\", x_after_advance)\n\ndef move_left(time):\n    # Assuming `station` is the hardware station\n    context = simulator.get_mutable_context()\n\n    # Get the estimated state of the Spot robot\n    x0 = station.GetOutputPort(\"spot.state_estimated\").Eval(context)\n\n    # Modify the desired state to command forward movement\n    desired_state = x0.copy()\n    desired_state[8] = 0.1  # Adjust the linear velocity as needed in the x-direction\n    desired_state[1] += 1.0  # Optionally, adjust the x-position to move forward\n\n    # Set the modified desired state\n    station.GetInputPort(\"spot.desired_state\").FixValue(context, desired_state)\n\n    x_before_advance = station.GetOutputPort(\"spot.state_estimated\").Eval(context)\n    print(\"State Before Advance:\", x_before_advance)\n\n    # Advance the simulation to see the effect\n    simulator.AdvanceTo(time)  # Adjust the simulation time as needed\n\n    x_after_advance = station.GetOutputPort(\"spot.state_estimated\").Eval(context)\n    print(\"State After Advance:\", x_after_advance)\n\ndef move_right(time):\n    # Assuming `station` is the hardware station\n    context = simulator.get_mutable_context()\n\n    # Get the estimated state of the Spot robot\n    x0 = station.GetOutputPort(\"spot.state_estimated\").Eval(context)\n\n    # Modify the desired state to command forward movement\n    desired_state = x0\n    desired_state[8] -= 0.1  # Adjust the linear velocity as needed in the x-direction\n    desired_state[1] -= 1.0  # Optionally, adjust the x-position to move forward\n\n    # Set the modified desired state\n    station.GetInputPort(\"spot.desired_state\").FixValue(context, desired_state)\n\n    x_before_advance = station.GetOutputPort(\"spot.state_estimated\").Eval(context)\n    print(\"State Before Advance:\", x_before_advance)\n\n    # Advance the simulation to see the effect\n    simulator.AdvanceTo(time)  # Adjust the simulation time as needed\n\n    x_after_advance = station.GetOutputPort(\"spot.state_estimated\").Eval(context)\n    print(\"State After Advance:\", x_after_advance)\n\ndef rotate_base(time):\n    # Assuming `station` is the hardware station\n    context = simulator.get_mutable_context()\n\n    # Get the estimated state of the Spot robot\n    x0 = station.GetOutputPort(\"spot.state_estimated\").Eval(context)\n\n    # Modify the desired state to command forward movement\n    desired_state = x0\n    desired_state[10] += 0.1  # Adjust the linear velocity as needed in the x-direction\n    desired_state[3] += 1.0  # Optionally, adjust the x-position to move forward\n\n    # Set the modified desired state\n    station.GetInputPort(\"spot.desired_state\").FixValue(context, desired_state)\n\n    x_before_advance = station.GetOutputPort(\"spot.state_estimated\").Eval(context)\n    print(\"State Before Advance:\", x_before_advance)\n\n    # Advance the simulation to see the effect\n    simulator.AdvanceTo(time)  # Adjust the simulation time as needed\n\n    x_after_advance = station.GetOutputPort(\"spot.state_estimated\").Eval(context)\n    print(\"State After Advance:\", x_after_advance)\n\ndef extend_arm(time):\n    # Assuming `station` is the hardware station\n    context = simulator.get_mutable_context()\n\n    # Get the estimated state of the Spot robot\n    x0 = station.GetOutputPort(\"spot.state_estimated\").Eval(context)\n\n    # Modify the desired state to command forward movement\n    desired_state = x0\n    desired_state[9] += 0.1  # Adjust the linear velocity as needed in the x-direction\n    desired_state[2] += 1.0  # Optionally, adjust the x-position to move forward\n\n    # Set the modified desired state\n    station.GetInputPort(\"spot.desired_state\").FixValue(context, desired_state)\n\n    x_before_advance = station.GetOutputPort(\"spot.state_estimated\").Eval(context)\n    print(\"State Before Advance:\", x_before_advance)\n\n    # Advance the simulation to see the effect\n    simulator.AdvanceTo(time)  # Adjust the simulation time as needed\n\n    x_after_advance = station.GetOutputPort(\"spot.state_estimated\").Eval(context)\n    print(\"State After Advance:\", x_after_advance)\n\n\n\ndef arm_basejoint(time):\n    # Assuming `station` is the hardware station\n    context = simulator.get_mutable_context()\n\n    # Get the estimated state of the Spot robot\n    x0 = station.GetOutputPort(\"spot.state_estimated\").Eval(context)\n\n    # Modify the desired state to command forward movement\n    desired_state = x0\n    desired_state[10] += 0.1  # Adjust the linear velocity as needed in the x-direction\n    desired_state[4] += 1.0  # Optionally, adjust the x-position to move forward\n\n    # Set the modified desired state\n    station.GetInputPort(\"spot.desired_state\").FixValue(context, desired_state)\n\n    x_before_advance = station.GetOutputPort(\"spot.state_estimated\").Eval(context)\n    print(\"State Before Advance:\", x_before_advance)\n\n    # Advance the simulation to see the effect\n    simulator.AdvanceTo(time)  # Adjust the simulation time as needed\n\n    x_after_advance = station.GetOutputPort(\"spot.state_estimated\").Eval(context)\n    print(\"State After Advance:\", x_after_advance)\n\n\ndef arm_wristjoint(time):\n    # Assuming `station` is the hardware station\n    context = simulator.get_mutable_context()\n\n    # Get the estimated state of the Spot robot\n    x0 = station.GetOutputPort(\"spot.state_estimated\").Eval(context)\n\n    # Modify the desired state to command forward movement\n    desired_state = x0\n    desired_state[11] += 0.1  # Adjust the linear velocity as needed in the x-direction\n    desired_state[5] += 1.0  # Optionally, adjust the x-position to move forward\n\n    # Set the modified desired state\n    station.GetInputPort(\"spot.desired_state\").FixValue(context, desired_state)\n\n    x_before_advance = station.GetOutputPort(\"spot.state_estimated\").Eval(context)\n    print(\"State Before Advance:\", x_before_advance)\n\n    # Advance the simulation to see the effect\n    simulator.AdvanceTo(time)  # Adjust the simulation time as needed\n\n    x_after_advance = station.GetOutputPort(\"spot.state_estimated\").Eval(context)\n    print(\"State After Advance:\", x_after_advance)\n\n\ndef arm_rotation(time):\n    # Assuming `station` is the hardware station\n    context = simulator.get_mutable_context()\n\n    # Get the estimated state of the Spot robot\n    x0 = station.GetOutputPort(\"spot.state_estimated\").Eval(context)\n\n    # Modify the desired state to command forward movement\n    desired_state = x0\n    desired_state[13] += 0.1  # Adjust the linear velocity as needed in the x-direction\n    desired_state[6] += 1.0  # Optionally, adjust the x-position to move forward\n\n    # Set the modified desired state\n    station.GetInputPort(\"spot.desired_state\").FixValue(context, desired_state)\n\n    x_before_advance = station.GetOutputPort(\"spot.state_estimated\").Eval(context)\n    print(\"State Before Advance:\", x_before_advance)\n\n    # Advance the simulation to see the effect\n    simulator.AdvanceTo(time)  # Adjust the simulation time as needed\n\n    x_after_advance = station.GetOutputPort(\"spot.state_estimated\").Eval(context)\n    print(\"State After Advance:\", x_after_advance)\n\n",
      "metadata": {
        "source_hash": null,
        "execution_start": 1701729492833,
        "execution_millis": 11,
        "deepnote_to_be_reexecuted": true,
        "cell_id": "1791d84335024478845288ed4edf892c",
        "deepnote_cell_type": "code"
      },
      "outputs": [],
      "execution_count": null,
      "block_group": "c13312bec227432cb490be8af9cda55e"
    },
    {
      "cell_type": "code",
      "source": "from pydrake.all import InverseKinematics\n\n# Create the InverseKinematics object\nplant_context = plant.GetMyMutableContextFromRoot(context)\nik = InverseKinematics(plant, plant_context)\n \n# Set the target frame for the end effector\nend_effector_frame = plant.GetFrameByName(\"arm_link_fngr\")\nik.AddPositionConstraint(\n    frameB=end_effector_frame,\n    p_BQ=np.zeros(3),  # Desired position in the end effector frame\n    frameA=plant.world_frame(),\n    p_AQ_upper = [1,1,1], \n    p_AQ_lower = [-1,-1,0])\n\n# Set the initial guess for joint positions\nq_init_guess = np.zeros(plant.num_positions())\n\n# Solve the IK problem\nprog = ik.get_mutable_prog()\nq = ik.q()\nprog.SetInitialGuess(q, q_init_guess)\nresult = Solve(ik.prog())\n\nif result.is_success():\n    # Get the solution\n    q_solution = result.GetSolution()\n    print(\"IK solution:\", q_solution)\nelse:\n    print(\"IK failed to converge.\")\n\n\n\n#builder = DiagramBuilder()\n#plant_system = builder.AddSystem(plant)\n#ConnectMeshcatVisualizer(builder, plant.get_scene_graph(), output_port=plant.get_visualization_output_port())\n#diagram = builder.Build()\n\n#simulator = Simulator(diagram)\n#context = simulator.get_mutable_context()\n#plant_context = plant.GetMyMutableContextFromRoot(context)\n#plant.SetPositions(plant_context, q_solution)\n\n#simulator.AdvanceTo(1.0)",
      "metadata": {
        "source_hash": null,
        "execution_start": 1701729697022,
        "execution_millis": 8,
        "deepnote_to_be_reexecuted": true,
        "cell_id": "800b040c085e4c728cbe46a820b6e7c1",
        "deepnote_cell_type": "code"
      },
      "outputs": [
        {
          "name": "stdout",
          "text": "IK solution: [-0.14992595  0.          0.          0.         -0.01346539  0.\n  0.         -0.00222175  0.          0.        ]\n",
          "output_type": "stream"
        }
      ],
      "execution_count": null,
      "block_group": "7a20c23f0b2c4e898d832acd8334db18"
    },
    {
      "cell_type": "markdown",
      "source": "<a style='text-decoration:none;line-height:16px;display:flex;color:#5B5B62;padding:10px;justify-content:end;' href='https://deepnote.com?utm_source=created-in-deepnote-cell&projectId=443541ce-e170-4459-8340-438ed0837988' target=\"_blank\">\n<img alt='Created in deepnote.com' style='display:inline;max-height:16px;margin:0px;margin-right:7.5px;' src='data:image/svg+xml;base64,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' > </img>\nCreated in <span style='font-weight:600;margin-left:4px;'>Deepnote</span></a>",
      "metadata": {
        "created_in_deepnote_cell": true,
        "deepnote_cell_type": "markdown"
      }
    }
  ],
  "nbformat": 4,
  "nbformat_minor": 0,
  "metadata": {
    "deepnote": {},
    "kernelspec": {
      "name": "python3",
      "language": "python",
      "display_name": "Python 3.10.8 64-bit"
    },
    "language_info": {
      "name": "python",
      "version": "3.11.6",
      "mimetype": "text/x-python",
      "file_extension": ".py",
      "pygments_lexer": "ipython3",
      "codemirror_mode": {
        "name": "ipython",
        "version": 3
      },
      "nbconvert_exporter": "python"
    },
    "deepnote_notebook_id": "e10b6bb8c507426c81ce2276d7406412",
    "deepnote_execution_queue": [],
    "deepnote_persisted_session": {
      "createdAt": "2023-12-05T01:00:23.677Z"
    }
  }
}